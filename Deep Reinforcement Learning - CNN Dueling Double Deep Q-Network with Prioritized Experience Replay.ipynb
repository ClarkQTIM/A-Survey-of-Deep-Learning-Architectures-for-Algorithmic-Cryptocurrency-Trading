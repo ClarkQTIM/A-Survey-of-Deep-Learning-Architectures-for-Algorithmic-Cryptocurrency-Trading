{
 "cells": [
  {
   "cell_type": "markdown",
   "metadata": {},
   "source": [
    "Before we can run this, we need to go to Anaconda and do:\n",
    "\n",
    "conda activate pytorch\n",
    "\n",
    "Then:\n",
    "\n",
    "python -m jupyterlab"
   ]
  },
  {
   "cell_type": "markdown",
   "metadata": {},
   "source": [
    "# Setting up our Notebook"
   ]
  },
  {
   "cell_type": "code",
   "execution_count": 24,
   "metadata": {},
   "outputs": [],
   "source": [
    "import random\n",
    "import numpy as np\n",
    "import torch\n",
    "import torch.nn as nn\n",
    "import gym\n",
    "import numpy as np\n",
    "import matplotlib.pyplot as plt\n",
    "from scipy.signal import convolve, gaussian\n",
    "\n",
    "import os\n",
    "import io\n",
    "import base64\n",
    "import time\n",
    "import glob\n",
    "from IPython.display import HTML\n",
    "\n",
    "# PCA\n",
    "from sklearn.decomposition import PCA\n",
    "from sklearn.preprocessing import StandardScaler\n",
    "\n",
    "from sklearn.model_selection import train_test_split\n",
    "from collections import deque\n",
    "import pandas as pd\n",
    "\n",
    "# RL\n",
    "from gym import Env\n",
    "from gym.spaces import Discrete, Box\n",
    "import random\n",
    "import torch.nn.functional as F\n",
    "\n",
    "# CNN\n",
    "import torch.nn as nn\n",
    "from torch.optim import Adam\n",
    "\n",
    "%matplotlib inline\n"
   ]
  },
  {
   "cell_type": "markdown",
   "metadata": {},
   "source": [
    "# Importing the data"
   ]
  },
  {
   "cell_type": "code",
   "execution_count": 25,
   "metadata": {},
   "outputs": [],
   "source": [
    "# Importing the data\n",
    "\n",
    "dfs=['Non-Scaled TA Features 1H for BTC.csv']"
   ]
  },
  {
   "cell_type": "markdown",
   "metadata": {},
   "source": [
    "# Double Deep Q-Network with Multi-Layer Perceptron and Prioritized Experience Replay"
   ]
  },
  {
   "cell_type": "markdown",
   "metadata": {},
   "source": [
    "## Getting the train/test data"
   ]
  },
  {
   "cell_type": "code",
   "execution_count": 3,
   "metadata": {},
   "outputs": [],
   "source": [
    "# Defining a function to create PCA matrices\n",
    "\n",
    "def PCA_creation_train_test(no_components, X_train, X_test):\n",
    "    \n",
    "    # Scaling the data with our X_train matrix\n",
    "    scaler=StandardScaler()\n",
    "    X_train=scaler.fit_transform(X_train)\n",
    "    \n",
    "    # Fitting the PCA to our X_train matrix\n",
    "    pca=PCA(n_components=no_components)\n",
    "    X_train=pca.fit_transform(X_train)\n",
    "\n",
    "    # Scaling the X_test \n",
    "    X_test=scaler.transform(X_test)\n",
    "\n",
    "    # Transforming the X_test\n",
    "    X_test=pca.transform(X_test)\n",
    "    \n",
    "    return X_train, X_test"
   ]
  },
  {
   "cell_type": "code",
   "execution_count": 4,
   "metadata": {},
   "outputs": [
    {
     "name": "stdout",
     "output_type": "stream",
     "text": [
      "Index(['BB_upper 10', 'BB_middle 10', 'BB_lower 10', 'Aroon_down 10',\n",
      "       'Aroon_up 10', 'Aroonosc 10', 'RSI 10', 'NATR 10', 'BB_upper 12',\n",
      "       'BB_middle 12',\n",
      "       ...\n",
      "       'MACD Signal 18', 'MACD Hist18', 'Med Price', 'Chaikin A/D Line',\n",
      "       'HT Dom Phase', 'HT Dom Period', 'High', 'Low', 'Close', 'Volume'],\n",
      "      dtype='object', length=101)\n",
      "[ 0.61446374  0.80874465  0.50518634 ...  0.98700007 -0.01400845\n",
      " -0.23385943]\n"
     ]
    }
   ],
   "source": [
    "# Train and test splitting and scaling\n",
    "X=pd.read_csv(dfs[0])\n",
    "\n",
    "X['Date']=pd.to_datetime(X['Date']) # Setting the index as the Date\n",
    "X=X.set_index('Date').asfreq('H')\n",
    "\n",
    "X=X.dropna()\n",
    "y=X['Percent Change']\n",
    "X=X.drop('Label', axis=1)\n",
    "X=X.drop('Percent Change', axis=1)\n",
    "\n",
    "\n",
    "# Removing the testing data\n",
    "X_test=X[-4380:] # Getting the last 6 months as the testing data\n",
    "print(X_test.columns)\n",
    "y_test=y[-4380:].values\n",
    "\n",
    "X=X[:-4380] # Getting everything but the first 6 months as the training data\n",
    "y=y[:-4380]\n",
    "print(y_test)"
   ]
  },
  {
   "cell_type": "code",
   "execution_count": 5,
   "metadata": {},
   "outputs": [],
   "source": [
    "# Image creation function\n",
    "\n",
    "def image_creation(n_steps, X, y):\n",
    "    X_images=[]\n",
    "    y_values=[]\n",
    "    \n",
    "    for i in range(n_steps, len(X)):\n",
    "        img=X[i-n_steps,:]\n",
    "        img=np.vstack((img, X[i-n_steps+1,:]))\n",
    "        img=np.vstack((img, X[i-n_steps+2,:]))\n",
    "        img=np.vstack((img, X[i-n_steps+3,:]))\n",
    "        img=np.vstack((img, X[i-n_steps+4,:]))\n",
    "        img=np.vstack((img, X[i-n_steps+5,:]))\n",
    "        img=np.vstack((img, X[i-n_steps+6,:]))\n",
    "        img=np.vstack((img, X[i-n_steps+7,:]))\n",
    "        img=np.vstack((img, X[i-n_steps+8,:]))\n",
    "        img=np.vstack((img, X[i-n_steps+9,:]))\n",
    "        img=np.vstack((img, X[i-n_steps+10,:]))\n",
    "        img=np.vstack((img, X[i-n_steps+11,:]))\n",
    "        X_images.append(img)\n",
    "        y_values.append(y[i-n_steps+11])\n",
    "        \n",
    "    return X_images, np.array(y_values) # Note, this will not include the very last one."
   ]
  },
  {
   "cell_type": "code",
   "execution_count": 6,
   "metadata": {},
   "outputs": [
    {
     "name": "stdout",
     "output_type": "stream",
     "text": [
      "[ 0.29675316 -0.8274389   0.47853097 ...  0.37927447  0.98700007\n",
      " -0.01400845]\n",
      "X_train shape: (26264, 1, 12, 20)\n",
      "26264 train samples\n",
      "4368 test samples\n"
     ]
    }
   ],
   "source": [
    "n_steps=12\n",
    "\n",
    "# First, we create our PCA matrices from the X and X_test\n",
    "X, X_test=PCA_creation_train_test(20, X, X_test)\n",
    "    \n",
    "# Getting the X and X_test matrices' images\n",
    "X_train, y_train=image_creation(n_steps, X ,y)\n",
    "X_test, y_test=image_creation(n_steps, X_test, y_test)\n",
    "print(y_test)\n",
    "y_train=np.array(y_train)\n",
    "y_test=np.array(y_test)\n",
    "\n",
    "# Finalizing the shapes\n",
    "num_classes = 2\n",
    "input_shape = (n_steps, len(X[0]), 1)\n",
    "\n",
    "# Add a dimension at the beginning end to make sure images have shape (1, n_steps, n_features)\n",
    "# Note this is the OPPOSITE of tensorflow\n",
    "X_train = np.expand_dims(X_train, 1)\n",
    "X_test = np.expand_dims(X_test, 1)\n",
    "print(\"X_train shape:\", X_train.shape)\n",
    "print(X_train.shape[0], \"train samples\")\n",
    "print(X_test.shape[0], \"test samples\")"
   ]
  },
  {
   "cell_type": "code",
   "execution_count": 7,
   "metadata": {},
   "outputs": [
    {
     "name": "stdout",
     "output_type": "stream",
     "text": [
      "[[[-3.48131856e+00  2.32702870e+00  1.09005036e-02 -3.05954125e+00\n",
      "   -2.85645115e-01  8.96446781e-01  7.40932602e-01 -2.55452464e-01\n",
      "   -9.72525663e-01 -1.57582953e+00  5.44588741e-01 -6.88520313e-02\n",
      "    4.69687833e-01 -4.49557036e-01 -1.12239006e+00  1.12332131e+00\n",
      "   -5.37782977e-01 -1.56128667e-01 -2.12577550e-01 -7.09511086e-01]\n",
      "  [-3.40993583e+00  1.04015526e+00  1.68968189e+00 -3.98142807e+00\n",
      "   -5.22621186e-01  1.55378608e+00  9.18077486e-01  2.87289026e-01\n",
      "   -4.34854556e-01 -1.13170902e+00  5.81258009e-01  9.58746300e-02\n",
      "    9.23525455e-01 -2.38887111e-01 -1.58935155e+00  1.12190979e+00\n",
      "   -1.69590593e-01 -3.12505963e-01 -4.14320370e-02 -1.01523990e+00]\n",
      "  [-3.39991632e+00  4.76772294e-01  1.74111349e+00 -3.39636618e+00\n",
      "   -7.61787916e-01  9.53808346e-01  2.75988534e-01  6.28302730e-01\n",
      "    5.50425804e-01 -9.56884664e-01  6.13056959e-01  8.26542561e-02\n",
      "    1.30336396e+00 -2.34316176e-01 -1.89510908e+00  1.28796476e+00\n",
      "   -5.66557100e-03 -2.91436847e-01 -1.36210856e-01 -1.07666294e+00]\n",
      "  [-3.47639047e+00  8.29409499e-01 -3.04728707e-01 -1.02491425e+00\n",
      "   -1.02606396e+00 -9.33811649e-01 -1.11395098e+00  6.15889826e-01\n",
      "    2.08117345e+00 -1.14620826e+00  5.56516915e-01  1.49061563e-01\n",
      "    1.38554182e+00 -3.88295514e-01 -1.98005040e+00  1.55594164e+00\n",
      "   -2.01448248e-01 -2.45218671e-01 -1.14411104e-01 -6.82307428e-01]\n",
      "  [-3.35157423e+00 -7.56470673e-01  6.72454132e-01 -1.24365283e+00\n",
      "   -1.02199762e+00  2.30997592e-02 -1.01392492e+00  7.53642326e-01\n",
      "    8.41535374e-01 -1.96468735e+00  4.01056759e-01  7.55346493e-01\n",
      "    7.30076563e-01 -4.26384234e-01 -1.57397127e+00  1.38363683e+00\n",
      "   -1.01625149e+00  2.81638526e-01  4.93213584e-04 -5.21345837e-01]\n",
      "  [-3.31211531e+00 -1.69387919e+00  1.63737759e+00 -1.17212534e+00\n",
      "   -1.33331851e+00 -1.08904355e-01 -1.34060632e+00  1.94599283e+00\n",
      "   -1.05351916e-01 -2.04559041e+00  3.95366061e-01  7.12250574e-01\n",
      "    1.28448308e-01  5.88758125e-02  1.10478197e+00 -7.31771129e-02\n",
      "   -4.23582192e-02  2.62790090e-02 -2.57610603e-01 -1.19186742e-01]\n",
      "  [-3.30539280e+00 -1.41102404e+00  1.33843289e+00 -1.50733453e+00\n",
      "   -1.12573164e+00  3.93226445e-01 -5.13452836e-01  8.23740314e-01\n",
      "    3.87497738e-01 -7.40850536e-01  4.71535766e-01 -1.11810864e+00\n",
      "    5.19980336e-01 -5.27031607e-01  1.88337017e+00  1.36393417e-01\n",
      "    9.03323471e-01  1.45189418e+00 -1.12198585e+00 -8.45979104e-02]\n",
      "  [-3.60914568e+00  6.55349051e+00 -2.50992821e+00 -5.75468661e-01\n",
      "    5.84929870e-01 -4.26454151e+00 -2.05630276e+00 -1.51948269e+00\n",
      "    2.35207503e-01  3.05470841e-01  6.58658056e-01 -1.07469013e+00\n",
      "   -9.10100412e-02  2.19549722e-01  5.49317622e-01 -4.68704652e-01\n",
      "    5.01620522e-01  6.49061822e-02  1.17693290e-02 -8.52168385e-01]\n",
      "  [-3.57402665e+00  6.14077647e+00 -1.67378701e+00 -1.57637380e+00\n",
      "    6.21187167e-01 -2.89246211e+00 -1.31359572e+00 -1.63754954e+00\n",
      "   -7.41363976e-01 -3.51112380e-01  5.56921837e-01 -8.14620359e-01\n",
      "   -3.82754114e-01 -8.76445525e-02  1.09706046e+00 -3.73532197e-01\n",
      "    2.12991513e-01  2.17123049e-01 -6.14239000e-02 -2.64749324e-01]\n",
      "  [-3.71097164e+00  7.82765047e+00 -4.04445242e+00  1.43291956e-01\n",
      "    6.32344206e-01 -3.35052426e+00 -1.08864708e+00 -1.38570650e+00\n",
      "   -8.16782460e-01 -6.97386432e-01  3.76985232e-01 -1.08986054e+00\n",
      "   -6.15596163e-01  1.76772199e-01  1.10412996e+00 -6.59081960e-01\n",
      "   -1.38197130e-01  3.48678463e-02 -1.14518166e-01 -3.84217493e-02]\n",
      "  [-3.68889830e+00  7.70305222e+00 -2.40449500e+00 -1.51367400e+00\n",
      "    6.44951441e-01 -1.75931553e+00  1.67511829e-01 -7.33327631e-01\n",
      "   -1.89330255e+00 -4.19862915e-01  3.21232622e-01 -8.52683117e-01\n",
      "   -7.04848382e-01  2.79279588e-01  1.03352550e+00 -7.19794965e-01\n",
      "   -5.38325480e-02 -4.71783761e-02 -3.33175151e-02  9.91606670e-02]\n",
      "  [-3.71961956e+00  7.48774939e+00 -2.44809547e+00 -1.45329232e+00\n",
      "    4.17663352e-01 -9.68541627e-01  8.64199682e-01 -1.12207742e-01\n",
      "   -1.89731431e+00 -7.75707644e-01  7.81589411e-02 -7.94785209e-01\n",
      "   -6.67549364e-01  5.73974601e-01  8.82127466e-01 -9.17043255e-01\n",
      "   -4.46378565e-02 -3.89254026e-01 -1.61694293e-01  3.03465932e-01]]] 0.1279997523583986\n"
     ]
    }
   ],
   "source": [
    "# print(y_train)\n",
    "# print(y)\n",
    "print(X_train[0],y_train[0])"
   ]
  },
  {
   "cell_type": "markdown",
   "metadata": {},
   "source": [
    "## Financial Environment"
   ]
  },
  {
   "cell_type": "code",
   "execution_count": 8,
   "metadata": {},
   "outputs": [],
   "source": [
    "class FinEnv(Env):\n",
    "    # A custom Bitcoin trading environment\n",
    "    def __init__(self, df, y, initial_balance=1000):\n",
    "        # Define action space and state size and other custom parameters\n",
    "        self.df = df\n",
    "        self.y = y\n",
    "        self.df_total_steps = len(self.df) # How many steps we can possibly take\n",
    "        self.initial_balance = initial_balance # How much we start with\n",
    "        self.holding_asset = 0 # We use this to indicate if we are holding an asset or not. 0 is No, 1 is Yes\n",
    "        self.actions_taken=[] # Keeping a log of our actions\n",
    "        \n",
    "        # Orders history contains the our net worth at each step\n",
    "        self.orders_history = deque(maxlen=self.df_total_steps)\n",
    "        \n",
    "        # Market history contains the current market values\n",
    "        self.market_history = deque(maxlen=1)\n",
    "\n",
    "        # Action space. 1 is Buy and 0 is Sell\n",
    "        self.action_space = np.array([0, 1])\n",
    "\n",
    "        # State size contains the 20 PCA data points per time for 12 time slices\n",
    "        self.state_size = df[0].shape\n",
    "\n",
    "    # Reset the state of the environment to an initial state\n",
    "    def reset(self, env_steps_size=0):\n",
    "        self.net_worth = self.initial_balance\n",
    "        self.prev_net_worth = self.initial_balance\n",
    "        self.holding_asset = 0 # We are not holding anything in the beginning\n",
    "        self.actions_taken=[] # Keeping a log of our actions\n",
    "        if env_steps_size > 0: # used for training dataset\n",
    "            self.start_step = random.randint(0, self.df_total_steps - env_steps_size) # Picks a random step to start from\n",
    "            self.end_step = self.start_step + env_steps_size # Runs from the randomly chosen step to that step+env_steps we want\n",
    "        else: # used for testing dataset\n",
    "            self.start_step = 0\n",
    "            self.end_step = self.df_total_steps-1\n",
    "\n",
    "        self.current_step = self.start_step\n",
    "\n",
    "        self.state = self.df[self.current_step] # State is the state of the market\n",
    "        # print('Beginning State', self.state)\n",
    "\n",
    "        return self.state\n",
    "\n",
    "    # Get the data points for the given current_step\n",
    "    def _next_observation(self):\n",
    "        obs = self.df[self.current_step] # Will be what the nn sees to make a decision\n",
    "        # print('Obs next_observation', obs)\n",
    "        return obs\n",
    "\n",
    "    # Execute one time step within the environment\n",
    "    def step(self, action):\n",
    "        # print('Action', action)\n",
    "        # Percent Change\n",
    "        self.percent_change=self.y[self.current_step]\n",
    "        # print('Percent Change on this step', self.percent_change)\n",
    "        \n",
    "        if action == 1 and self.holding_asset == 0: # Enter the market with all of your current net worth. It is affected\n",
    "            # by the percent change\n",
    "            self.net_worth = self.prev_net_worth * (1 + self.percent_change/100)\n",
    "            self.holding_asset = 1 # You are now holding an asset\n",
    "            self.actions_taken.append('Bought')\n",
    "            \n",
    "        elif action == 1 and self.holding_asset == 1: # You already bought and are waiting to sell. It is affected by the \n",
    "            # percent change\n",
    "            self.net_worth = self.prev_net_worth * (1 + self.percent_change/100)\n",
    "            # Your holding_asset does not change\n",
    "            self.actions_taken.append('Buy signal, but we are waiting to sell')\n",
    "            pass\n",
    "\n",
    "        elif action == 0 and self.holding_asset == 1: # You leave the market\n",
    "            self.net_worth = self.prev_net_worth # Your net worth doesn't change\n",
    "            self.holding_asset = 0 # You are no longer holding any assets\n",
    "            self.actions_taken.append('Sold')\n",
    "            \n",
    "        elif action==0  and self.holding_asset == 0: # You already sold and are waiting for a buy signal\n",
    "            self.net_worth = self.prev_net_worth # Your net worth doesn't change\n",
    "            # Your holding_asset does not change\n",
    "            self.actions_taken.append('Sell signal, but we are waiting to buy')\n",
    "            pass\n",
    "        # Reward\n",
    "        reward=self.net_worth-self.prev_net_worth # Our reward is the change in our net worth\n",
    "        \n",
    "        # Updating our prev_net_worth\n",
    "        self.prev_net_worth = self.net_worth # Updating our prev_net_worth for the next time step\n",
    "        # print('Net worth after market acts', self.prev_net_worth)\n",
    "\n",
    "        self.orders_history.append([self.net_worth]) # Adding our net worth to our orders_history\n",
    "        \n",
    "        # Leave the market if we have lost half our money\n",
    "        if self.net_worth <= self.initial_balance/2:\n",
    "            done = True\n",
    "        else:\n",
    "            done = False\n",
    "\n",
    "        # Stepping into the next state\n",
    "        if self.current_step == self.end_step:\n",
    "            # print('We are done stepping', self.current_step)\n",
    "            obs=[]\n",
    "            done = True\n",
    "        else:    \n",
    "            self.current_step += 1    \n",
    "            obs = self._next_observation() # Moves us to the next observation\n",
    "        \n",
    "        # Set net worths as info so we can retrieve it at the end\n",
    "        info = self.orders_history\n",
    "        \n",
    "        # Return step information   \n",
    "        return obs, reward, done, info\n",
    "    # render environment\n",
    "    def render(self, mode='human'): # 'mode=human' is required for the Keras-RL package\n",
    "        print(f'Step: {self.current_step}, Beginning Net Worth: {self.net_worth}')"
   ]
  },
  {
   "cell_type": "markdown",
   "metadata": {},
   "source": [
    "## Random Games"
   ]
  },
  {
   "cell_type": "code",
   "execution_count": 28,
   "metadata": {},
   "outputs": [],
   "source": [
    "def Random_games(env, episodes = 50, steps=1000):\n",
    "    for episode in range(episodes): # Runs through however many number of training episodes\n",
    "        state = env.reset(env_steps_size = steps) # Sets the env_step_size to the batch size\n",
    "\n",
    "        while True:\n",
    "            # env.render()\n",
    "\n",
    "            action = np.random.randint(2, size=1)[0]\n",
    "\n",
    "            state, reward, done, info = env.step(action)\n",
    "            # print('Reward', reward)\n",
    "            # print('End Net Worth', info[-1])\n",
    "            \n",
    "\n",
    "            if env.current_step == env.end_step:\n",
    "                print(len(info))\n",
    "                break"
   ]
  },
  {
   "cell_type": "code",
   "execution_count": 29,
   "metadata": {
    "tags": []
   },
   "outputs": [
    {
     "name": "stdout",
     "output_type": "stream",
     "text": [
      "4367\n"
     ]
    }
   ],
   "source": [
    "# Playing a random game to confirm our environment is working\n",
    "\n",
    "# Setting up the environment\n",
    "df=X_test\n",
    "y=y_test\n",
    "train_env = FinEnv(df, y)\n",
    "\n",
    "# Random Game\n",
    "Random_games(train_env, episodes = 1, steps=0)"
   ]
  },
  {
   "cell_type": "code",
   "execution_count": 11,
   "metadata": {},
   "outputs": [
    {
     "name": "stdout",
     "output_type": "stream",
     "text": [
      "[[[-3.35157423e+00 -7.56470673e-01  6.72454132e-01 -1.24365283e+00\n",
      "   -1.02199762e+00  2.30997592e-02 -1.01392492e+00  7.53642326e-01\n",
      "    8.41535374e-01 -1.96468735e+00  4.01056759e-01  7.55346493e-01\n",
      "    7.30076563e-01 -4.26384234e-01 -1.57397127e+00  1.38363683e+00\n",
      "   -1.01625149e+00  2.81638526e-01  4.93213584e-04 -5.21345837e-01]\n",
      "  [-3.31211531e+00 -1.69387919e+00  1.63737759e+00 -1.17212534e+00\n",
      "   -1.33331851e+00 -1.08904355e-01 -1.34060632e+00  1.94599283e+00\n",
      "   -1.05351916e-01 -2.04559041e+00  3.95366061e-01  7.12250574e-01\n",
      "    1.28448308e-01  5.88758125e-02  1.10478197e+00 -7.31771129e-02\n",
      "   -4.23582192e-02  2.62790090e-02 -2.57610603e-01 -1.19186742e-01]\n",
      "  [-3.30539280e+00 -1.41102404e+00  1.33843289e+00 -1.50733453e+00\n",
      "   -1.12573164e+00  3.93226445e-01 -5.13452836e-01  8.23740314e-01\n",
      "    3.87497738e-01 -7.40850536e-01  4.71535766e-01 -1.11810864e+00\n",
      "    5.19980336e-01 -5.27031607e-01  1.88337017e+00  1.36393417e-01\n",
      "    9.03323471e-01  1.45189418e+00 -1.12198585e+00 -8.45979104e-02]\n",
      "  [-3.60914568e+00  6.55349051e+00 -2.50992821e+00 -5.75468661e-01\n",
      "    5.84929870e-01 -4.26454151e+00 -2.05630276e+00 -1.51948269e+00\n",
      "    2.35207503e-01  3.05470841e-01  6.58658056e-01 -1.07469013e+00\n",
      "   -9.10100412e-02  2.19549722e-01  5.49317622e-01 -4.68704652e-01\n",
      "    5.01620522e-01  6.49061822e-02  1.17693290e-02 -8.52168385e-01]\n",
      "  [-3.57402665e+00  6.14077647e+00 -1.67378701e+00 -1.57637380e+00\n",
      "    6.21187167e-01 -2.89246211e+00 -1.31359572e+00 -1.63754954e+00\n",
      "   -7.41363976e-01 -3.51112380e-01  5.56921837e-01 -8.14620359e-01\n",
      "   -3.82754114e-01 -8.76445525e-02  1.09706046e+00 -3.73532197e-01\n",
      "    2.12991513e-01  2.17123049e-01 -6.14239000e-02 -2.64749324e-01]\n",
      "  [-3.71097164e+00  7.82765047e+00 -4.04445242e+00  1.43291956e-01\n",
      "    6.32344206e-01 -3.35052426e+00 -1.08864708e+00 -1.38570650e+00\n",
      "   -8.16782460e-01 -6.97386432e-01  3.76985232e-01 -1.08986054e+00\n",
      "   -6.15596163e-01  1.76772199e-01  1.10412996e+00 -6.59081960e-01\n",
      "   -1.38197130e-01  3.48678463e-02 -1.14518166e-01 -3.84217493e-02]\n",
      "  [-3.68889830e+00  7.70305222e+00 -2.40449500e+00 -1.51367400e+00\n",
      "    6.44951441e-01 -1.75931553e+00  1.67511829e-01 -7.33327631e-01\n",
      "   -1.89330255e+00 -4.19862915e-01  3.21232622e-01 -8.52683117e-01\n",
      "   -7.04848382e-01  2.79279588e-01  1.03352550e+00 -7.19794965e-01\n",
      "   -5.38325480e-02 -4.71783761e-02 -3.33175151e-02  9.91606670e-02]\n",
      "  [-3.71961956e+00  7.48774939e+00 -2.44809547e+00 -1.45329232e+00\n",
      "    4.17663352e-01 -9.68541627e-01  8.64199682e-01 -1.12207742e-01\n",
      "   -1.89731431e+00 -7.75707644e-01  7.81589411e-02 -7.94785209e-01\n",
      "   -6.67549364e-01  5.73974601e-01  8.82127466e-01 -9.17043255e-01\n",
      "   -4.46378565e-02 -3.89254026e-01 -1.61694293e-01  3.03465932e-01]\n",
      "  [-3.68543103e+00  6.65962627e+00 -8.58543527e-01 -2.59302026e+00\n",
      "    2.11247081e-01  7.37624195e-02  1.54090712e+00  7.66098187e-01\n",
      "   -1.87987573e+00 -5.70836641e-01 -9.82986363e-02 -7.01650376e-01\n",
      "   -3.40295434e-01  6.99695021e-01  5.48959861e-01 -8.12011684e-01\n",
      "    2.00277499e-01 -6.70683263e-01 -1.09070989e-01 -3.53036325e-01]\n",
      "  [-3.73052337e+00  6.44498827e+00 -1.31841723e+00 -1.91877681e+00\n",
      "   -7.20818069e-02 -2.95008380e-01  1.28398134e+00  1.13671085e+00\n",
      "   -3.59691837e-01 -9.12325212e-01 -3.38663954e-01 -6.35493361e-01\n",
      "    1.10750054e-01  9.45756040e-01  1.86292552e-01 -8.45175437e-01\n",
      "    4.73747116e-01 -9.00192634e-01  1.21350559e-01 -1.49115945e-02]\n",
      "  [-3.64023831e+00  4.99376799e+00  8.71535384e-01 -3.19408045e+00\n",
      "   -2.72541536e-01  3.00836265e-01  1.31571872e+00  1.78023118e+00\n",
      "    3.46844100e-01 -5.27730510e-01 -2.73070763e-01 -5.10866237e-01\n",
      "    6.87070327e-01  9.28618757e-01 -9.58452341e-02 -6.68254216e-01\n",
      "    6.33738791e-01 -9.52588293e-01  1.38824054e-01 -3.29935211e-01]\n",
      "  [-3.73996634e+00  5.57637545e+00 -1.64915698e+00 -4.65762867e-01\n",
      "   -5.00338208e-01 -1.92369879e+00 -3.07218840e-01  1.71127702e+00\n",
      "    2.51439929e+00 -1.18245904e+00 -4.19798301e-01 -5.00681746e-01\n",
      "    8.86428291e-01  6.97672504e-01 -4.90202687e-02 -3.56605707e-01\n",
      "    3.63241318e-01 -8.36175636e-01  1.34217271e-01  3.53250712e-01]]]\n",
      "[ 0.12799975 -0.04142694  0.22268477 -0.30566554  0.155236  ]\n"
     ]
    }
   ],
   "source": [
    "# print(X_train[0], y_train[0])\n",
    "# print(X_train[1], y_train[1])\n",
    "print(X_train[4])\n",
    "print(y_train[:5])"
   ]
  },
  {
   "cell_type": "markdown",
   "metadata": {},
   "source": [
    "## Building the network"
   ]
  },
  {
   "cell_type": "markdown",
   "metadata": {},
   "source": [
    "### Dueling DQN"
   ]
  },
  {
   "cell_type": "code",
   "execution_count": 12,
   "metadata": {},
   "outputs": [
    {
     "data": {
      "text/plain": [
       "device(type='cpu')"
      ]
     },
     "execution_count": 12,
     "metadata": {},
     "output_type": "execute_result"
    }
   ],
   "source": [
    "# Setting up the device\n",
    "\n",
    "device = torch.device('cuda' if torch.cuda.is_available() else 'cpu')\n",
    "device"
   ]
  },
  {
   "cell_type": "code",
   "execution_count": 13,
   "metadata": {},
   "outputs": [
    {
     "name": "stdout",
     "output_type": "stream",
     "text": [
      "State Shape (1, 12, 20)\n",
      "Number of actions 2\n"
     ]
    }
   ],
   "source": [
    "# Setting up the states and actions\n",
    "state_shape = train_env.state_size\n",
    "n_actions = len(train_env.action_space)\n",
    "print('State Shape',state_shape)\n",
    "print('Number of actions', n_actions)"
   ]
  },
  {
   "cell_type": "code",
   "execution_count": 14,
   "metadata": {},
   "outputs": [],
   "source": [
    "# Creating the Dueling DQN Agent\n",
    "\n",
    "class DuelingDQNAgent(nn.Module):\n",
    "    def __init__(self, state_shape, n_actions, epsilon=0):\n",
    "\n",
    "        super().__init__()\n",
    "        self.epsilon = epsilon\n",
    "        self.n_actions = n_actions\n",
    "        self.state_shape = state_shape\n",
    "\n",
    "        # Conv and Pool Network\n",
    "    \n",
    "        self.conv_network = nn.Sequential()\n",
    "        self.conv_network.add_module('conv', nn.Conv2d(1, 64, kernel_size=3, stride=1, padding=0)) # 'Valid' padding\n",
    "        self.conv_network.add_module('tanh', nn.Tanh())\n",
    "        self.conv_network.add_module('avg_pool', nn.AvgPool2d(kernel_size=2, stride=2, padding=0))\n",
    "        self.conv_network.add_module('flatten', nn.Flatten())\n",
    "\n",
    "        # MLP Network for both Value and Advantage go through\n",
    "\n",
    "        self.fc_network = nn.Sequential()\n",
    "        self.fc_network.add_module('linear1', nn.Linear(2880, 512))\n",
    "        self.fc_network.add_module('tanh1', nn.Tanh())\n",
    "        self.fc_network.add_module('Dropout1', nn.Dropout(0.6))\n",
    "        self.fc_network.add_module('linear2', nn.Linear(512, 512))\n",
    "        self.fc_network.add_module('tanh2', nn.Tanh())\n",
    "        self.fc_network.add_module('Dropout2', nn.Dropout(0.6))\n",
    "\n",
    "        # Value Layer\n",
    "        self.value = nn.Linear(512, 1)\n",
    "\n",
    "        # Advantage Layer\n",
    "        self.adv = nn.Linear(512, n_actions)\n",
    "\n",
    "    def forward(self, state_t):\n",
    "        # pass the state at time t through the network to get Q(s,a)\n",
    "        x = self.conv_network(state_t)\n",
    "        x = self.fc_network(x)\n",
    "        v = self.value(x)\n",
    "        adv = self.adv(x)\n",
    "        adv_avg = torch.mean(adv, dim=1, keepdim=True)\n",
    "        qvalues = v + adv - adv_avg\n",
    "        return qvalues\n",
    "\n",
    "    def get_qvalues(self, states):\n",
    "        # input is an array of states in numpy and output is Qvals as numpy array\n",
    "        states = torch.tensor(states, device=device, dtype=torch.float32)\n",
    "        qvalues = self.forward(states)\n",
    "        return qvalues.data.cpu().numpy()\n",
    "\n",
    "    def sample_actions(self, qvalues):\n",
    "        # sample actions from a batch of q_values using epsilon greedy policy\n",
    "        epsilon = self.epsilon\n",
    "        batch_size, n_actions = qvalues.shape\n",
    "        random_actions = np.random.choice(n_actions, size=batch_size)\n",
    "        best_actions = qvalues.argmax(axis=-1)\n",
    "        should_explore = np.random.choice(\n",
    "            [0, 1], batch_size, p=[1-epsilon, epsilon])\n",
    "        return np.where(should_explore, random_actions, best_actions)"
   ]
  },
  {
   "cell_type": "code",
   "execution_count": 15,
   "metadata": {},
   "outputs": [],
   "source": [
    "# Instantiation of the agent\n",
    "\n",
    "agent = DuelingDQNAgent(state_shape, n_actions, epsilon=0.5).to(device)"
   ]
  },
  {
   "cell_type": "code",
   "execution_count": 16,
   "metadata": {},
   "outputs": [],
   "source": [
    "# Evaluation function\n",
    "\n",
    "def evaluate(env, agent, n_games=1, greedy=False, t_max=10000):\n",
    "    rewards = []\n",
    "    for _ in range(n_games):\n",
    "        s = env.reset()\n",
    "        reward = 0\n",
    "        for _ in range(t_max):\n",
    "            qvalues = agent.get_qvalues([s])\n",
    "            action = qvalues.argmax(axis=-1)[0] if greedy else agent.sample_actions(qvalues)[0]\n",
    "            s, r, done, info = env.step(action)\n",
    "            reward += r\n",
    "            if done:\n",
    "                break\n",
    "\n",
    "        rewards.append(reward)\n",
    "    return np.mean(rewards), info"
   ]
  },
  {
   "cell_type": "markdown",
   "metadata": {},
   "source": [
    "# Prioritized Experience replay"
   ]
  },
  {
   "cell_type": "code",
   "execution_count": 17,
   "metadata": {},
   "outputs": [],
   "source": [
    "class PrioritizedReplayBuffer:\n",
    "    def __init__(self, size, alpha=0.6, beta=0.4):\n",
    "        self.size = size #max number of items in buffer\n",
    "        self.buffer =[] #array to holde buffer\n",
    "        self.next_id = 0\n",
    "        self.alpha = alpha\n",
    "        self.beta = beta\n",
    "        self.priorities = np.ones(size)\n",
    "        self.epsilon = 1e-5\n",
    "    \n",
    "    def __len__(self):\n",
    "        return len(self.buffer)\n",
    "    \n",
    "    def add(self, state, action, reward, next_state, done):\n",
    "        item = (state, action, reward, next_state, done)\n",
    "        max_priority = self.priorities.max()\n",
    "        if len(self.buffer) < self.size:\n",
    "            self.buffer.append(item)\n",
    "        else:\n",
    "            self.buffer[self.next_id] = item\n",
    "        self.priorities[self.next_id] = max_priority\n",
    "        self.next_id = (self.next_id + 1) % self.size\n",
    "        \n",
    "    def sample(self, batch_size):\n",
    "        priorities = self.priorities[:len(self.buffer)]\n",
    "        probabilities = priorities ** self.alpha\n",
    "        probabilities /= probabilities.sum()\n",
    "        N = len(self.buffer)\n",
    "        weights = (N * probabilities) ** (-self.beta)\n",
    "        weights /= weights.max()\n",
    "\n",
    "        idxs = np.random.choice(len(self.buffer), batch_size, p=probabilities)\n",
    "\n",
    "        samples = [self.buffer[i] for i in idxs]\n",
    "        states, actions, rewards, next_states, done_flags = list(zip(*samples))\n",
    "        weights = weights[idxs]\n",
    "        \n",
    "        \n",
    "        return  (np.array(states), np.array(actions), np.array(rewards), \n",
    "                np.array(next_states), np.array(done_flags), np.array(weights), np.array(idxs))\n",
    "        \n",
    "    def update_priorities(self, idxs, new_priorities):\n",
    "        self.priorities[idxs] = new_priorities+self.epsilon"
   ]
  },
  {
   "cell_type": "code",
   "execution_count": 18,
   "metadata": {},
   "outputs": [],
   "source": [
    "def play_and_record(start_state, agent, env, exp_replay, n_steps=1):\n",
    "\n",
    "    s = start_state\n",
    "    sum_rewards = 0\n",
    "\n",
    "    # Play the game for n_steps and record transitions in buffer\n",
    "    for _ in range(n_steps):\n",
    "        qvalues = agent.get_qvalues([s])\n",
    "        a = agent.sample_actions(qvalues)[0]        \n",
    "        next_s, r, done, _ = env.step(a)\n",
    "        sum_rewards += r\n",
    "        exp_replay.add(s, a, r, next_s, done)\n",
    "        if done:\n",
    "            s = env.reset()\n",
    "        else:\n",
    "            s = next_s\n",
    "        \n",
    "    return sum_rewards, s"
   ]
  },
  {
   "cell_type": "markdown",
   "metadata": {},
   "source": [
    "### Target network"
   ]
  },
  {
   "cell_type": "code",
   "execution_count": 19,
   "metadata": {},
   "outputs": [
    {
     "data": {
      "text/plain": [
       "<All keys matched successfully>"
      ]
     },
     "execution_count": 19,
     "metadata": {},
     "output_type": "execute_result"
    }
   ],
   "source": [
    "target_network = DuelingDQNAgent(agent.state_shape, agent.n_actions, epsilon=0.5).to(device)\n",
    "target_network.load_state_dict(agent.state_dict())"
   ]
  },
  {
   "cell_type": "markdown",
   "metadata": {},
   "source": [
    "### Learning with Double DQN"
   ]
  },
  {
   "cell_type": "code",
   "execution_count": 20,
   "metadata": {},
   "outputs": [],
   "source": [
    "def compute_td_loss_priority_replay_ddqn(agent, target_network, replay_buffer,\n",
    "                                    states, actions, rewards, next_states, done_flags, weights, buffer_idxs,\n",
    "                                    gamma=0.99, device=device):\n",
    "\n",
    "    # convert numpy array to torch tensors\n",
    "    states = torch.tensor(states, device=device, dtype=torch.float)\n",
    "    actions = torch.tensor(actions, device=device, dtype=torch.long)\n",
    "    rewards = torch.tensor(rewards, device=device, dtype=torch.float)\n",
    "    next_states = torch.tensor(next_states, device=device, dtype=torch.float)\n",
    "    done_flags = torch.tensor(done_flags.astype('float32'),device=device,dtype=torch.float)\n",
    "    weights = torch.tensor(weights, device=device, dtype=torch.float)\n",
    "\n",
    "    # get q-values for all actions in current states\n",
    "    # use agent network\n",
    "    predicted_qvalues = agent(states)\n",
    "\n",
    "    # compute q-values for all actions in next states\n",
    "    # use target network\n",
    "    predicted_next_qvalues = target_network(next_states)\n",
    "    \n",
    "    # select q-values for chosen actions\n",
    "    predicted_qvalues_for_actions = predicted_qvalues[range(\n",
    "        len(actions)), actions]\n",
    "    \n",
    "    # Same up to here as the regular DQN\n",
    "\n",
    "    # compute q-values for all actions in next states\n",
    "    # use agent network (online network)\n",
    "    qvalues_next_states = agent(next_states).detach()\n",
    "    \n",
    "    # compute Q argmax(next_states, actions) using predicted next q-values\n",
    "    _,a1max = torch.max(qvalues_next_states, dim=1)\n",
    "\n",
    "    #use target network to calculate the q value for best action chosen above\n",
    "    qvalues_next_states_target = target_network(next_states)\n",
    "\n",
    "    qvalues_next_states_target_max = qvalues_next_states_target[range(len(a1max)), a1max]\n",
    "\n",
    "    # compute \"target q-values\" \n",
    "    target_q = rewards + gamma * qvalues_next_states_target_max * (1-done_flags)\n",
    "\n",
    "    # mean squared error loss to minimize\n",
    "    loss = torch.mean((predicted_qvalues_for_actions - target_q).pow(2))\n",
    "\n",
    "    return loss"
   ]
  },
  {
   "cell_type": "markdown",
   "metadata": {},
   "source": [
    "## Main loop"
   ]
  },
  {
   "cell_type": "code",
   "execution_count": 21,
   "metadata": {},
   "outputs": [],
   "source": [
    "from tqdm import trange\n",
    "from IPython.display import clear_output\n",
    "import matplotlib.pyplot as plt"
   ]
  },
  {
   "cell_type": "code",
   "execution_count": 22,
   "metadata": {},
   "outputs": [
    {
     "data": {
      "text/plain": [
       "<torch._C.Generator at 0x17db3383190>"
      ]
     },
     "execution_count": 22,
     "metadata": {},
     "output_type": "execute_result"
    }
   ],
   "source": [
    "# set a seed\n",
    "seed = 100\n",
    "random.seed(seed)\n",
    "np.random.seed(seed)\n",
    "torch.manual_seed(seed)"
   ]
  },
  {
   "cell_type": "code",
   "execution_count": 23,
   "metadata": {},
   "outputs": [
    {
     "name": "stdout",
     "output_type": "stream",
     "text": [
      "State Shape (1, 12, 20)\n",
      "Number of actions 2\n"
     ]
    },
    {
     "data": {
      "text/plain": [
       "<All keys matched successfully>"
      ]
     },
     "execution_count": 23,
     "metadata": {},
     "output_type": "execute_result"
    }
   ],
   "source": [
    "# Setting up the agent, environment, and target networks\n",
    "\n",
    "df=X_train\n",
    "y=y_train\n",
    "train_env = FinEnv(df, y)\n",
    "state_shape = train_env.state_size\n",
    "n_actions = len(train_env.action_space)\n",
    "print('State Shape',state_shape)\n",
    "print('Number of actions', n_actions)\n",
    "\n",
    "state = train_env.reset()\n",
    "\n",
    "agent = DuelingDQNAgent(state_shape, n_actions, epsilon=1).to(device)\n",
    "target_network = DuelingDQNAgent(state_shape, n_actions, epsilon=1).to(device)\n",
    "target_network.load_state_dict(agent.state_dict())"
   ]
  },
  {
   "cell_type": "code",
   "execution_count": 24,
   "metadata": {},
   "outputs": [
    {
     "name": "stderr",
     "output_type": "stream",
     "text": [
      "C:\\Users\\chris\\anaconda3\\envs\\pytorch\\lib\\site-packages\\ipykernel_launcher.py:47: UserWarning: Creating a tensor from a list of numpy.ndarrays is extremely slow. Please consider converting the list to a single numpy.ndarray with numpy.array() before converting to a tensor. (Triggered internally at  ..\\torch\\csrc\\utils\\tensor_new.cpp:201.)\n"
     ]
    },
    {
     "name": "stdout",
     "output_type": "stream",
     "text": [
      "Number of experiences in Prioritized Replay Buffer 10000\n"
     ]
    }
   ],
   "source": [
    "# let us fill experience replay with some samples using full random policy\n",
    "\n",
    "exp_replay = PrioritizedReplayBuffer(10**4)\n",
    "for i in range(100):\n",
    "    play_and_record(state, agent, train_env, exp_replay, n_steps=10**2)\n",
    "    if len(exp_replay) == 10**4:\n",
    "        break\n",
    "print('Number of experiences in Prioritized Replay Buffer',len(exp_replay))"
   ]
  },
  {
   "cell_type": "code",
   "execution_count": 25,
   "metadata": {},
   "outputs": [],
   "source": [
    "# Training parameters\n",
    "\n",
    "timesteps_per_epoch = 1\n",
    "batch_size = 32\n",
    "total_steps = 40000\n",
    "\n",
    "# Optimizer\n",
    "opt = torch.optim.Adam(agent.parameters(), lr=1e-5)\n",
    "\n",
    "# Exploration Epsilon\n",
    "start_epsilon = 1\n",
    "end_epsilon = 0.05\n",
    "eps_decay_final_step = 2 * 10**4\n",
    "\n",
    "# Frequency for logging and updating\n",
    "loss_freq = 20\n",
    "refresh_target_network_freq = 100\n",
    "eval_freq = 1000\n",
    "\n",
    "# Gradient Clipping\n",
    "max_grad_norm = 5000\n",
    "\n",
    "# Logging\n",
    "mean_rw_history = []\n",
    "td_loss_history = []"
   ]
  },
  {
   "cell_type": "code",
   "execution_count": 26,
   "metadata": {},
   "outputs": [],
   "source": [
    "# Epsilon Schedule and Smoothening functions\n",
    "\n",
    "def epsilon_schedule(start_eps, end_eps, step, final_step):\n",
    "    return start_eps + (end_eps-start_eps)*min(step, final_step)/final_step\n",
    "\n",
    "def smoothen(values):\n",
    "    kernel = gaussian(100, std=100)\n",
    "    kernel = kernel / np.sum(kernel)\n",
    "    return convolve(values, kernel, 'valid')"
   ]
  },
  {
   "cell_type": "code",
   "execution_count": 27,
   "metadata": {},
   "outputs": [
    {
     "name": "stdout",
     "output_type": "stream",
     "text": [
      "buffer size = 10000, epsilon = 0.05000\n"
     ]
    },
    {
     "data": {
      "image/png": "[encoded data removed]",
      "text/plain": [
       "<Figure size 432x288 with 1 Axes>"
      ]
     },
     "metadata": {
      "needs_background": "light"
     },
     "output_type": "display_data"
    },
    {
     "name": "stderr",
     "output_type": "stream",
     "text": [
      "100%|████████████████████████████████████████████████████████████████████████████| 40001/40001 [53:00<00:00, 12.58it/s]\n"
     ]
    }
   ],
   "source": [
    "# Training\n",
    "\n",
    "state = train_env.reset()\n",
    "for step in trange(total_steps + 1):\n",
    "    \n",
    "    # reduce exploration as we progress\n",
    "    agent.epsilon = epsilon_schedule(start_epsilon, end_epsilon, step, eps_decay_final_step)\n",
    "\n",
    "    # take timesteps_per_epoch and update experience replay buffer\n",
    "    _, state = play_and_record(state, agent, train_env, exp_replay, timesteps_per_epoch)\n",
    "\n",
    "    # train by sampling batch_size of data from experience replay\n",
    "    states, actions, rewards, next_states, done_flags, weights, idxs = exp_replay.sample(batch_size)\n",
    "    \n",
    "\n",
    "    # loss = <compute TD loss>\n",
    "    loss = compute_td_loss_priority_replay_ddqn(agent, target_network, exp_replay,\n",
    "                           states, actions, rewards, next_states, done_flags, weights, idxs,              \n",
    "                           gamma=0.5,\n",
    "                           device=device)\n",
    "\n",
    "    loss.backward()\n",
    "    grad_norm = nn.utils.clip_grad_norm_(agent.parameters(), max_grad_norm)\n",
    "    opt.step()\n",
    "    opt.zero_grad()\n",
    "\n",
    "    if step % loss_freq == 0:\n",
    "        td_loss_history.append(loss.data.cpu().item())\n",
    "\n",
    "    if step % refresh_target_network_freq == 0:\n",
    "        # Load agent weights into target_network\n",
    "        target_network.load_state_dict(agent.state_dict())\n",
    "\n",
    "    if step % eval_freq == 0:\n",
    "        # eval the agent\n",
    "        mean_rw_history.append(evaluate(train_env, agent, n_games=3, greedy=True, t_max=1000)\n",
    "        )\n",
    "\n",
    "        clear_output(True)\n",
    "        print(\"buffer size = %i, epsilon = %.5f\" %\n",
    "              (len(exp_replay), agent.epsilon))\n",
    "\n",
    "#         plt.figure(figsize=[16, 5])\n",
    "#         plt.subplot(1, 2, 1)\n",
    "#         plt.title(\"Mean reward per episode\")\n",
    "#         plt.plot(mean_rw_history)\n",
    "#         plt.grid()\n",
    "\n",
    "        assert not np.isnan(td_loss_history[-1])\n",
    "        plt.subplot(1, 2, 2)\n",
    "        plt.title(\"TD loss history (smoothened)\")\n",
    "        plt.plot(smoothen(td_loss_history))\n",
    "        plt.grid()\n",
    "\n",
    "        plt.show()"
   ]
  },
  {
   "cell_type": "code",
   "execution_count": 32,
   "metadata": {},
   "outputs": [
    {
     "data": {
      "text/plain": [
       "Text(0.5, 1.0, 'Smoothened TD Loss')"
      ]
     },
     "execution_count": 32,
     "metadata": {},
     "output_type": "execute_result"
    },
    {
     "data": {
      "image/png": "[encoded data removed]",
      "text/plain": [
       "<Figure size 1200x360 with 1 Axes>"
      ]
     },
     "metadata": {
      "needs_background": "light"
     },
     "output_type": "display_data"
    }
   ],
   "source": [
    "TD_Loss=smoothen(td_loss_history)\n",
    "plt.rcParams.update({'figure.figsize':(10,3), 'figure.dpi':120})\n",
    "plt.plot(TD_Loss, color='black')\n",
    "plt.title('Smoothened TD Loss')"
   ]
  },
  {
   "cell_type": "markdown",
   "metadata": {},
   "source": [
    "### Performance Evaluation"
   ]
  },
  {
   "cell_type": "markdown",
   "metadata": {},
   "source": [
    "#### Training Environment"
   ]
  },
  {
   "cell_type": "code",
   "execution_count": 28,
   "metadata": {},
   "outputs": [
    {
     "name": "stdout",
     "output_type": "stream",
     "text": [
      "Average Rewards after 26263 steps in 1 game(s) is: 4291.8730712107945\n"
     ]
    }
   ],
   "source": [
    "n_games=1\n",
    "t_max=len(X_train)-1\n",
    "\n",
    "final_score, net_worths = evaluate(\n",
    "  train_env,\n",
    "  agent, n_games=n_games, greedy=True, t_max=t_max\n",
    ")\n",
    "print('Average Rewards after',t_max, 'steps in',n_games, 'game(s) is:', final_score)"
   ]
  },
  {
   "cell_type": "markdown",
   "metadata": {},
   "source": [
    "#### Testing Environment"
   ]
  },
  {
   "cell_type": "code",
   "execution_count": 29,
   "metadata": {
    "tags": []
   },
   "outputs": [
    {
     "name": "stdout",
     "output_type": "stream",
     "text": [
      "Average Rewards after 4368 steps in 1 game(s) is: 298.8344719057475\n"
     ]
    }
   ],
   "source": [
    "df=X_test\n",
    "y=y_test\n",
    "max_length=len(df)\n",
    "test_env = FinEnv(df, y)\n",
    "\n",
    "n_games=1\n",
    "t_max=max_length\n",
    "\n",
    "final_score, net_worths = evaluate(\n",
    "  test_env,\n",
    "  agent, n_games=n_games, greedy=True, t_max=t_max\n",
    ")\n",
    "print('Average Rewards after',t_max, 'steps in',n_games, 'game(s) is:', final_score)"
   ]
  },
  {
   "cell_type": "code",
   "execution_count": 30,
   "metadata": {},
   "outputs": [
    {
     "name": "stdout",
     "output_type": "stream",
     "text": [
      "4368\n"
     ]
    },
    {
     "data": {
      "image/png": "[encoded data removed]",
      "text/plain": [
       "<Figure size 1200x360 with 1 Axes>"
      ]
     },
     "metadata": {
      "needs_background": "light"
     },
     "output_type": "display_data"
    }
   ],
   "source": [
    "plt.rcParams.update({'figure.figsize':(10,3), 'figure.dpi':120})\n",
    "plt.plot(net_worths, color='black')\n",
    "print(len(net_worths))"
   ]
  },
  {
   "cell_type": "code",
   "execution_count": 31,
   "metadata": {},
   "outputs": [],
   "source": [
    "# Saving and agent\n",
    "\n",
    "# torch.save(agent, 'Models/CNN DQN gamma_0.95 BTC.h5')"
   ]
  },
  {
   "cell_type": "code",
   "execution_count": 27,
   "metadata": {},
   "outputs": [
    {
     "data": {
      "text/plain": [
       "DuelingDQNAgent(\n",
       "  (conv_network): Sequential(\n",
       "    (conv): Conv2d(1, 64, kernel_size=(3, 3), stride=(1, 1))\n",
       "    (tanh): Tanh()\n",
       "    (avg_pool): AvgPool2d(kernel_size=2, stride=2, padding=0)\n",
       "    (flatten): Flatten(start_dim=1, end_dim=-1)\n",
       "  )\n",
       "  (fc_network): Sequential(\n",
       "    (linear1): Linear(in_features=2880, out_features=512, bias=True)\n",
       "    (tanh1): Tanh()\n",
       "    (Dropout1): Dropout(p=0.6, inplace=False)\n",
       "    (linear2): Linear(in_features=512, out_features=512, bias=True)\n",
       "    (tanh2): Tanh()\n",
       "    (Dropout2): Dropout(p=0.6, inplace=False)\n",
       "  )\n",
       "  (value): Linear(in_features=512, out_features=1, bias=True)\n",
       "  (adv): Linear(in_features=512, out_features=2, bias=True)\n",
       ")"
      ]
     },
     "execution_count": 27,
     "metadata": {},
     "output_type": "execute_result"
    }
   ],
   "source": [
    "# Loading an agent\n",
    "\n",
    "agent = torch.load('Models/CNN DQN gamma_0.15 BTC.h5')\n",
    "agent.eval()"
   ]
  },
  {
   "cell_type": "code",
   "execution_count": 38,
   "metadata": {},
   "outputs": [],
   "source": [
    "# Models to evaluate\n",
    "\n",
    "models=['Models/CNN DQN gamma_0 BTC.h5', 'Models/CNN DQN gamma_0.15 BTC.h5', 'Models/CNN DQN gamma_0.25 BTC.h5',\n",
    "       'Models/CNN DQN gamma_0.35 BTC.h5', 'Models/CNN DQN gamma_0.5 BTC.h5', 'Models/CNN DQN gamma_0.75 BTC.h5',\n",
    "       'Models/CNN DQN gamma_0.8 BTC.h5', 'Models/CNN DQN gamma_0.9 BTC.h5', 'Models/CNN DQN gamma_0.95 BTC.h5',\n",
    "       'Models/CNN DQN gamma_1 BTC.h5']"
   ]
  },
  {
   "cell_type": "code",
   "execution_count": 39,
   "metadata": {},
   "outputs": [
    {
     "name": "stdout",
     "output_type": "stream",
     "text": [
      "Models/CNN DQN gamma_0 BTC.h5\n",
      "Average Rewards after 4368 steps in 10 game(s) is: 473.22256522319896\n",
      "\n",
      "\n",
      "Models/CNN DQN gamma_0.15 BTC.h5\n",
      "Average Rewards after 4368 steps in 10 game(s) is: 394.92323546707684\n",
      "\n",
      "\n",
      "Models/CNN DQN gamma_0.25 BTC.h5\n",
      "Average Rewards after 4368 steps in 10 game(s) is: 468.01578672468185\n",
      "\n",
      "\n",
      "Models/CNN DQN gamma_0.35 BTC.h5\n",
      "Average Rewards after 4368 steps in 10 game(s) is: 422.5513555240981\n",
      "\n",
      "\n",
      "Models/CNN DQN gamma_0.5 BTC.h5\n",
      "Average Rewards after 4368 steps in 10 game(s) is: 537.4180504349222\n",
      "\n",
      "\n",
      "Models/CNN DQN gamma_0.75 BTC.h5\n",
      "Average Rewards after 4368 steps in 10 game(s) is: 380.3428333977229\n",
      "\n",
      "\n",
      "Models/CNN DQN gamma_0.8 BTC.h5\n",
      "Average Rewards after 4368 steps in 10 game(s) is: 403.14934499472747\n",
      "\n",
      "\n",
      "Models/CNN DQN gamma_0.9 BTC.h5\n",
      "Average Rewards after 4368 steps in 10 game(s) is: 290.6628778030614\n",
      "\n",
      "\n",
      "Models/CNN DQN gamma_0.95 BTC.h5\n",
      "Average Rewards after 4368 steps in 10 game(s) is: 217.46221253520488\n",
      "\n",
      "\n",
      "Models/CNN DQN gamma_1 BTC.h5\n",
      "Average Rewards after 4368 steps in 10 game(s) is: 407.97205798596417\n",
      "\n",
      "\n"
     ]
    }
   ],
   "source": [
    "# Evaluating our models\n",
    "\n",
    "for model in models:\n",
    "    print(model)\n",
    "    agent = torch.load(model)\n",
    "    df=X_test\n",
    "    y=y_test\n",
    "    max_length=len(df)\n",
    "    test_env = FinEnv(df, y)\n",
    "\n",
    "    n_games=10\n",
    "    t_max=max_length\n",
    "\n",
    "    final_score, net_worths = evaluate(\n",
    "      test_env,\n",
    "      agent, n_games=n_games, greedy=True, t_max=t_max\n",
    "    )\n",
    "    print('Average Rewards after',t_max, 'steps in',n_games, 'game(s) is:', final_score)\n",
    "    print('\\n')\n"
   ]
  },
  {
   "cell_type": "markdown",
   "metadata": {},
   "source": [
    "We see that the best model is the one with $\\gamma=0.5$"
   ]
  }
 ],
 "metadata": {
  "kernelspec": {
   "display_name": "Python 3 (ipykernel)",
   "language": "python",
   "name": "python3"
  },
  "language_info": {
   "codemirror_mode": {
    "name": "ipython",
    "version": 3
   },
   "file_extension": ".py",
   "mimetype": "text/x-python",
   "name": "python",
   "nbconvert_exporter": "python",
   "pygments_lexer": "ipython3",
   "version": "3.7.11"
  },
  "toc": {
   "base_numbering": 1,
   "nav_menu": {},
   "number_sections": true,
   "sideBar": true,
   "skip_h1_title": false,
   "title_cell": "Table of Contents",
   "title_sidebar": "Contents",
   "toc_cell": false,
   "toc_position": {
    "height": "calc(100% - 180px)",
    "left": "10px",
    "top": "150px",
    "width": "202.594px"
   },
   "toc_section_display": true,
   "toc_window_display": true
  }
 },
 "nbformat": 4,
 "nbformat_minor": 4
}
