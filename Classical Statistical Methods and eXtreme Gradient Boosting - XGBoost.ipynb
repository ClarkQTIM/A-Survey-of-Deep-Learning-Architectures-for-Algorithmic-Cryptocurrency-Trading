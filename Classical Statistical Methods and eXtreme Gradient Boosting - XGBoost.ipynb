{
 "cells": [
  {
   "cell_type": "markdown",
   "metadata": {},
   "source": [
    "# Setting up our Notebook"
   ]
  },
  {
   "cell_type": "code",
   "execution_count": 1,
   "metadata": {},
   "outputs": [],
   "source": [
    "# Things to import\n",
    "\n",
    "# Standard data, plotting, and mathematical tools\n",
    "import numpy as np\n",
    "import pandas as pd\n",
    "import math as math\n",
    "import matplotlib as mpl\n",
    "import matplotlib.pyplot as plt\n",
    "import seaborn as sns\n",
    "\n",
    "# PCA\n",
    "from sklearn.decomposition import PCA\n",
    "from sklearn.preprocessing import StandardScaler\n",
    "\n",
    "# XGBoost\n",
    "import xgboost as xgb\n",
    "\n",
    "# Training and Evaluation Tools\n",
    "from sklearn.metrics import accuracy_score, mean_squared_error\n",
    "from sklearn.model_selection import train_test_split\n",
    "from sklearn.metrics import confusion_matrix\n",
    "from sklearn.model_selection import GridSearchCV\n",
    "\n",
    "import warnings\n",
    "warnings.filterwarnings('ignore')"
   ]
  },
  {
   "cell_type": "markdown",
   "metadata": {},
   "source": [
    "# Importing the data"
   ]
  },
  {
   "cell_type": "code",
   "execution_count": 2,
   "metadata": {},
   "outputs": [],
   "source": [
    "# Importing the data\n",
    "\n",
    "dfs=['Non-Scaled TA Features 1H for BTC.csv']"
   ]
  },
  {
   "cell_type": "markdown",
   "metadata": {},
   "source": [
    "# eXtreme Gradient Boosting"
   ]
  },
  {
   "cell_type": "markdown",
   "metadata": {},
   "source": [
    "## Mathematical Description"
   ]
  },
  {
   "cell_type": "markdown",
   "metadata": {},
   "source": [
    "eXtreme Gradient Boosting, or XGBoost, is an algorithm based on Classifcation and Regression Trees, or CARTs.\n",
    "\n",
    "A simple diagram demonstrates why they have this name:\n",
    "\n",
    "<img src=\"Graphics\\Tree.png\" width=\"600\" height=\"600\" />\n",
    "\n",
    "XGboost combines several of these CARTs to arrive at a prediction. Mathematically, this looks like:\n",
    "\n",
    "$${\\hat{y}}_i=\\sum_{k=1}^{K}f_k({\\bf{x}}_i)$$\n",
    "\n",
    "So, the algorithm seeks to find the CARTs $f$ used to create our predictions, call this set $\\Xi$, to minimize the cost function $J$ over the training set of size $m$:\n",
    "\n",
    "$$J(\\Xi)=\\sum_{i=1}^{m}{\\mathcal{L}}(y_i, {\\hat{y}}_i)+\\sum_{k=1}^{K}\\Omega(f_k)$$\n",
    "\n",
    "In the above, $\\Xi$ is the set of possible CARTs, $\\mathcal{L}$ is the loss function between the actual value $y$ and the prediction $\\hat{y}$, and $\\Omega$ is a regularization function on the CARTs themselves.\n",
    "\n",
    "Understanding that we build each $\\hat{y}$ iteratively by adding the various predictions of each CART $f$ at the $t^{th}$, expanding the above function to a second-order Taylor polynomial, and dropping everything constant, we arrive at:\n",
    "\n",
    "$${\\tilde{J}}(f_t)=\\sum_{i=1}^{m}[g_if_t({\\bf{x}}_i)+\\dfrac{1}{2}h_i{f_t}^2({\\bf{x}}_i)]+\\Omega(f_t)$$\n",
    "\n",
    "In the above, $g_i$ is the partial derivative of the loss function with respect to ${\\hat{y}}_i^{(t-1)}$ and $h_i$ is the second partial derivative of the loss function with respect to ${\\hat{y}}_i^{(t-1)}$.\n",
    "\n",
    "Expanding our regularization function, we get:\n",
    "\n",
    "$$\\Omega(f_t)=\\gamma T+\\dfrac{1}{2}\\lambda\\sum_{j=1}^{T}w^2_j$$\n",
    "\n",
    "Here, $T$ is the number of leaves of the $t^{th}$ CART $f$ and $w_j$ is the weight of the $j^{th}$ leaf. \n",
    "\n",
    "After signficant rearranging that can be found in the Primer for this project, we arrive at:\n",
    "\n",
    "$${\\tilde{J}}({\\bf{w}},q)^{(t)}=\\sum_{j=1}^{T}[G_j w_j + \\dfrac{1}{2}(H_j+\\lambda)w_j^2]+ \\gamma T$$\n",
    "\n",
    "In the above, $G_j$ and $H_j$ are the sums of the $g_i$ and $h_i$ respectively. The new parameters of the ${\\tilde{J}}$ function are $\\bf{w}$, the weights of the $t^{th}$ CART $f$ and $q$ is a the actual decision structure. \n",
    "\n",
    "Fixing a structure $q$, the optimal weights are:\n",
    "\n",
    "$$w^*_j=-\\dfrac{G_j}{H_j+\\lambda}$$\n",
    "\n",
    "Plugging this into the above equation, we have:\n",
    "\n",
    "$${\\tilde{J}}(q)^{(t)}=\\dfrac{1}{2}\\sum_{j=1}^{T} \\dfrac{G_j^2}{H_j+\\lambda}+\\gamma T$$\n",
    "\n",
    "This tells how good of a tree structure we have in $q$. \n",
    "\n",
    "To determine if a split is beneficial or not, we use the following:\n",
    "\n",
    "$$Gain=\\dfrac{1}{2}\\left[\\dfrac{G_L^2}{H_L+\\lambda}+\\dfrac{G_R^2}{H_R+\\lambda}-\\dfrac{(G_L+G_R)^2}{H_L+H_R+\\lambda}\\right]-\\gamma$$\n",
    "\n",
    "In the above $L$ is the left split and $R$ is the right. If the $Gain$ is less than zero, that branch isn't beneficial to use and we can prune it.\n",
    "\n",
    "Now that we have the mathematical underpinning, we can search through various trees and weights to find a proper set of CARTs that minimize the cost function $J$. The XGboost is a specific implementation of the described algorithm with specific computation tools meant to speed it up, and the curious reader is referred to the documentation for XGBoost found in the Bibliography to learn more about it."
   ]
  },
  {
   "cell_type": "markdown",
   "metadata": {},
   "source": [
    "## Training and testing data"
   ]
  },
  {
   "cell_type": "code",
   "execution_count": 3,
   "metadata": {},
   "outputs": [],
   "source": [
    "# Defining a function to create PCA matrices\n",
    "\n",
    "def PCA_creation_train_val_test(no_components, X_train, X_val, X_test):\n",
    "    \n",
    "    # Scaling the data with our X_train matrix\n",
    "    scaler=StandardScaler()\n",
    "    X_train=scaler.fit_transform(X_train)\n",
    "    \n",
    "    # Fitting the PCA to our X_train matrix\n",
    "    pca=PCA(n_components=no_components)\n",
    "    X_train=pca.fit_transform(X_train)\n",
    "\n",
    "    # Scaling the X_val and X_test \n",
    "    X_val=scaler.transform(X_val)\n",
    "    X_test=scaler.transform(X_test)\n",
    "\n",
    "    # Transforming the X_val and X_test\n",
    "    X_val=pca.transform(X_val)\n",
    "    X_test=pca.transform(X_test)\n",
    "    \n",
    "    return X_train, X_val, X_test"
   ]
  },
  {
   "cell_type": "code",
   "execution_count": 4,
   "metadata": {},
   "outputs": [
    {
     "name": "stdout",
     "output_type": "stream",
     "text": [
      "Confirming we have all the columns we want: \n",
      " Index(['BB_upper 10', 'BB_middle 10', 'BB_lower 10', 'Aroon_down 10',\n",
      "       'Aroon_up 10', 'Aroonosc 10', 'RSI 10', 'NATR 10', 'BB_upper 12',\n",
      "       'BB_middle 12',\n",
      "       ...\n",
      "       'MACD Signal 18', 'MACD Hist18', 'Med Price', 'Chaikin A/D Line',\n",
      "       'HT Dom Phase', 'HT Dom Period', 'High', 'Low', 'Close', 'Volume'],\n",
      "      dtype='object', length=101)\n"
     ]
    }
   ],
   "source": [
    "# Train and test splitting and scaling\n",
    "\n",
    "X=pd.read_csv(dfs[0])\n",
    "\n",
    "X['Date']=pd.to_datetime(X['Date']) # Setting the index as the Date\n",
    "X=X.set_index('Date').asfreq('H')\n",
    "\n",
    "X=X.dropna()\n",
    "y=X['Label']\n",
    "X=X.drop('Label', axis=1)\n",
    "X=X.drop('Percent Change', axis=1)\n",
    "\n",
    "\n",
    "# Removing the testing data\n",
    "X_test=X[-4380:] # Getting the last 6 months as the testing data\n",
    "print('Confirming we have all the columns we want:','\\n', X_test.columns)\n",
    "y_test=y[-4380:].values\n",
    "\n",
    "X=X[:-4380] # Getting everything but the first 6 months as the training data\n",
    "y=y[:-4380]\n",
    "\n",
    "num_classes=2 # Used for one-hot encoding, but we won't be doing that with 2 classes\n",
    "\n",
    "# Split into training and validation for our neural net\n",
    "X_train, X_val, y_train, y_val=train_test_split(X, y, test_size=0.2, random_state=100, shuffle=True)\n",
    "y_train=np.array(y_train)\n",
    "y_val=np.array(y_val)\n",
    "\n",
    "X_train, X_val, X_test=PCA_creation_train_val_test(20, X_train, X_val, X_test)"
   ]
  },
  {
   "cell_type": "markdown",
   "metadata": {},
   "source": [
    "## Grid Search"
   ]
  },
  {
   "cell_type": "code",
   "execution_count": 14,
   "metadata": {},
   "outputs": [
    {
     "name": "stdout",
     "output_type": "stream",
     "text": [
      "Score  0.5529019980970504\n",
      "Params  {'gamma': 1, 'learning_rate': 0.01, 'max_depth': 5, 'reg_lambda': 10}\n"
     ]
    }
   ],
   "source": [
    "# Setting up our grid\n",
    "\n",
    "param_grid = {\n",
    "    \"max_depth\": [3, 4, 5, 6, 7],\n",
    "    \"learning_rate\": [0.1, 0.01, 0.001, 0.0001, 0.00001],\n",
    "    \"gamma\": [0, 0.25, 1],\n",
    "    \"reg_lambda\": [0, 1, 5, 10],\n",
    "}\n",
    "\n",
    "# Fitting our XGBoost with out grid\n",
    "\n",
    "# Init classifier\n",
    "xgb_cl = xgb.XGBClassifier(objective='binary:logistic', use_label_encoder=False, verbosity=0)\n",
    "\n",
    "# Init Grid Search\n",
    "grid_cv = GridSearchCV(xgb_cl, param_grid, n_jobs=1, cv=5)\n",
    "\n",
    "# Fit\n",
    "grid_cv.fit(X_train, y_train)\n",
    "\n",
    "# Getting the score and best parameters from our grid search\n",
    "\n",
    "print('Score ',grid_cv.best_score_)\n",
    "print('Params ', grid_cv.best_params_)"
   ]
  },
  {
   "cell_type": "code",
   "execution_count": 9,
   "metadata": {},
   "outputs": [
    {
     "data": {
      "text/plain": [
       "XGBClassifier(base_score=0.5, booster='gbtree', colsample_bylevel=1,\n",
       "              colsample_bynode=1, colsample_bytree=1, gamma=1, gpu_id=-1,\n",
       "              importance_type='gain', interaction_constraints='',\n",
       "              learning_rate=0.01, max_delta_step=0, max_depth=5,\n",
       "              min_child_weight=1, missing=nan, monotone_constraints='()',\n",
       "              n_estimators=100, n_jobs=8, num_parallel_tree=1, random_state=0,\n",
       "              reg_alpha=0, reg_lambda=10, scale_pos_weight=1, subsample=1,\n",
       "              tree_method='exact', validate_parameters=1, verbosity=0)"
      ]
     },
     "execution_count": 9,
     "metadata": {},
     "output_type": "execute_result"
    }
   ],
   "source": [
    "# Training our XGBoost with our best params\n",
    "\n",
    "# Setting up our XGBoost with our best params\n",
    "best_xgb = xgb.XGBClassifier(gamma=1,\n",
    "                             learning_rate= 0.01,\n",
    "                             max_depth=5,\n",
    "                             reg_lambda=10,\n",
    "                            verbosity=0)\n",
    "\n",
    "# Fitting the model\n",
    "best_xgb.fit(X_train, y_train)\n",
    "\n",
    "# The model\n",
    "print(best_xgb)"
   ]
  },
  {
   "cell_type": "code",
   "execution_count": 10,
   "metadata": {},
   "outputs": [
    {
     "data": {
      "image/png": "[encoded data removed]",
      "text/plain": [
       "<Figure size 432x288 with 2 Axes>"
      ]
     },
     "metadata": {
      "needs_background": "light"
     },
     "output_type": "display_data"
    }
   ],
   "source": [
    "# Confusion Matrix\n",
    "\n",
    "# Performance\n",
    "y_pred=best_xgb.predict(X_test)\n",
    "\n",
    "# Plotting Confusion Matrix\n",
    "cm=confusion_matrix(y_test, y_pred)\n",
    "ax= plt.subplot()\n",
    "sns.heatmap(cm, annot=True, fmt='g', ax=ax);  #annot=True to annotate cells, ftm='g' to disable scientific notation\n",
    "\n",
    "# labels, title and ticks\n",
    "ax.set_xlabel('Predicted labels');ax.set_ylabel('True labels'); \n",
    "ax.set_title('Confusion Matrix'); \n",
    "ax.xaxis.set_ticklabels(['Sell', 'Buy']); ax.yaxis.set_ticklabels(['Sell', 'Buy']);"
   ]
  },
  {
   "cell_type": "markdown",
   "metadata": {},
   "source": [
    "## Saving and Reloading the Model"
   ]
  },
  {
   "cell_type": "code",
   "execution_count": 8,
   "metadata": {},
   "outputs": [],
   "source": [
    "# save to JSON\n",
    "best_xgb.save_model(\"Models/XGB BTC.txt\")"
   ]
  },
  {
   "cell_type": "code",
   "execution_count": 18,
   "metadata": {},
   "outputs": [],
   "source": [
    "# Loading the model\n",
    "model = xgb.XGBClassifier()\n",
    "model.load_model(\"Models/XGB BTC.json\")"
   ]
  }
 ],
 "metadata": {
  "kernelspec": {
   "display_name": "Python 3",
   "language": "python",
   "name": "python3"
  },
  "language_info": {
   "codemirror_mode": {
    "name": "ipython",
    "version": 3
   },
   "file_extension": ".py",
   "mimetype": "text/x-python",
   "name": "python",
   "nbconvert_exporter": "python",
   "pygments_lexer": "ipython3",
   "version": "3.8.5"
  },
  "toc": {
   "base_numbering": 1,
   "nav_menu": {},
   "number_sections": true,
   "sideBar": true,
   "skip_h1_title": false,
   "title_cell": "Table of Contents",
   "title_sidebar": "Contents",
   "toc_cell": false,
   "toc_position": {},
   "toc_section_display": true,
   "toc_window_display": true
  }
 },
 "nbformat": 4,
 "nbformat_minor": 4
}
