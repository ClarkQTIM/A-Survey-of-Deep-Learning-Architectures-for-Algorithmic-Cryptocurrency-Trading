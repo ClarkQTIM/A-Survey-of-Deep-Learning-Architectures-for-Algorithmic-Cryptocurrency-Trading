{
 "cells": [
  {
   "cell_type": "markdown",
   "metadata": {},
   "source": [
    "# Setting up our Notebook"
   ]
  },
  {
   "cell_type": "code",
   "execution_count": 1,
   "metadata": {},
   "outputs": [],
   "source": [
    "# Things to import\n",
    "\n",
    "# Standard data, plotting, and mathematical tools\n",
    "import numpy as np\n",
    "import pandas as pd\n",
    "import matplotlib.pyplot as plt\n",
    "import seaborn as sns\n",
    "\n",
    "# PCA\n",
    "from sklearn.decomposition import PCA\n",
    "from sklearn.preprocessing import StandardScaler\n",
    "\n",
    "# LSTM\n",
    "from tensorflow.keras.models import Sequential\n",
    "from tensorflow.keras.layers import Dense,Dropout,Activation\n",
    "from sklearn.metrics import accuracy_score, mean_squared_error\n",
    "from sklearn.model_selection import train_test_split\n",
    "from sklearn.metrics import confusion_matrix\n",
    "from tensorflow import keras\n",
    "from keras import utils\n",
    "from keras.preprocessing.sequence import TimeseriesGenerator\n",
    "import tensorflow as tf\n",
    "\n",
    "# Grid Search\n",
    "from sklearn.model_selection import GridSearchCV\n",
    "from keras.wrappers.scikit_learn import KerasClassifier\n",
    "\n",
    "from IPython.display import Image"
   ]
  },
  {
   "cell_type": "markdown",
   "metadata": {},
   "source": [
    "# Importing the data"
   ]
  },
  {
   "cell_type": "code",
   "execution_count": 2,
   "metadata": {},
   "outputs": [],
   "source": [
    "# Importing the data\n",
    "\n",
    "dfs=['Non-Scaled TA Features 1H for BTC.csv']"
   ]
  },
  {
   "cell_type": "markdown",
   "metadata": {},
   "source": [
    "# Long-Short Term Memory Recurrent Neural Network"
   ]
  },
  {
   "cell_type": "markdown",
   "metadata": {},
   "source": [
    "## Mathematical Description of a Recurrent Neural Network"
   ]
  },
  {
   "cell_type": "markdown",
   "metadata": {},
   "source": [
    "The RNN differs from other NN architectures in that it can capture temporal or sequential dependencies in data. It does this by passing an activation/output/hidden state to each block that the block uses with the input from the sequence to produce both a prediction and an activation for the next block. In this way, information from earlier blocks can be passed down the sequence and influence predictions.\n",
    "\n",
    "Given a data instance $\\bf{x}$ of length $T$, each block performs the following operations on the $t^{th}$ element of $\\bf{x}$:\n",
    "\n",
    "$$a^{<t>}=g_1(W_{aa}a^{<t-1>}+W_{ax}{\\bf{x}}^{<t>}+b_a)$$\n",
    "\n",
    "$$y^{<t>}=g_2(W_{ya}a^{<t>}+b_y)$$\n",
    "\n",
    "In the above, $W_{aa}$ are the weights associate with the activation of the previous block, $W_{ax}$ are the weights associated with the input from the sequence, $W_{ya}$ are the weights used to calculate the prediction, and $b_a$ and $b_y$ are the biases used to calculate the activation and the prediction, respectively. The $g$ functions are the activation functions of the block.\n",
    "\n",
    "A graphical representation of the RNN block looks like:\n",
    "\n",
    "<img src=\"Graphics/RNN Cell.png\" width=\"600\" height=\"600\" />\n",
    "\n",
    "Thus, each block recieves a sequential input and an activation, calculates the next activation and prediction, and feeds the activation to the next block in the following fashion:\n",
    "\n",
    "<img src=\"Graphics/RNN.png\" width=\"600\" height=\"600\" />\n",
    "\n",
    "They can also be stacked to give a Deep RNN:\n",
    "\n",
    "<img src=\"Graphics/Deep RNN.png\" width=\"600\" height=\"600\" />\n",
    "\n",
    "However, for our purposes, we are not interested in a prediction for each member of our sequence, but a single prediction after the RNN has had the opportunity to see the entire sequence. This is often call \"Many-to-One\", as the RNN receives an input of \"many\" and outputs a single final prediction, \"one\". \n",
    "\n",
    "Graphically, it is represented as:\n",
    "\n",
    "<img src=\"Graphics/Many to One RNN.png\" width=\"600\" height=\"600\" />"
   ]
  },
  {
   "cell_type": "markdown",
   "metadata": {},
   "source": [
    "## Mathematical Description of a Long-Short Term Memory Recurrent Neural Network"
   ]
  },
  {
   "cell_type": "markdown",
   "metadata": {},
   "source": [
    "Unfortunately, the simple RNN depicted above struggles with longer sequences due to the problem of Vanishing Gradients. \n",
    "\n",
    "To remedy this, we introduce the Long-Short Term Memory Recurrent Neural Network, which modifies the blocks with gates that allow for more complex consideration of the information the block recieves and exports to the next.\n",
    "\n",
    "We calculate each gate with:\n",
    "\n",
    "$$\\Gamma=\\sigma(W{\\bf{x}}^{<t>}+Ua^{<t-1>}+b)$$\n",
    "\n",
    "In the above, $W,U$ and $b$ are the weights associated with the input, the weights associated with the activation, and the bias of the gate. $\\sigma$ is the sigmoid activation function. Thus, each gate has a value between 0 and 1.\n",
    "\n",
    "The LSTM block has four gates, the Update Gate $\\Gamma_u$, Relevance Gate $\\Gamma_r$, Forget Gate $\\Gamma_f$, and the Output Gate $\\Gamma_o$.\n",
    "\n",
    "Once we have each gate, we calculate the activation $a^{<t>}$ and a new quantity, $c^{<t>}$, which will tell the subsequent block how to handle the activation.\n",
    "\n",
    "They are calculated in the following manner:\n",
    "\n",
    "$$\\tilde{c}^{<t>}=tanh(W_c[\\Gamma_r * a^{<t-1>}, {\\bf{x}}^{<t>}]+b_c)$$\n",
    "\n",
    "$$c^{<t>}=\\Gamma_u * \\tilde{c}^{<t>} + \\Gamma_f c^{<t-1>}$$\n",
    "\n",
    "$$a^{<t>}=\\Gamma_o * c^{<t>}$$\n",
    "\n",
    "We note that the * symbol is element-wise multiplication.\n",
    "\n",
    "Graphically, this looks like:\n",
    "\n",
    "<img src=\"Graphics/LSTM Cell.png\" width=\"600\" height=\"600\" />"
   ]
  },
  {
   "cell_type": "markdown",
   "metadata": {},
   "source": [
    "# Training"
   ]
  },
  {
   "cell_type": "markdown",
   "metadata": {},
   "source": [
    "## X, y, X_test, and y_test sets"
   ]
  },
  {
   "cell_type": "code",
   "execution_count": 3,
   "metadata": {},
   "outputs": [],
   "source": [
    "# Defining a function to create two PCA matrices\n",
    "\n",
    "def PCA_creation_train_test(no_components, X_train, X_test):\n",
    "    \n",
    "    # Scaling the data with our X_train matrix\n",
    "    scaler=StandardScaler()\n",
    "    X_train=scaler.fit_transform(X_train)\n",
    "    \n",
    "    # Fitting the PCA to our X_train matrix\n",
    "    pca=PCA(n_components=no_components)\n",
    "    X_train=pca.fit_transform(X_train)\n",
    "\n",
    "    # Scaling X_test \n",
    "    X_test=scaler.transform(X_test)\n",
    "\n",
    "    # Transforming X_test\n",
    "    X_test=pca.transform(X_test)\n",
    "    \n",
    "    return X_train, X_test"
   ]
  },
  {
   "cell_type": "code",
   "execution_count": 4,
   "metadata": {},
   "outputs": [
    {
     "name": "stdout",
     "output_type": "stream",
     "text": [
      "Confirming we have all the columns we want: \n",
      " Index(['BB_upper 10', 'BB_middle 10', 'BB_lower 10', 'Aroon_down 10',\n",
      "       'Aroon_up 10', 'Aroonosc 10', 'RSI 10', 'NATR 10', 'BB_upper 12',\n",
      "       'BB_middle 12',\n",
      "       ...\n",
      "       'MACD Signal 18', 'MACD Hist18', 'Med Price', 'Chaikin A/D Line',\n",
      "       'HT Dom Phase', 'HT Dom Period', 'High', 'Low', 'Close', 'Volume'],\n",
      "      dtype='object', length=101)\n"
     ]
    }
   ],
   "source": [
    "# Train and test splitting and scaling\n",
    "X=pd.read_csv(dfs[0])\n",
    "\n",
    "X['Date']=pd.to_datetime(X['Date']) # Setting the index as the Date\n",
    "X=X.set_index('Date').asfreq('H')\n",
    "\n",
    "X=X.dropna()\n",
    "y=X['Label']\n",
    "X=X.drop('Label', axis=1)\n",
    "X=X.drop('Percent Change', axis=1)\n",
    "\n",
    "\n",
    "# Removing the testing data\n",
    "X_test=X[-4380:] # Getting the last 6 months as the testing data\n",
    "print('Confirming we have all the columns we want:','\\n', X_test.columns)\n",
    "y_test=y[-4380:].values\n",
    "\n",
    "X=X[:-4380] # Getting everything but the first 6 months as the training data\n",
    "y=y[:-4380]\n",
    "\n",
    "num_classes=2 # Used for one-hot encoding, but we won't be doing that with 2 classes"
   ]
  },
  {
   "cell_type": "markdown",
   "metadata": {},
   "source": [
    "## Train, Test, and Validation Lagged Sets"
   ]
  },
  {
   "cell_type": "code",
   "execution_count": 5,
   "metadata": {},
   "outputs": [],
   "source": [
    "# Lagging function\n",
    "\n",
    "def lagged_matrices(n_steps, X_matrix, y_matrix):\n",
    "    X_lagged=[]\n",
    "    y_lagged=[]\n",
    "    y_matrix=y_matrix\n",
    "    for i in range(n_steps, X_matrix.shape[0]):\n",
    "        lag_set=X_matrix[i-n_steps:i]\n",
    "        X_lagged.append(lag_set) # We are taking the last n_input to the present time periods as the \n",
    "        # X values.\n",
    "        y_lagged.append(int(y_matrix[i-1]))\n",
    "    X_lagged=np.array(X_lagged) # They need to be arrays\n",
    "    return X_lagged, y_lagged\n",
    "    # Note, this does not include the last slice"
   ]
  },
  {
   "cell_type": "code",
   "execution_count": 6,
   "metadata": {},
   "outputs": [
    {
     "name": "stdout",
     "output_type": "stream",
     "text": [
      "Second to last X and y test after PCA: \n",
      " [12.00381295 10.53103332 -1.88724162 -1.1895646  -2.92464478  3.88806865\n",
      " -0.08486031 -1.60395372 -2.61335648 -0.14934652 -0.73597245  1.54475006\n",
      "  2.13617841 -1.16336857 -0.96483303 -0.52009331 -0.53966372  0.15052999\n",
      " -0.07018077  0.0888259 ] 0.0\n",
      "Final X and y test after PCA: \n",
      " [ 1.19564840e+01  1.00366560e+01 -6.45265865e-01 -1.32061430e+00\n",
      " -3.30942941e+00  3.79137389e+00  4.11759151e-01 -7.04865916e-01\n",
      " -1.77866589e+00 -4.68654783e-01 -8.73414514e-01  1.15515294e+00\n",
      "  1.72232774e+00 -9.64270887e-01 -1.74905002e+00 -3.91583898e-01\n",
      " -4.62367209e-01 -5.03010421e-03 -4.92723940e-02 -2.06058823e-01] 0.0\n",
      "X_train shape: (21011, 12, 20)\n",
      "Final X and y test after PCA: \n",
      " [12.00381295 10.53103332 -1.88724162 -1.1895646  -2.92464478  3.88806865\n",
      " -0.08486031 -1.60395372 -2.61335648 -0.14934652 -0.73597245  1.54475006\n",
      "  2.13617841 -1.16336857 -0.96483303 -0.52009331 -0.53966372  0.15052999\n",
      " -0.07018077  0.0888259 ] 0\n"
     ]
    }
   ],
   "source": [
    "## Getting our training, validation, and testing sets\n",
    "\n",
    "# First, we create our PCA matrices from the X and X_test\n",
    "X, X_test=PCA_creation_train_test(20, X, X_test)\n",
    "print('Second to last X and y test after PCA:', '\\n',X_test[-2], y_test[-2])\n",
    "print('Final X and y test after PCA:', '\\n',X_test[-1], y_test[-1])\n",
    "\n",
    "# Classes, sets, and features\n",
    "num_classes=2 \n",
    "n_steps = 12 # How many time periods into the past we will look.\n",
    "n_features = 20 # Number of PCA features\n",
    "\n",
    "# Getting our lagged matrices\n",
    "X_set, y_set=lagged_matrices(n_steps, X, y)\n",
    "X_test, y_test=lagged_matrices(n_steps, X_test, y_test)\n",
    "\n",
    "# Split X into training and validation for our neural net\n",
    "X_train, X_val, y_train, y_val=train_test_split(X_set, y_set, test_size=0.2, random_state=100, shuffle=True)\n",
    "# Note, we have already made our images from sequential time slices, so we can shuffle our sets of images\n",
    "\n",
    "# Making sure the y sets are arrays\n",
    "y_train=np.array(y_train)\n",
    "y_val=np.array(y_val)\n",
    "y_test=np.array(y_test)\n",
    "\n",
    "print('X_train shape:',X_train.shape) # Confirming that our shape is (n_instances, n_steps, n_features)\n",
    "print('Final X and y test after PCA:', '\\n',X_test[-1][-1], y_test[-1])"
   ]
  },
  {
   "cell_type": "markdown",
   "metadata": {},
   "source": [
    "This confirms that our sequence creation function does not include the final datum."
   ]
  },
  {
   "cell_type": "markdown",
   "metadata": {},
   "source": [
    "## Grid Search"
   ]
  },
  {
   "cell_type": "code",
   "execution_count": 10,
   "metadata": {},
   "outputs": [],
   "source": [
    "def create_lstm_model(activ_function='relu', units=50, dropout_rate=0.1, num_layers=2, \n",
    "                     optimizer='adam',learning_rate=1e-3,\n",
    "                     n_steps=n_steps, n_features=n_features):\n",
    "    # create model\n",
    "    model = keras.Sequential()\n",
    "        \n",
    "    if num_layers==2:\n",
    "        #Adding the First input hidden layer and the LSTM layer\n",
    "        # return_sequences = True, means the output of every time step to be shared with hidden next layer\n",
    "        model.add(keras.layers.LSTM(units = units, activation = activ_function, input_shape = (n_steps, n_features), \n",
    "               return_sequences=True))\n",
    "        model.add(keras.layers.Dropout(dropout_rate))\n",
    "        # Second layer\n",
    "        model.add(keras.layers.LSTM(units = units, activation = activ_function, return_sequences=False)) # For the final later, we don't need to return the sequences\n",
    "        model.add(keras.layers.Dropout(dropout_rate))\n",
    "\n",
    "        \n",
    "    if num_layers==3:\n",
    "        #Adding the First input hidden layer and the LSTM layer\n",
    "        # return_sequences = True, means the output of every time step to be shared with hidden next layer\n",
    "        model.add(keras.layers.LSTM(units = units, activation = activ_function, input_shape = (n_steps, n_features), return_sequences=True))\n",
    "        model.add(keras.layers.Dropout(dropout_rate))\n",
    "        # Second layer\n",
    "        model.add(keras.layers.LSTM(units = units, activation = activ_function, return_sequences=True))\n",
    "        model.add(keras.layers.Dropout(dropout_rate))\n",
    "        # Third layer\n",
    "        model.add(keras.layers.LSTM(units = units, activation = activ_function, return_sequences=False)) # For the final later, we don't need to return the sequences\n",
    "        model.add(keras.layers.Dropout(dropout_rate))\n",
    "        \n",
    "    if num_layers==4:\n",
    "        #Adding the First input hidden layer and the LSTM layer\n",
    "        # return_sequences = True, means the output of every time step to be shared with hidden next layer\n",
    "        model.add(keras.layers.LSTM(units = units, activation = activ_function, input_shape = (n_steps, n_features), return_sequences=True))\n",
    "        model.add(keras.layers.Dropout(dropout_rate))\n",
    "        # Second layer\n",
    "        model.add(keras.layers.LSTM(units = units, activation = activ_function, return_sequences=True))\n",
    "        model.add(keras.layers.Dropout(dropout_rate))\n",
    "        # Third layer\n",
    "        model.add(keras.layers.LSTM(units = units, activation = activ_function, return_sequences=True))\n",
    "        model.add(keras.layers.Dropout(dropout_rate))\n",
    "        # Fourth layer\n",
    "        model.add(keras.layers.LSTM(units = units, activation = activ_function, return_sequences=False)) # For the final later, we don't need to return the sequences\n",
    "        model.add(keras.layers.Dropout(dropout_rate))\n",
    "        \n",
    "    # Final layer with sigmoid for classification\n",
    "    model.add(keras.layers.Dense(1, activation=\"sigmoid\"))\n",
    "        \n",
    "    # Running through the optimizers\n",
    "    if optimizer=='adam':\n",
    "        optimizer = keras.optimizers.Adam(learning_rate=learning_rate)\n",
    "        \n",
    "    if optimizer=='RMSprop':\n",
    "        optimizer = keras.optimizers.RMSProp(learning_rate=learning_rate)\n",
    "        \n",
    "    if optimizer=='SGD':\n",
    "        optimizer = keras.optimizers.SGD(learning_rate=learning_rate)\n",
    "        \n",
    "    # Compile model\n",
    "    model.compile( \n",
    "        optimizer=optimizer,\n",
    "        loss='binary_crossentropy',\n",
    "        metrics=['accuracy'],\n",
    "        )    \n",
    "    return model"
   ]
  },
  {
   "cell_type": "markdown",
   "metadata": {},
   "source": [
    "Note, the grid search section for this script, as well as the CNN and MLP, take heavy influence from the following Kaggle notebook: MNIST: CNN, grid search, data augmentation\n",
    "\n",
    "This can be found at:\n",
    "\n",
    "https://www.kaggle.com/code/cedricb/mnist-cnn-grid-search-data-augmentation/notebook"
   ]
  },
  {
   "cell_type": "code",
   "execution_count": 11,
   "metadata": {},
   "outputs": [
    {
     "name": "stdout",
     "output_type": "stream",
     "text": [
      "Model: \"sequential\"\n",
      "_________________________________________________________________\n",
      " Layer (type)                Output Shape              Param #   \n",
      "=================================================================\n",
      " lstm (LSTM)                 (None, 12, 50)            14200     \n",
      "                                                                 \n",
      " dropout (Dropout)           (None, 12, 50)            0         \n",
      "                                                                 \n",
      " lstm_1 (LSTM)               (None, 50)                20200     \n",
      "                                                                 \n",
      " dropout_1 (Dropout)         (None, 50)                0         \n",
      "                                                                 \n",
      " dense (Dense)               (None, 1)                 51        \n",
      "                                                                 \n",
      "=================================================================\n",
      "Total params: 34,451\n",
      "Trainable params: 34,451\n",
      "Non-trainable params: 0\n",
      "_________________________________________________________________\n"
     ]
    }
   ],
   "source": [
    "# Creating and compiling the model with a summary\n",
    "\n",
    "lstm = create_lstm_model()\n",
    "lstm.summary()"
   ]
  },
  {
   "cell_type": "code",
   "execution_count": 7,
   "metadata": {},
   "outputs": [],
   "source": [
    "# Optimize the model with grid search\n",
    "\n",
    "# Grid search parameters\n",
    "n_epochs_cv = 20 # Number of epochs for our grid search\n",
    "n_cv = 3 # Number of cross validations\n",
    "\n",
    "# Create model to feed to our parameter grid search\n",
    "model = KerasClassifier(build_fn=create_lstm_model, verbose=1)\n",
    "\n",
    "# Define parameters and values for grid search to check in our model\n",
    "param_grid = {\n",
    "    # Model parameters\n",
    "    'activ_function':['relu', 'tanh', 'sigmoid'],\n",
    "    'units':[256, 512, 1024],\n",
    "    'dropout_rate':[0.1],\n",
    "    'num_layers':[2, 3, 4],\n",
    "    'optimizer':['adam', 'RMSProp', 'SGD'],\n",
    "    'learning_rate':[1e-3, 1e-5, 1e-7],\n",
    "    # The number of epochs for each model\n",
    "    'epochs': [n_epochs_cv],\n",
    "}\n",
    "\n",
    "# Creating the grid\n",
    "grid = GridSearchCV(estimator=model, param_grid=param_grid, n_jobs=1, cv=n_cv)\n",
    "\n",
    "# Fitting the grid\n",
    "grid_result = grid.fit(X_train, y_train)"
   ]
  },
  {
   "cell_type": "code",
   "execution_count": null,
   "metadata": {},
   "outputs": [],
   "source": [
    "print(grid_result.best_params_)"
   ]
  },
  {
   "cell_type": "code",
   "execution_count": null,
   "metadata": {},
   "outputs": [],
   "source": [
    "# Creating and compiling a model with the best parameters from the grid search\n",
    "\n",
    "lstm_model=create_lstm_model(activ_function=grid_result.best_params_['activ_function'], \n",
    "                                            units=grid_result.best_params_['neurons'], \n",
    "                                            dropout_rate=grid_result.best_params_['dropout_rate'],\n",
    "                                            num_layers=grid_result.best_params_['num_layers'],\n",
    "                                            optimizer=grid_result.best_params_['optimizer'],\n",
    "                          learning_rate=grid_result.best_params_['learning_rate'])\n",
    "\n",
    "# Fitting the model\n",
    "history = lstm_model.fit(X_train, y_train, epochs=50, validation_data=(X_val,y_val), verbose=0)"
   ]
  },
  {
   "cell_type": "code",
   "execution_count": 12,
   "metadata": {
    "scrolled": false
   },
   "outputs": [
    {
     "name": "stdout",
     "output_type": "stream",
     "text": [
      "Epoch 1/20\n",
      "657/657 [==============================] - 110s 160ms/step - loss: 0.7053 - accuracy: 0.4985 - val_loss: 0.7100 - val_accuracy: 0.4860\n",
      "Epoch 2/20\n",
      "657/657 [==============================] - 96s 146ms/step - loss: 0.6921 - accuracy: 0.5329 - val_loss: 0.6899 - val_accuracy: 0.5481\n",
      "Epoch 3/20\n",
      "657/657 [==============================] - 101s 153ms/step - loss: 0.6887 - accuracy: 0.5444 - val_loss: 0.6843 - val_accuracy: 0.5532\n",
      "Epoch 4/20\n",
      "657/657 [==============================] - 93s 141ms/step - loss: 0.6872 - accuracy: 0.5483 - val_loss: 0.6840 - val_accuracy: 0.5545\n",
      "Epoch 5/20\n",
      "657/657 [==============================] - 100s 152ms/step - loss: 0.6858 - accuracy: 0.5482 - val_loss: 0.6895 - val_accuracy: 0.5344\n",
      "Epoch 6/20\n",
      "657/657 [==============================] - 103s 156ms/step - loss: 0.6861 - accuracy: 0.5519 - val_loss: 0.6886 - val_accuracy: 0.5450\n",
      "Epoch 7/20\n",
      "657/657 [==============================] - 109s 166ms/step - loss: 0.6860 - accuracy: 0.5527 - val_loss: 0.6854 - val_accuracy: 0.5528\n",
      "Epoch 8/20\n",
      "657/657 [==============================] - 98s 150ms/step - loss: 0.6847 - accuracy: 0.5545 - val_loss: 0.6865 - val_accuracy: 0.5570\n",
      "Epoch 9/20\n",
      "657/657 [==============================] - 99s 151ms/step - loss: 0.6846 - accuracy: 0.5537 - val_loss: 0.6836 - val_accuracy: 0.5572\n",
      "Epoch 10/20\n",
      "657/657 [==============================] - 104s 158ms/step - loss: 0.6838 - accuracy: 0.5574 - val_loss: 0.6837 - val_accuracy: 0.5538\n",
      "Epoch 11/20\n",
      "657/657 [==============================] - 112s 171ms/step - loss: 0.6837 - accuracy: 0.5554 - val_loss: 0.6845 - val_accuracy: 0.5587\n",
      "Epoch 12/20\n",
      "657/657 [==============================] - 110s 167ms/step - loss: 0.6830 - accuracy: 0.5618 - val_loss: 0.6903 - val_accuracy: 0.5496\n",
      "Epoch 13/20\n",
      "657/657 [==============================] - 114s 174ms/step - loss: 0.6825 - accuracy: 0.5564 - val_loss: 0.6848 - val_accuracy: 0.5557\n",
      "Epoch 14/20\n",
      "657/657 [==============================] - 110s 167ms/step - loss: 0.6841 - accuracy: 0.5606 - val_loss: 0.6840 - val_accuracy: 0.5589\n",
      "Epoch 15/20\n",
      "657/657 [==============================] - 108s 164ms/step - loss: 0.6820 - accuracy: 0.5620 - val_loss: 0.6865 - val_accuracy: 0.5496\n",
      "Epoch 16/20\n",
      "657/657 [==============================] - 107s 164ms/step - loss: 0.6811 - accuracy: 0.5643 - val_loss: 0.6867 - val_accuracy: 0.5561\n",
      "Epoch 17/20\n",
      "657/657 [==============================] - 111s 169ms/step - loss: 0.6801 - accuracy: 0.5671 - val_loss: 0.6848 - val_accuracy: 0.5498\n",
      "Epoch 18/20\n",
      "657/657 [==============================] - 112s 171ms/step - loss: 0.6798 - accuracy: 0.5660 - val_loss: 0.6868 - val_accuracy: 0.5557\n",
      "Epoch 19/20\n",
      "657/657 [==============================] - 116s 177ms/step - loss: 0.6794 - accuracy: 0.5662 - val_loss: 0.6844 - val_accuracy: 0.5561\n",
      "Epoch 20/20\n",
      "657/657 [==============================] - 112s 170ms/step - loss: 0.6782 - accuracy: 0.5674 - val_loss: 0.6869 - val_accuracy: 0.5473\n"
     ]
    }
   ],
   "source": [
    "# Creating and compiling a model with the best parameters from the cluster\n",
    "\n",
    "lstm_model=create_lstm_model(activ_function='sigmoid', \n",
    "                                            units=256, \n",
    "                                            dropout_rate=0.5,\n",
    "                                            num_layers=4,\n",
    "                                            optimizer='RMSProp',\n",
    "                          learning_rate=1e-5)\n",
    "\n",
    "# Fitting the model\n",
    "history = lstm_model.fit(np.array(X_train), np.array(y_train), epochs=20,\n",
    "                         validation_data=(np.array(X_val),np.array(y_val)), verbose=1)"
   ]
  },
  {
   "cell_type": "markdown",
   "metadata": {},
   "source": [
    "## Performance"
   ]
  },
  {
   "cell_type": "code",
   "execution_count": 13,
   "metadata": {},
   "outputs": [
    {
     "data": {
      "image/png": "[encoded data removed]",
      "text/plain": [
       "<Figure size 1440x576 with 1 Axes>"
      ]
     },
     "metadata": {
      "needs_background": "light"
     },
     "output_type": "display_data"
    }
   ],
   "source": [
    "# Training Performance\n",
    "\n",
    "history.history.keys()\n",
    "pd.DataFrame(history.history).plot(figsize=(20, 8))\n",
    "plt.grid(True)\n",
    "plt.gca().set_ylim(0, 1) # set the vertical range to [0-1]\n",
    "plt.show()"
   ]
  },
  {
   "cell_type": "code",
   "execution_count": 14,
   "metadata": {
    "scrolled": true
   },
   "outputs": [
    {
     "data": {
      "image/png": "[encoded data removed]",
      "text/plain": [
       "<Figure size 432x288 with 2 Axes>"
      ]
     },
     "metadata": {
      "needs_background": "light"
     },
     "output_type": "display_data"
    }
   ],
   "source": [
    "# Confusion Matrix\n",
    "\n",
    "# # Performance\n",
    "y_pred=lstm_model.predict(X_test) # Returns a list where every element is an array with the continuous\n",
    "# value prediction\n",
    "y_pred=[x[0] for x in y_pred] # Getting all the continuous value predictions from the arrays\n",
    "for i in range(len(y_pred)): # Transforming the continuous value into binary labels\n",
    "    if y_pred[i] <= 0.5:\n",
    "        y_pred[i] = 0\n",
    "    if y_pred[i] > 0.5:\n",
    "        y_pred[i] = 1\n",
    "\n",
    "# Plotting Confusion Matrix\n",
    "cm=confusion_matrix(y_test, y_pred)\n",
    "ax= plt.subplot()\n",
    "sns.heatmap(cm, annot=True, fmt='g', ax=ax);  #annot=True to annotate cells, ftm='g' to disable scientific notation\n",
    "\n",
    "# labels, title and ticks\n",
    "ax.set_xlabel('Predicted labels');ax.set_ylabel('True labels'); \n",
    "ax.set_title('Confusion Matrix'); \n",
    "ax.xaxis.set_ticklabels(['Sell', 'Buy']); ax.yaxis.set_ticklabels(['Sell', 'Buy']);"
   ]
  },
  {
   "cell_type": "markdown",
   "metadata": {},
   "source": [
    "## Saving and Reloading the Model"
   ]
  },
  {
   "cell_type": "code",
   "execution_count": 24,
   "metadata": {},
   "outputs": [],
   "source": [
    "# # Saving the model\n",
    "\n",
    "# lstm_model.save('Models/LSTM Class 12 BTC.h5')"
   ]
  },
  {
   "cell_type": "code",
   "execution_count": null,
   "metadata": {},
   "outputs": [],
   "source": [
    "# # Reloading the model\n",
    "\n",
    "# lstm_class_model=model = keras.models.load_model('Models/LSTM Class 12 BTC.h5')"
   ]
  }
 ],
 "metadata": {
  "kernelspec": {
   "display_name": "Python 3 (ipykernel)",
   "language": "python",
   "name": "python3"
  },
  "language_info": {
   "codemirror_mode": {
    "name": "ipython",
    "version": 3
   },
   "file_extension": ".py",
   "mimetype": "text/x-python",
   "name": "python",
   "nbconvert_exporter": "python",
   "pygments_lexer": "ipython3",
   "version": "3.7.11"
  },
  "toc": {
   "base_numbering": 1,
   "nav_menu": {},
   "number_sections": true,
   "sideBar": true,
   "skip_h1_title": false,
   "title_cell": "Table of Contents",
   "title_sidebar": "Contents",
   "toc_cell": false,
   "toc_position": {},
   "toc_section_display": true,
   "toc_window_display": true
  }
 },
 "nbformat": 4,
 "nbformat_minor": 4
}
