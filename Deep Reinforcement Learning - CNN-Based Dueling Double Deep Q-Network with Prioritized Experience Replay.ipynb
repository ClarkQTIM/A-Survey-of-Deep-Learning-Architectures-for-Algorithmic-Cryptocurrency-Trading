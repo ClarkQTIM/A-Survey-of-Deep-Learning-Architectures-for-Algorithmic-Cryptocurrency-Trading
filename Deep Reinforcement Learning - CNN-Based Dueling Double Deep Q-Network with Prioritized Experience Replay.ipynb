{
 "cells": [
  {
   "cell_type": "markdown",
   "metadata": {},
   "source": [
    "# Setting up our Notebook"
   ]
  },
  {
   "cell_type": "code",
   "execution_count": 1,
   "metadata": {},
   "outputs": [],
   "source": [
    "# Things to import\n",
    "\n",
    "# Standard data, plotting, time, and mathematical tools\n",
    "import random\n",
    "import numpy as np\n",
    "import matplotlib.pyplot as plt\n",
    "import pandas as pd\n",
    "import random\n",
    "\n",
    "# Pytorch and Gym\n",
    "import torch\n",
    "import torch.nn as nn\n",
    "from torch.optim import Adam\n",
    "import gym\n",
    "from gym import Env\n",
    "from gym.spaces import Discrete, Box\n",
    "import torch.nn.functional as F\n",
    "from collections import deque\n",
    "\n",
    "# PCA and Training\n",
    "from sklearn.decomposition import PCA\n",
    "from sklearn.preprocessing import StandardScaler\n",
    "from sklearn.model_selection import train_test_split\n",
    "\n",
    "# Smoothening\n",
    "from scipy.signal import convolve, gaussian\n",
    "\n",
    "# Misc\n",
    "import os\n",
    "import io\n",
    "import base64\n",
    "import time\n",
    "import glob\n",
    "\n",
    "from IPython.display import Image"
   ]
  },
  {
   "cell_type": "markdown",
   "metadata": {},
   "source": [
    "Note, this script heavily follows Listing 6.1, 6.3, 6.4, and 6.4 from the accompanying code for Deep Reinforcement Learning with Python: With PyTorch, TensorFlow and OpenAI Gym."
   ]
  },
  {
   "cell_type": "markdown",
   "metadata": {},
   "source": [
    "# Importing the data"
   ]
  },
  {
   "cell_type": "code",
   "execution_count": 2,
   "metadata": {},
   "outputs": [],
   "source": [
    "# Importing the data\n",
    "\n",
    "dfs=['Non-Scaled TA Features 1H for BTC.csv']"
   ]
  },
  {
   "cell_type": "markdown",
   "metadata": {},
   "source": [
    "# Convolutional Neural Network-Based Double Deep Q-Network with Prioritized Experience Replay"
   ]
  },
  {
   "cell_type": "markdown",
   "metadata": {},
   "source": [
    "## Mathematical Description of a Deep Q-Network"
   ]
  },
  {
   "cell_type": "markdown",
   "metadata": {},
   "source": [
    "Recall the equation for Q-Learning:\n",
    "\n",
    "$$ Q(S_t,A_t)=Q(S_t,A_t)+\\alpha \\left[ R_{t+1}+\\gamma \\max_{A_{t+1}} Q(S_{t+1},A_{t+1})-Q(S_t,A_t) \\right]$$\n",
    "\n",
    "However, we will be using neural networks to approximate our $Q$-function. We denote the weights and biases of this neural network $\\bf{\\Theta}$, and our approximation is thus:\n",
    "\n",
    "$$Q^{\\pi}(s,a) \\approx {\\hat{Q}}(s,a, \\bf{\\Theta})$$.\n",
    "\n",
    "We can calculate the loss as the difference squared between the true or target $Q$-function and the appoximation, in Monte Carlo form, as:\n",
    "\n",
    "$$ {\\mathcal{L}}({\\bf{\\Theta}})=\\dfrac{1}{N}\\sum_{i=1}^{N}(Q^{\\pi}(s,a) - {\\hat{Q}}(s,a, {\\bf{\\Theta}}))^2$$\n",
    "\n",
    "We use gradient descent to update our parameters $\\bf{\\Theta}$:\n",
    "\n",
    "$${\\bf{\\Theta}}_{t+1}={\\bf{\\Theta}}_t-\\alpha \\nabla _{{\\bf{\\Theta}}_t} {\\mathcal{L}}({\\bf{\\Theta}}_t)$$\n",
    "\n",
    "However, unlike in normal supervised machine learning, we do not actually know the true function $Q^{\\pi}$, so we must approximate it. We do so with another set of weights, ${\\bf{\\Theta}}^{target}$.\n",
    "\n",
    "Our new target function is thus:\n",
    "\n",
    "$$Q^{\\pi}(s_i,a_i)=r_i+(1-done_i)\\gamma \\max_{{a_i}^{'}} {\\tilde{Q}}({s_i}^{'},{a_i}^{'},{\\bf{\\Theta}}^{target}_t)$$\n",
    "\n",
    "Finally, our parameter update equation, fully wirtten out, becomes:\n",
    "\n",
    "$${\\bf{\\Theta}}_{t+1}={\\bf{\\Theta}}_t +\\alpha \\dfrac{1}{N}\\sum_{i=1}^{N} \\left[ r_i+(1-done_i) \\gamma \\max_{{a_i}^{'}} {\\tilde{Q}}({s_i}^{'},{a_i}^{'},{\\bf{\\Theta}}^{target}_t)-{\\hat{Q}}(s_i,a_i, {\\bf{\\Theta}}_t) \\right] \\nabla _{{\\bf{\\Theta}}_t}  {\\hat{Q}}(s_i,a_i, {\\bf{\\Theta}}_t)$$\n",
    "\n",
    "\n",
    "Our target parameters, ${\\bf{\\Theta}}^{target}$ are then updated less often so they serve as a stationary target for our loss function."
   ]
  },
  {
   "cell_type": "markdown",
   "metadata": {},
   "source": [
    "## Mathematical Description of a Double Deep Q-Network"
   ]
  },
  {
   "cell_type": "markdown",
   "metadata": {},
   "source": [
    "In a Double Deep Q-Network, the only thing that changes is the target. Recall the target Q-network in DQN:\n",
    "\n",
    "$$Y^{target}_{DQN}=r_i+(1-done_i)\\gamma \\max_{{a_i}^{'}} {\\tilde{Q}}({s_i}^{'},{a_i}^{'},{\\bf{\\Theta}}^{target}_t)$$\n",
    "\n",
    "We will modify this slightly by choosing the next action to be the one that maximizes the $\\hat{Q}$, and then feed that into the $\\tilde{Q}$ function. This looks like:\n",
    "\n",
    "$$Y^{target}_{DDQN}=r_i+(1-done_i)\\gamma {\\tilde{Q}}({s_i}^{'},\\max_{{a_i}^{'}} {\\hat{Q}}({s_i}^{'},{a_i}^{'},{\\bf{\\Theta}}_t) ,{\\bf{\\Theta}}^{target}_t)$$"
   ]
  },
  {
   "cell_type": "markdown",
   "metadata": {},
   "source": [
    "## Mathematical Description of a Dueling Deep Q-Network"
   ]
  },
  {
   "cell_type": "markdown",
   "metadata": {},
   "source": [
    "In this modification, we will begin by defining the Advantage:\n",
    "\n",
    "$$ A^{\\pi} (s,a)=Q^{\\pi}(s,a)-V(s)^{\\pi}$$\n",
    "\n",
    "From here, we will divide our neural network up and calculate the $Q$-value as follows:\n",
    "\n",
    "<img src=\"Graphics/Dueling DQN.png\" width=\"600\" height=\"600\" />"
   ]
  },
  {
   "cell_type": "markdown",
   "metadata": {},
   "source": [
    "## Getting the train/test data"
   ]
  },
  {
   "cell_type": "code",
   "execution_count": 10,
   "metadata": {},
   "outputs": [],
   "source": [
    "# Defining a function to create PCA matrices\n",
    "\n",
    "def PCA_creation_train_test(no_components, X_train, X_test):\n",
    "    \n",
    "    # Scaling the data with our X_train matrix\n",
    "    scaler=StandardScaler()\n",
    "    X_train=scaler.fit_transform(X_train)\n",
    "    \n",
    "    # Fitting the PCA to our X_train matrix\n",
    "    pca=PCA(n_components=no_components)\n",
    "    X_train=pca.fit_transform(X_train)\n",
    "\n",
    "    # Scaling the X_test \n",
    "    X_test=scaler.transform(X_test)\n",
    "\n",
    "    # Transforming the X_test\n",
    "    X_test=pca.transform(X_test)\n",
    "    \n",
    "    return X_train, X_test"
   ]
  },
  {
   "cell_type": "code",
   "execution_count": 11,
   "metadata": {},
   "outputs": [
    {
     "name": "stdout",
     "output_type": "stream",
     "text": [
      "Confirming we have all the columns we want: \n",
      " Index(['BB_upper 10', 'BB_middle 10', 'BB_lower 10', 'Aroon_down 10',\n",
      "       'Aroon_up 10', 'Aroonosc 10', 'RSI 10', 'NATR 10', 'BB_upper 12',\n",
      "       'BB_middle 12',\n",
      "       ...\n",
      "       'MACD Signal 18', 'MACD Hist18', 'Med Price', 'Chaikin A/D Line',\n",
      "       'HT Dom Phase', 'HT Dom Period', 'High', 'Low', 'Close', 'Volume'],\n",
      "      dtype='object', length=101)\n"
     ]
    }
   ],
   "source": [
    "# Train and test splitting and scaling\n",
    "X=pd.read_csv(dfs[0])\n",
    "\n",
    "X['Date']=pd.to_datetime(X['Date']) # Setting the index as the Date\n",
    "X=X.set_index('Date').asfreq('H')\n",
    "\n",
    "X=X.dropna()\n",
    "y=X['Percent Change']\n",
    "X=X.drop('Label', axis=1)\n",
    "X=X.drop('Percent Change', axis=1)\n",
    "\n",
    "\n",
    "# Removing the testing data\n",
    "X_test=X[-4380:] # Getting the last 6 months as the testing data\n",
    "print('Confirming we have all the columns we want:','\\n', X_test.columns)\n",
    "y_test=y[-4380:].values\n",
    "\n",
    "X=X[:-4380] # Getting everything but the first 6 months as the training data\n",
    "y=y[:-4380]"
   ]
  },
  {
   "cell_type": "code",
   "execution_count": 12,
   "metadata": {},
   "outputs": [],
   "source": [
    "# Image creation function\n",
    "\n",
    "def image_creation(n_steps, X, y):\n",
    "    X_images=[]\n",
    "    y_values=[]\n",
    "    \n",
    "    for i in range(n_steps, len(X)):\n",
    "        img=X[i-n_steps,:]\n",
    "        img=np.vstack((img, X[i-n_steps+1,:]))\n",
    "        img=np.vstack((img, X[i-n_steps+2,:]))\n",
    "        img=np.vstack((img, X[i-n_steps+3,:]))\n",
    "        img=np.vstack((img, X[i-n_steps+4,:]))\n",
    "        img=np.vstack((img, X[i-n_steps+5,:]))\n",
    "        img=np.vstack((img, X[i-n_steps+6,:]))\n",
    "        img=np.vstack((img, X[i-n_steps+7,:]))\n",
    "        img=np.vstack((img, X[i-n_steps+8,:]))\n",
    "        img=np.vstack((img, X[i-n_steps+9,:]))\n",
    "        img=np.vstack((img, X[i-n_steps+10,:]))\n",
    "        img=np.vstack((img, X[i-n_steps+11,:]))\n",
    "        X_images.append(img)\n",
    "        y_values.append(y[i-n_steps+11])\n",
    "        \n",
    "    return X_images, np.array(y_values) # Note, this will not include the very last one."
   ]
  },
  {
   "cell_type": "code",
   "execution_count": 13,
   "metadata": {},
   "outputs": [
    {
     "name": "stdout",
     "output_type": "stream",
     "text": [
      "X_train shape: (26264, 1, 12, 20)\n",
      "26264 train samples\n",
      "4368 test samples\n"
     ]
    }
   ],
   "source": [
    "n_steps=12\n",
    "\n",
    "# First, we create our PCA matrices from the X and X_test\n",
    "X, X_test=PCA_creation_train_test(20, X, X_test)\n",
    "    \n",
    "# Getting the X and X_test matrices' images\n",
    "X_train, y_train=image_creation(n_steps, X ,y)\n",
    "X_test, y_test=image_creation(n_steps, X_test, y_test)\n",
    "y_train=np.array(y_train)\n",
    "y_test=np.array(y_test)\n",
    "\n",
    "# Finalizing the shapes\n",
    "num_classes = 2\n",
    "input_shape = (n_steps, len(X[0]), 1)\n",
    "\n",
    "# Add a dimension at the beginning end to make sure images have shape (1, n_steps, n_features)\n",
    "# Note this is the OPPOSITE of tensorflow\n",
    "X_train = np.expand_dims(X_train, 1)\n",
    "X_test = np.expand_dims(X_test, 1)\n",
    "print(\"X_train shape:\", X_train.shape)\n",
    "print(X_train.shape[0], \"train samples\")\n",
    "print(X_test.shape[0], \"test samples\")"
   ]
  },
  {
   "cell_type": "markdown",
   "metadata": {},
   "source": [
    "## Financial Environment"
   ]
  },
  {
   "cell_type": "code",
   "execution_count": 5,
   "metadata": {},
   "outputs": [],
   "source": [
    "class FinEnv(Env):\n",
    "    # A custom Bitcoin trading environment\n",
    "    def __init__(self, df, y, initial_balance=1000):\n",
    "        # Define action space and state size and other custom parameters\n",
    "        self.df = df\n",
    "        self.y = y\n",
    "        self.df_total_steps = len(self.df) # How many steps we can possibly take\n",
    "        self.initial_balance = initial_balance # How much we start with\n",
    "        self.holding_asset = 0 # We use this to indicate if we are holding an asset or not. 0 is No, 1 is Yes\n",
    "        self.actions_taken=[] # Keeping a log of our actions\n",
    "        \n",
    "        # Orders history contains the our net worth at each step\n",
    "        self.orders_history = deque(maxlen=self.df_total_steps)\n",
    "        \n",
    "        # Market history contains the current market values\n",
    "        self.market_history = deque(maxlen=1)\n",
    "\n",
    "        # Action space. 1 is Buy and 0 is Sell\n",
    "        self.action_space = np.array([0, 1])\n",
    "\n",
    "        # State size contains the 20 PCA data points per time for 12 time slices\n",
    "        self.state_size = df[0].shape\n",
    "\n",
    "    # Reset the state of the environment to an initial state\n",
    "    def reset(self, env_steps_size=0):\n",
    "        self.net_worth = self.initial_balance\n",
    "        self.prev_net_worth = self.initial_balance\n",
    "        self.holding_asset = 0 # We are not holding anything in the beginning\n",
    "        self.actions_taken=[] # Keeping a log of our actions\n",
    "        if env_steps_size > 0: # used for training dataset\n",
    "            self.start_step = random.randint(0, self.df_total_steps - env_steps_size) # Picks a random step to start from\n",
    "            self.end_step = self.start_step + env_steps_size # Runs from the randomly chosen step to that step+env_steps we want\n",
    "        else: # used for testing dataset\n",
    "            self.start_step = 0\n",
    "            self.end_step = self.df_total_steps-1\n",
    "\n",
    "        self.current_step = self.start_step\n",
    "\n",
    "        self.state = self.df[self.current_step] # State is the state of the market\n",
    "        # print('Beginning State', self.state)\n",
    "\n",
    "        return self.state\n",
    "\n",
    "    # Get the data points for the given current_step\n",
    "    def _next_observation(self):\n",
    "        obs = self.df[self.current_step] # Will be what the nn sees to make a decision\n",
    "        # print('Obs next_observation', obs)\n",
    "        return obs\n",
    "\n",
    "    # Execute one time step within the environment\n",
    "    def step(self, action):\n",
    "        # print('Action', action)\n",
    "        # Percent Change\n",
    "        self.percent_change=self.y[self.current_step]\n",
    "        # print('Percent Change on this step', self.percent_change)\n",
    "        \n",
    "        if action == 1 and self.holding_asset == 0: # Enter the market with all of your current net worth. It is affected\n",
    "            # by the percent change\n",
    "            self.net_worth = self.prev_net_worth * (1 + self.percent_change/100)\n",
    "            self.holding_asset = 1 # You are now holding an asset\n",
    "            self.actions_taken.append('Bought')\n",
    "            \n",
    "        elif action == 1 and self.holding_asset == 1: # You already bought and are waiting to sell. It is affected by the \n",
    "            # percent change\n",
    "            self.net_worth = self.prev_net_worth * (1 + self.percent_change/100)\n",
    "            # Your holding_asset does not change\n",
    "            self.actions_taken.append('Buy signal, but we are waiting to sell')\n",
    "            pass\n",
    "\n",
    "        elif action == 0 and self.holding_asset == 1: # You leave the market\n",
    "            self.net_worth = self.prev_net_worth # Your net worth doesn't change\n",
    "            self.holding_asset = 0 # You are no longer holding any assets\n",
    "            self.actions_taken.append('Sold')\n",
    "            \n",
    "        elif action==0  and self.holding_asset == 0: # You already sold and are waiting for a buy signal\n",
    "            self.net_worth = self.prev_net_worth # Your net worth doesn't change\n",
    "            # Your holding_asset does not change\n",
    "            self.actions_taken.append('Sell signal, but we are waiting to buy')\n",
    "            pass\n",
    "        # Reward\n",
    "        reward=self.net_worth-self.prev_net_worth # Our reward is the change in our net worth\n",
    "        \n",
    "        # Updating our prev_net_worth\n",
    "        self.prev_net_worth = self.net_worth # Updating our prev_net_worth for the next time step\n",
    "        # print('Net worth after market acts', self.prev_net_worth)\n",
    "\n",
    "        self.orders_history.append([self.net_worth]) # Adding our net worth to our orders_history\n",
    "        \n",
    "        # Leave the market if we have lost half our money\n",
    "        if self.net_worth <= self.initial_balance/2:\n",
    "            done = True\n",
    "        else:\n",
    "            done = False\n",
    "\n",
    "        # Stepping into the next state\n",
    "        if self.current_step == self.end_step:\n",
    "            # print('We are done stepping', self.current_step)\n",
    "            obs=[]\n",
    "            done = True\n",
    "        else:    \n",
    "            self.current_step += 1    \n",
    "            obs = self._next_observation() # Moves us to the next observation\n",
    "        \n",
    "        # Set net worths as info so we can retrieve it at the end\n",
    "        info = self.orders_history\n",
    "        \n",
    "        # Return step information   \n",
    "        return obs, reward, done, info\n",
    "    # render environment\n",
    "    def render(self, mode='human'): # 'mode=human' is required for the Keras-RL package\n",
    "        print(f'Step: {self.current_step}, Beginning Net Worth: {self.net_worth}')"
   ]
  },
  {
   "cell_type": "markdown",
   "metadata": {},
   "source": [
    "## Random Games"
   ]
  },
  {
   "cell_type": "code",
   "execution_count": 19,
   "metadata": {},
   "outputs": [],
   "source": [
    "def Random_games(env, episodes = 50, steps=1000):\n",
    "    for episode in range(episodes): # Runs through however many number of training episodes\n",
    "        state = env.reset(env_steps_size = steps) # Sets the env_step_size to the batch size\n",
    "\n",
    "        while True:\n",
    "            # env.render()\n",
    "\n",
    "            action = np.random.randint(2, size=1)[0]\n",
    "\n",
    "            state, reward, done, info = env.step(action)\n",
    "            # print('Reward', reward)\n",
    "            # print('End Net Worth', info[-1])\n",
    "            \n",
    "\n",
    "            if env.current_step == env.end_step:\n",
    "                break\n",
    "                \n",
    "    return reward"
   ]
  },
  {
   "cell_type": "code",
   "execution_count": 21,
   "metadata": {
    "tags": []
   },
   "outputs": [],
   "source": [
    "# Playing a random game to confirm our environment is working\n",
    "\n",
    "# Setting up the environment\n",
    "df=X_train\n",
    "y=y_train\n",
    "train_env = FinEnv(df, y)\n",
    "\n",
    "# Random Game\n",
    "Random_games(train_env, episodes = 1, steps=1000)"
   ]
  },
  {
   "cell_type": "markdown",
   "metadata": {},
   "source": [
    "## Building the network"
   ]
  },
  {
   "cell_type": "markdown",
   "metadata": {},
   "source": [
    "### Dueling DQN"
   ]
  },
  {
   "cell_type": "code",
   "execution_count": 16,
   "metadata": {},
   "outputs": [
    {
     "data": {
      "text/plain": [
       "device(type='cpu')"
      ]
     },
     "execution_count": 16,
     "metadata": {},
     "output_type": "execute_result"
    }
   ],
   "source": [
    "# Setting up the device\n",
    "\n",
    "device = torch.device('cuda' if torch.cuda.is_available() else 'cpu')\n",
    "device"
   ]
  },
  {
   "cell_type": "code",
   "execution_count": 17,
   "metadata": {},
   "outputs": [
    {
     "name": "stdout",
     "output_type": "stream",
     "text": [
      "State Shape (1, 12, 20)\n",
      "Number of actions 2\n"
     ]
    }
   ],
   "source": [
    "# Setting up the states and actions\n",
    "state_shape = train_env.state_size\n",
    "n_actions = len(train_env.action_space)\n",
    "print('State Shape',state_shape)\n",
    "print('Number of actions', n_actions)"
   ]
  },
  {
   "cell_type": "code",
   "execution_count": 18,
   "metadata": {},
   "outputs": [],
   "source": [
    "# Creating the Dueling DQN Agent\n",
    "\n",
    "class DuelingDQNAgent(nn.Module):\n",
    "    def __init__(self, state_shape, n_actions, epsilon=0):\n",
    "\n",
    "        super().__init__()\n",
    "        self.epsilon = epsilon\n",
    "        self.n_actions = n_actions\n",
    "        self.state_shape = state_shape\n",
    "\n",
    "        # Conv and Pool Network\n",
    "    \n",
    "        self.conv_network = nn.Sequential()\n",
    "        self.conv_network.add_module('conv', nn.Conv2d(1, 64, kernel_size=3, stride=1, padding=0)) # 'Valid' padding\n",
    "        self.conv_network.add_module('tanh', nn.Tanh())\n",
    "        self.conv_network.add_module('avg_pool', nn.AvgPool2d(kernel_size=2, stride=2, padding=0))\n",
    "        self.conv_network.add_module('flatten', nn.Flatten())\n",
    "\n",
    "        # MLP Network for both Value and Advantage to go through\n",
    "\n",
    "        self.fc_network = nn.Sequential()\n",
    "        self.fc_network.add_module('linear1', nn.Linear(2880, 512))\n",
    "        self.fc_network.add_module('tanh1', nn.Tanh())\n",
    "        self.fc_network.add_module('Dropout1', nn.Dropout(0.6))\n",
    "        self.fc_network.add_module('linear2', nn.Linear(512, 512))\n",
    "        self.fc_network.add_module('tanh2', nn.Tanh())\n",
    "        self.fc_network.add_module('Dropout2', nn.Dropout(0.6))\n",
    "\n",
    "        # Value Layer\n",
    "        self.value = nn.Linear(512, 1)\n",
    "\n",
    "        # Advantage Layer\n",
    "        self.adv = nn.Linear(512, n_actions)\n",
    "\n",
    "    def forward(self, state_t):\n",
    "        # pass the state at time t through the network to get Q(s,a)\n",
    "        x = self.conv_network(state_t)\n",
    "        x = self.fc_network(x)\n",
    "        v = self.value(x)\n",
    "        adv = self.adv(x)\n",
    "        adv_avg = torch.mean(adv, dim=1, keepdim=True)\n",
    "        qvalues = v + adv - adv_avg\n",
    "        return qvalues\n",
    "\n",
    "    def get_qvalues(self, states):\n",
    "        # input is an array of states in numpy and output is Qvals as numpy array\n",
    "        states = torch.tensor(states, device=device, dtype=torch.float32)\n",
    "        qvalues = self.forward(states)\n",
    "        return qvalues.data.cpu().numpy()\n",
    "\n",
    "    def sample_actions(self, qvalues):\n",
    "        # sample actions from a batch of q_values using epsilon greedy policy\n",
    "        epsilon = self.epsilon\n",
    "        batch_size, n_actions = qvalues.shape\n",
    "        random_actions = np.random.choice(n_actions, size=batch_size)\n",
    "        best_actions = qvalues.argmax(axis=-1)\n",
    "        should_explore = np.random.choice(\n",
    "            [0, 1], batch_size, p=[1-epsilon, epsilon])\n",
    "        return np.where(should_explore, random_actions, best_actions)"
   ]
  },
  {
   "cell_type": "code",
   "execution_count": 19,
   "metadata": {},
   "outputs": [],
   "source": [
    "# Instantiation of the agent\n",
    "\n",
    "agent = DuelingDQNAgent(state_shape, n_actions, epsilon=0.5).to(device)"
   ]
  },
  {
   "cell_type": "code",
   "execution_count": 20,
   "metadata": {},
   "outputs": [],
   "source": [
    "# Evaluation function\n",
    "\n",
    "def evaluate(env, agent, n_games=1, greedy=False, t_max=10000):\n",
    "    rewards = []\n",
    "    for _ in range(n_games):\n",
    "        s = env.reset()\n",
    "        reward = 0\n",
    "        for _ in range(t_max):\n",
    "            qvalues = agent.get_qvalues([s])\n",
    "            action = qvalues.argmax(axis=-1)[0] if greedy else agent.sample_actions(qvalues)[0]\n",
    "            s, r, done, info = env.step(action)\n",
    "            reward += r\n",
    "            if done:\n",
    "                break\n",
    "\n",
    "        rewards.append(reward)\n",
    "    return np.mean(rewards), info"
   ]
  },
  {
   "cell_type": "markdown",
   "metadata": {},
   "source": [
    "## Prioritized Experience Replay"
   ]
  },
  {
   "cell_type": "markdown",
   "metadata": {},
   "source": [
    "### Mathematical Description of Prioritized Experience Replay"
   ]
  },
  {
   "cell_type": "markdown",
   "metadata": {},
   "source": [
    "Replay buffer is very important in DQN to break the correlation between samples. We use a behavior policy ($\\epsilon-greedy$) to sample from the environment and store the transitions $(s,a,r,s',done)$ into a buffer. These samples are used multiple times in a learning making the process sample efficient. \n",
    "\n",
    "We will be using prioritized version of experience replay. \n",
    "\n",
    "The interface to PrioritizedReplayBuffer is:\n",
    "* `exp_replay.add(state, action, reward, next_state, done)` - saves (s,a,r,s',done) tuple into the buffer\n",
    "* `exp_replay.sample(batch_size)` - returns states, actions, rewards, next_states and done_flags for `batch_size` random samples.\n",
    "* `update_priorities(idxs, new_priorities)` - returns nothing. \n",
    "* `len(exp_replay)` - returns number of elements stored in replay buffer.\n",
    "\n",
    "In usual replay buffer, we select training batch with equal probability of selection for each sample/transition stored in the buffer. However, in Prioritized replay, we assign an importance score $p_i$ to each sample/transition. One approach to importance score is to use the absolute value of TD error $\\delta_i$ with addition of small constant $\\epsilon$ to avoid the edge case of error being zero and not picked up again ever.  \n",
    "\n",
    "$$ p_i = |\\delta_i| +\\epsilon$$\n",
    "\n",
    "$$\\delta_i = r_i + \\left[ (1-done_i)  \\gamma   \\max_{a_i^{'}} \\tilde{Q}(s_{i}^{'},a_i^{'},{\\bf{\\Theta}}^{target}_t) \\right] – \\hat{Q}(s_i,a_i,{\\bf{\\Theta}}_t)$$\n",
    "\n",
    "Note: We have the regular DQN error written above, but when combining the Double DQN and PER, this error will change to accomodate the changes in the Double DQN.\n",
    "\n",
    "At the time of picking the batch samples from buffer, the individual importance scores for samples are converted to probability which defines the probability of a sample being picked:\n",
    "\n",
    "$$P(i) = \\frac{p_i^{\\alpha}}{\\sum_i p_i^{\\alpha}}$$\n",
    "\n",
    "$\\alpha$ is a hyper parameter and in the paper in which this method was developed, a value of 0.6 was found to work the best. We are using the same value in our code here.\n",
    "\n",
    "TD error for the samples chosen in the batch is used to calculate the loss and $\\nabla_w(L)$. The TD error is also used to update the importance score $p_i$ of the samples back in the buffer. \n",
    "\n",
    "The probability $P(i)$ is also used to calculate a weight, an importance sampling value, to adjust for the fact that samples now have a non uniform probability of being picked. The weight vector for batch samples as given below:\n",
    "\n",
    "$$w_i = \\left(\\frac{1}{N}\\frac{1}{P(i)} \\right)^\\beta$$\n",
    "\n",
    "The value of $\\beta=0.4$ has been taken from the paper in which this was originally implemented, same as with $\\alpha$.\n",
    "\n",
    "Now, we normalize our weight:\n",
    "\n",
    "$$w_i=\\dfrac{1}{\\max_{i} w_i} w_i$$\n",
    "\n",
    "Finally, our loss function is now:\n",
    "\n",
    "$${\\mathcal{L}}({\\bf{\\Theta}}_t, {\\bf{\\Theta}}^{target}_t)= \\dfrac{1}{N}\\sum_{i=1}^{N} \\left[ \\left( r_i+[(1-done_i) \\gamma \\max_{{a_i}^{'}} {\\tilde{Q}}({s_i}^{'},{a_i}^{'},{\\bf{\\Theta}}^{target}_t)]-{\\hat{Q}}(s_i,a_i, {\\bf{\\Theta}}_t) \\right) w_i \\right] ^2$$\n",
    "\n",
    "From this, we can calculate our parameter update equation, which we omit for brevity."
   ]
  },
  {
   "cell_type": "code",
   "execution_count": 21,
   "metadata": {},
   "outputs": [],
   "source": [
    "class PrioritizedReplayBuffer:\n",
    "    def __init__(self, size, alpha=0.6, beta=0.4):\n",
    "        self.size = size #max number of items in buffer\n",
    "        self.buffer =[] #array to holde buffer\n",
    "        self.next_id = 0\n",
    "        self.alpha = alpha\n",
    "        self.beta = beta\n",
    "        self.priorities = np.ones(size)\n",
    "        self.epsilon = 1e-5\n",
    "    \n",
    "    def __len__(self):\n",
    "        return len(self.buffer)\n",
    "    \n",
    "    def add(self, state, action, reward, next_state, done):\n",
    "        item = (state, action, reward, next_state, done)\n",
    "        max_priority = self.priorities.max()\n",
    "        if len(self.buffer) < self.size:\n",
    "            self.buffer.append(item)\n",
    "        else:\n",
    "            self.buffer[self.next_id] = item\n",
    "        self.priorities[self.next_id] = max_priority\n",
    "        self.next_id = (self.next_id + 1) % self.size\n",
    "        \n",
    "    def sample(self, batch_size):\n",
    "        priorities = self.priorities[:len(self.buffer)]\n",
    "        probabilities = priorities ** self.alpha\n",
    "        probabilities /= probabilities.sum()\n",
    "        N = len(self.buffer)\n",
    "        weights = (N * probabilities) ** (-self.beta)\n",
    "        weights /= weights.max()\n",
    "\n",
    "        idxs = np.random.choice(len(self.buffer), batch_size, p=probabilities)\n",
    "\n",
    "        samples = [self.buffer[i] for i in idxs]\n",
    "        states, actions, rewards, next_states, done_flags = list(zip(*samples))\n",
    "        weights = weights[idxs]\n",
    "        \n",
    "        \n",
    "        return  (np.array(states), np.array(actions), np.array(rewards), \n",
    "                np.array(next_states), np.array(done_flags), np.array(weights), np.array(idxs))\n",
    "        \n",
    "    def update_priorities(self, idxs, new_priorities):\n",
    "        self.priorities[idxs] = new_priorities+self.epsilon"
   ]
  },
  {
   "cell_type": "code",
   "execution_count": 22,
   "metadata": {},
   "outputs": [],
   "source": [
    "def play_and_record(start_state, agent, env, exp_replay, n_steps=1):\n",
    "\n",
    "    s = start_state\n",
    "    sum_rewards = 0\n",
    "\n",
    "    # Play the game for n_steps and record transitions in buffer\n",
    "    for _ in range(n_steps):\n",
    "        qvalues = agent.get_qvalues([s])\n",
    "        a = agent.sample_actions(qvalues)[0]        \n",
    "        next_s, r, done, _ = env.step(a)\n",
    "        sum_rewards += r\n",
    "        exp_replay.add(s, a, r, next_s, done)\n",
    "        if done:\n",
    "            s = env.reset()\n",
    "        else:\n",
    "            s = next_s\n",
    "        \n",
    "    return sum_rewards, s"
   ]
  },
  {
   "cell_type": "markdown",
   "metadata": {},
   "source": [
    "### Target network"
   ]
  },
  {
   "cell_type": "code",
   "execution_count": 23,
   "metadata": {},
   "outputs": [
    {
     "data": {
      "text/plain": [
       "<All keys matched successfully>"
      ]
     },
     "execution_count": 23,
     "metadata": {},
     "output_type": "execute_result"
    }
   ],
   "source": [
    "target_network = DuelingDQNAgent(agent.state_shape, agent.n_actions, epsilon=0.5).to(device)\n",
    "target_network.load_state_dict(agent.state_dict())"
   ]
  },
  {
   "cell_type": "markdown",
   "metadata": {},
   "source": [
    "### Learning with Double DQN"
   ]
  },
  {
   "cell_type": "code",
   "execution_count": 24,
   "metadata": {},
   "outputs": [],
   "source": [
    "def compute_td_loss_priority_replay_ddqn(agent, target_network, replay_buffer,\n",
    "                                    states, actions, rewards, next_states, done_flags, weights, buffer_idxs,\n",
    "                                    gamma=0.99, device=device):\n",
    "\n",
    "    # convert numpy array to torch tensors\n",
    "    states = torch.tensor(states, device=device, dtype=torch.float)\n",
    "    actions = torch.tensor(actions, device=device, dtype=torch.long)\n",
    "    rewards = torch.tensor(rewards, device=device, dtype=torch.float)\n",
    "    next_states = torch.tensor(next_states, device=device, dtype=torch.float)\n",
    "    done_flags = torch.tensor(done_flags.astype('float32'),device=device,dtype=torch.float)\n",
    "    weights = torch.tensor(weights, device=device, dtype=torch.float)\n",
    "\n",
    "    # get q-values for all actions in current states\n",
    "    # use agent network\n",
    "    predicted_qvalues = agent(states)\n",
    "\n",
    "    # compute q-values for all actions in next states\n",
    "    # use target network\n",
    "    predicted_next_qvalues = target_network(next_states)\n",
    "    \n",
    "    # select q-values for chosen actions\n",
    "    predicted_qvalues_for_actions = predicted_qvalues[range(\n",
    "        len(actions)), actions]\n",
    "    \n",
    "    # Same up to here as the regular DQN\n",
    "\n",
    "    # compute q-values for all actions in next states\n",
    "    # use agent network (online network)\n",
    "    qvalues_next_states = agent(next_states).detach()\n",
    "    \n",
    "    # compute Q argmax(next_states, actions) using predicted next q-values\n",
    "    _,a1max = torch.max(qvalues_next_states, dim=1)\n",
    "\n",
    "    #use target network to calculate the q value for best action chosen above\n",
    "    qvalues_next_states_target = target_network(next_states)\n",
    "\n",
    "    qvalues_next_states_target_max = qvalues_next_states_target[range(len(a1max)), a1max]\n",
    "\n",
    "    # compute \"target q-values\" \n",
    "    target_q = rewards + gamma * qvalues_next_states_target_max * (1-done_flags)\n",
    "\n",
    "    # mean squared error loss to minimize\n",
    "    loss = torch.mean((predicted_qvalues_for_actions - target_q).pow(2))\n",
    "\n",
    "    return loss"
   ]
  },
  {
   "cell_type": "markdown",
   "metadata": {},
   "source": [
    "## Main loop"
   ]
  },
  {
   "cell_type": "code",
   "execution_count": 25,
   "metadata": {},
   "outputs": [],
   "source": [
    "from tqdm import trange\n",
    "from IPython.display import clear_output\n",
    "import matplotlib.pyplot as plt"
   ]
  },
  {
   "cell_type": "code",
   "execution_count": 26,
   "metadata": {},
   "outputs": [
    {
     "data": {
      "text/plain": [
       "<torch._C.Generator at 0x20f54d31dd0>"
      ]
     },
     "execution_count": 26,
     "metadata": {},
     "output_type": "execute_result"
    }
   ],
   "source": [
    "# set a seed\n",
    "seed = 100\n",
    "random.seed(seed)\n",
    "np.random.seed(seed)\n",
    "torch.manual_seed(seed)"
   ]
  },
  {
   "cell_type": "code",
   "execution_count": 27,
   "metadata": {},
   "outputs": [
    {
     "name": "stdout",
     "output_type": "stream",
     "text": [
      "State Shape (1, 12, 20)\n",
      "Number of actions 2\n"
     ]
    },
    {
     "data": {
      "text/plain": [
       "<All keys matched successfully>"
      ]
     },
     "execution_count": 27,
     "metadata": {},
     "output_type": "execute_result"
    }
   ],
   "source": [
    "# Setting up the agent, environment, and target networks\n",
    "\n",
    "df=X_train\n",
    "y=y_train\n",
    "train_env = FinEnv(df, y)\n",
    "state_shape = train_env.state_size\n",
    "n_actions = len(train_env.action_space)\n",
    "print('State Shape',state_shape)\n",
    "print('Number of actions', n_actions)\n",
    "\n",
    "state = train_env.reset()\n",
    "\n",
    "agent = DuelingDQNAgent(state_shape, n_actions, epsilon=1).to(device)\n",
    "target_network = DuelingDQNAgent(state_shape, n_actions, epsilon=1).to(device)\n",
    "target_network.load_state_dict(agent.state_dict())"
   ]
  },
  {
   "cell_type": "code",
   "execution_count": 28,
   "metadata": {},
   "outputs": [
    {
     "name": "stderr",
     "output_type": "stream",
     "text": [
      "<ipython-input-18-c36baaf41870>:47: UserWarning: Creating a tensor from a list of numpy.ndarrays is extremely slow. Please consider converting the list to a single numpy.ndarray with numpy.array() before converting to a tensor. (Triggered internally at  ..\\torch\\csrc\\utils\\tensor_new.cpp:201.)\n",
      "  states = torch.tensor(states, device=device, dtype=torch.float32)\n"
     ]
    },
    {
     "name": "stdout",
     "output_type": "stream",
     "text": [
      "Number of experiences in Prioritized Replay Buffer 10000\n"
     ]
    }
   ],
   "source": [
    "# let us fill experience replay with some samples using full random policy\n",
    "\n",
    "exp_replay = PrioritizedReplayBuffer(10**4)\n",
    "for i in range(100):\n",
    "    play_and_record(state, agent, train_env, exp_replay, n_steps=10**2)\n",
    "    if len(exp_replay) == 10**4:\n",
    "        break\n",
    "print('Number of experiences in Prioritized Replay Buffer',len(exp_replay))"
   ]
  },
  {
   "cell_type": "code",
   "execution_count": 29,
   "metadata": {},
   "outputs": [],
   "source": [
    "# Training parameters\n",
    "\n",
    "timesteps_per_epoch = 1\n",
    "batch_size = 32\n",
    "total_steps = 40000\n",
    "\n",
    "# Optimizer\n",
    "opt = torch.optim.Adam(agent.parameters(), lr=1e-5)\n",
    "\n",
    "# Exploration Epsilon\n",
    "start_epsilon = 1\n",
    "end_epsilon = 0.05\n",
    "eps_decay_final_step = 2 * 10**4\n",
    "\n",
    "# Frequency for logging and updating\n",
    "loss_freq = 20\n",
    "refresh_target_network_freq = 100\n",
    "eval_freq = 1000\n",
    "\n",
    "# Gradient Clipping\n",
    "max_grad_norm = 5000\n",
    "\n",
    "# Logging\n",
    "mean_rw_history = []\n",
    "td_loss_history = []"
   ]
  },
  {
   "cell_type": "code",
   "execution_count": 30,
   "metadata": {},
   "outputs": [],
   "source": [
    "# Epsilon Schedule and Smoothening functions\n",
    "\n",
    "def epsilon_schedule(start_eps, end_eps, step, final_step):\n",
    "    return start_eps + (end_eps-start_eps)*min(step, final_step)/final_step\n",
    "\n",
    "def smoothen(values):\n",
    "    kernel = gaussian(100, std=100)\n",
    "    kernel = kernel / np.sum(kernel)\n",
    "    return convolve(values, kernel, 'valid')"
   ]
  },
  {
   "cell_type": "code",
   "execution_count": 31,
   "metadata": {},
   "outputs": [
    {
     "name": "stdout",
     "output_type": "stream",
     "text": [
      "buffer size = 10000, epsilon = 0.05000\n"
     ]
    },
    {
     "data": {
      "image/png": "[encoded data removed]",
      "text/plain": [
       "<Figure size 432x288 with 1 Axes>"
      ]
     },
     "metadata": {
      "needs_background": "light"
     },
     "output_type": "display_data"
    },
    {
     "name": "stderr",
     "output_type": "stream",
     "text": [
      "100%|████████████████████████████████████████████████████████████████████████████| 40001/40001 [37:55<00:00, 17.58it/s]\n"
     ]
    }
   ],
   "source": [
    "# Training\n",
    "\n",
    "state = train_env.reset()\n",
    "for step in trange(total_steps + 1):\n",
    "    \n",
    "    # reduce exploration as we progress\n",
    "    agent.epsilon = epsilon_schedule(start_epsilon, end_epsilon, step, eps_decay_final_step)\n",
    "\n",
    "    # take timesteps_per_epoch and update experience replay buffer\n",
    "    _, state = play_and_record(state, agent, train_env, exp_replay, timesteps_per_epoch)\n",
    "\n",
    "    # train by sampling batch_size of data from experience replay\n",
    "    states, actions, rewards, next_states, done_flags, weights, idxs = exp_replay.sample(batch_size)\n",
    "    \n",
    "\n",
    "    # loss = <compute TD loss>\n",
    "    loss = compute_td_loss_priority_replay_ddqn(agent, target_network, exp_replay,\n",
    "                           states, actions, rewards, next_states, done_flags, weights, idxs,              \n",
    "                           gamma=0.5,\n",
    "                           device=device)\n",
    "\n",
    "    loss.backward()\n",
    "    grad_norm = nn.utils.clip_grad_norm_(agent.parameters(), max_grad_norm)\n",
    "    opt.step()\n",
    "    opt.zero_grad()\n",
    "\n",
    "    if step % loss_freq == 0:\n",
    "        td_loss_history.append(loss.data.cpu().item())\n",
    "\n",
    "    if step % refresh_target_network_freq == 0:\n",
    "        # Load agent weights into target_network\n",
    "        target_network.load_state_dict(agent.state_dict())\n",
    "\n",
    "    if step % eval_freq == 0:\n",
    "        # eval the agent\n",
    "        mean_rw_history.append(evaluate(train_env, agent, n_games=3, greedy=True, t_max=1000)\n",
    "        )\n",
    "\n",
    "        clear_output(True)\n",
    "        print(\"buffer size = %i, epsilon = %.5f\" %\n",
    "              (len(exp_replay), agent.epsilon))\n",
    "\n",
    "#         plt.figure(figsize=[16, 5])\n",
    "#         plt.subplot(1, 2, 1)\n",
    "#         plt.title(\"Mean reward per episode\")\n",
    "#         plt.plot(mean_rw_history)\n",
    "#         plt.grid()\n",
    "\n",
    "        assert not np.isnan(td_loss_history[-1])\n",
    "        plt.subplot(1, 2, 2)\n",
    "        plt.title(\"TD loss history (smoothened)\")\n",
    "        plt.plot(smoothen(td_loss_history))\n",
    "        plt.grid()\n",
    "\n",
    "        plt.show()"
   ]
  },
  {
   "cell_type": "code",
   "execution_count": 32,
   "metadata": {},
   "outputs": [
    {
     "data": {
      "text/plain": [
       "Text(0.5, 1.0, 'Smoothened TD Loss')"
      ]
     },
     "execution_count": 32,
     "metadata": {},
     "output_type": "execute_result"
    },
    {
     "data": {
      "image/png": "[encoded data removed]",
      "text/plain": [
       "<Figure size 1200x360 with 1 Axes>"
      ]
     },
     "metadata": {
      "needs_background": "light"
     },
     "output_type": "display_data"
    }
   ],
   "source": [
    "TD_Loss=smoothen(td_loss_history)\n",
    "plt.rcParams.update({'figure.figsize':(10,3), 'figure.dpi':120})\n",
    "plt.plot(TD_Loss, color='black')\n",
    "plt.title('Smoothened TD Loss')"
   ]
  },
  {
   "cell_type": "markdown",
   "metadata": {},
   "source": [
    "### Performance Evaluation"
   ]
  },
  {
   "cell_type": "markdown",
   "metadata": {},
   "source": [
    "#### Training Environment"
   ]
  },
  {
   "cell_type": "code",
   "execution_count": 33,
   "metadata": {},
   "outputs": [
    {
     "name": "stdout",
     "output_type": "stream",
     "text": [
      "Average Rewards after 26263 steps in 10 game(s) is: 6728.094825915371\n"
     ]
    }
   ],
   "source": [
    "n_games=10\n",
    "t_max=len(X_train)-1\n",
    "\n",
    "final_score, net_worths = evaluate(\n",
    "  train_env,\n",
    "  agent, n_games=n_games, greedy=True, t_max=t_max\n",
    ")\n",
    "print('Average Rewards after',t_max, 'steps in',n_games, 'game(s) is:', final_score)"
   ]
  },
  {
   "cell_type": "markdown",
   "metadata": {},
   "source": [
    "#### Testing Environment"
   ]
  },
  {
   "cell_type": "code",
   "execution_count": 34,
   "metadata": {
    "tags": []
   },
   "outputs": [
    {
     "name": "stdout",
     "output_type": "stream",
     "text": [
      "Average Rewards after 4368 steps in 10 game(s) is: 471.80272212048624\n"
     ]
    }
   ],
   "source": [
    "df=X_test\n",
    "y=y_test\n",
    "max_length=len(df)\n",
    "test_env = FinEnv(df, y)\n",
    "\n",
    "n_games=10\n",
    "t_max=max_length\n",
    "\n",
    "final_score, net_worths = evaluate(\n",
    "  test_env,\n",
    "  agent, n_games=n_games, greedy=True, t_max=t_max\n",
    ")\n",
    "print('Average Rewards after',t_max, 'steps in',n_games, 'game(s) is:', final_score)"
   ]
  },
  {
   "cell_type": "code",
   "execution_count": 35,
   "metadata": {},
   "outputs": [
    {
     "data": {
      "text/plain": [
       "Text(0.5, 1.0, 'Value of 1000 Dollars')"
      ]
     },
     "execution_count": 35,
     "metadata": {},
     "output_type": "execute_result"
    },
    {
     "data": {
      "image/png": "[encoded data removed]",
      "text/plain": [
       "<Figure size 1200x360 with 1 Axes>"
      ]
     },
     "metadata": {
      "needs_background": "light"
     },
     "output_type": "display_data"
    }
   ],
   "source": [
    "plt.rcParams.update({'figure.figsize':(10,3), 'figure.dpi':120})\n",
    "plt.plot(net_worths, color='black')\n",
    "plt.title('Value of 1000 Dollars')"
   ]
  },
  {
   "cell_type": "code",
   "execution_count": 31,
   "metadata": {},
   "outputs": [],
   "source": [
    "Saving an agent\n",
    "\n",
    "torch.save(agent, 'Models/CNN DQN gamma_0.95 BTC.h5')"
   ]
  },
  {
   "cell_type": "code",
   "execution_count": 27,
   "metadata": {},
   "outputs": [
    {
     "data": {
      "text/plain": [
       "DuelingDQNAgent(\n",
       "  (conv_network): Sequential(\n",
       "    (conv): Conv2d(1, 64, kernel_size=(3, 3), stride=(1, 1))\n",
       "    (tanh): Tanh()\n",
       "    (avg_pool): AvgPool2d(kernel_size=2, stride=2, padding=0)\n",
       "    (flatten): Flatten(start_dim=1, end_dim=-1)\n",
       "  )\n",
       "  (fc_network): Sequential(\n",
       "    (linear1): Linear(in_features=2880, out_features=512, bias=True)\n",
       "    (tanh1): Tanh()\n",
       "    (Dropout1): Dropout(p=0.6, inplace=False)\n",
       "    (linear2): Linear(in_features=512, out_features=512, bias=True)\n",
       "    (tanh2): Tanh()\n",
       "    (Dropout2): Dropout(p=0.6, inplace=False)\n",
       "  )\n",
       "  (value): Linear(in_features=512, out_features=1, bias=True)\n",
       "  (adv): Linear(in_features=512, out_features=2, bias=True)\n",
       ")"
      ]
     },
     "execution_count": 27,
     "metadata": {},
     "output_type": "execute_result"
    }
   ],
   "source": [
    "# Loading an agent\n",
    "\n",
    "agent = torch.load('Models/CNN DQN gamma_0.5 BTC.h5')\n",
    "\n",
    "# Confirming it has the architecture we want\n",
    "agent.eval()"
   ]
  },
  {
   "cell_type": "code",
   "execution_count": 38,
   "metadata": {},
   "outputs": [],
   "source": [
    "# Models to evaluate\n",
    "\n",
    "models=['Models/CNN DQN gamma_0 BTC.h5', 'Models/CNN DQN gamma_0.15 BTC.h5', 'Models/CNN DQN gamma_0.25 BTC.h5',\n",
    "       'Models/CNN DQN gamma_0.35 BTC.h5', 'Models/CNN DQN gamma_0.5 BTC.h5', 'Models/CNN DQN gamma_0.75 BTC.h5',\n",
    "       'Models/CNN DQN gamma_0.8 BTC.h5', 'Models/CNN DQN gamma_0.9 BTC.h5', 'Models/CNN DQN gamma_0.95 BTC.h5',\n",
    "       'Models/CNN DQN gamma_1 BTC.h5']"
   ]
  },
  {
   "cell_type": "code",
   "execution_count": 39,
   "metadata": {},
   "outputs": [
    {
     "name": "stdout",
     "output_type": "stream",
     "text": [
      "Models/CNN DQN gamma_0 BTC.h5\n",
      "Average Rewards after 4368 steps in 10 game(s) is: 473.22256522319896\n",
      "\n",
      "\n",
      "Models/CNN DQN gamma_0.15 BTC.h5\n",
      "Average Rewards after 4368 steps in 10 game(s) is: 394.92323546707684\n",
      "\n",
      "\n",
      "Models/CNN DQN gamma_0.25 BTC.h5\n",
      "Average Rewards after 4368 steps in 10 game(s) is: 468.01578672468185\n",
      "\n",
      "\n",
      "Models/CNN DQN gamma_0.35 BTC.h5\n",
      "Average Rewards after 4368 steps in 10 game(s) is: 422.5513555240981\n",
      "\n",
      "\n",
      "Models/CNN DQN gamma_0.5 BTC.h5\n",
      "Average Rewards after 4368 steps in 10 game(s) is: 537.4180504349222\n",
      "\n",
      "\n",
      "Models/CNN DQN gamma_0.75 BTC.h5\n",
      "Average Rewards after 4368 steps in 10 game(s) is: 380.3428333977229\n",
      "\n",
      "\n",
      "Models/CNN DQN gamma_0.8 BTC.h5\n",
      "Average Rewards after 4368 steps in 10 game(s) is: 403.14934499472747\n",
      "\n",
      "\n",
      "Models/CNN DQN gamma_0.9 BTC.h5\n",
      "Average Rewards after 4368 steps in 10 game(s) is: 290.6628778030614\n",
      "\n",
      "\n",
      "Models/CNN DQN gamma_0.95 BTC.h5\n",
      "Average Rewards after 4368 steps in 10 game(s) is: 217.46221253520488\n",
      "\n",
      "\n",
      "Models/CNN DQN gamma_1 BTC.h5\n",
      "Average Rewards after 4368 steps in 10 game(s) is: 407.97205798596417\n",
      "\n",
      "\n"
     ]
    }
   ],
   "source": [
    "# Evaluating our models\n",
    "\n",
    "for model in models:\n",
    "    print(model)\n",
    "    agent = torch.load(model)\n",
    "    df=X_test\n",
    "    y=y_test\n",
    "    max_length=len(df)\n",
    "    test_env = FinEnv(df, y)\n",
    "\n",
    "    n_games=10\n",
    "    t_max=max_length\n",
    "\n",
    "    final_score, net_worths = evaluate(\n",
    "      test_env,\n",
    "      agent, n_games=n_games, greedy=True, t_max=t_max\n",
    "    )\n",
    "    print('Average Rewards after',t_max, 'steps in',n_games, 'game(s) is:', final_score)\n",
    "    print('\\n')\n"
   ]
  },
  {
   "cell_type": "markdown",
   "metadata": {},
   "source": [
    "We see that the best model is the one with $\\gamma=0.5$"
   ]
  }
 ],
 "metadata": {
  "kernelspec": {
   "display_name": "Python 3 (ipykernel)",
   "language": "python",
   "name": "python3"
  },
  "language_info": {
   "codemirror_mode": {
    "name": "ipython",
    "version": 3
   },
   "file_extension": ".py",
   "mimetype": "text/x-python",
   "name": "python",
   "nbconvert_exporter": "python",
   "pygments_lexer": "ipython3",
   "version": "3.7.11"
  },
  "toc": {
   "base_numbering": 1,
   "nav_menu": {},
   "number_sections": true,
   "sideBar": true,
   "skip_h1_title": false,
   "title_cell": "Table of Contents",
   "title_sidebar": "Contents",
   "toc_cell": false,
   "toc_position": {
    "height": "calc(100% - 180px)",
    "left": "10px",
    "top": "150px",
    "width": "202.594px"
   },
   "toc_section_display": true,
   "toc_window_display": true
  }
 },
 "nbformat": 4,
 "nbformat_minor": 4
}
