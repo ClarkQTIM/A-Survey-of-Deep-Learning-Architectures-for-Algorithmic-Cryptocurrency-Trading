{
 "cells": [
  {
   "cell_type": "markdown",
   "metadata": {
    "tags": []
   },
   "source": [
    "# Setting up our Notebook"
   ]
  },
  {
   "cell_type": "code",
   "execution_count": 10,
   "metadata": {},
   "outputs": [],
   "source": [
    "# Things to import\n",
    "\n",
    "# Standard data, plotting, time, and mathematical tools\n",
    "import numpy as np\n",
    "import pandas as pd\n",
    "import matplotlib.pyplot as plt\n",
    "import time as time\n",
    "import seaborn as sns\n",
    "\n",
    "# PCA\n",
    "from sklearn.decomposition import PCA\n",
    "from sklearn.preprocessing import StandardScaler\n",
    "\n",
    "# MLP\n",
    "from tensorflow.keras.models import Sequential\n",
    "from tensorflow.keras.layers import Dense,Dropout,Activation\n",
    "from sklearn.metrics import accuracy_score, mean_squared_error\n",
    "from sklearn.model_selection import train_test_split\n",
    "from sklearn.metrics import confusion_matrix\n",
    "from tensorflow import keras\n",
    "from tensorflow.keras.utils import to_categorical\n",
    "\n",
    "# Grid Search\n",
    "from sklearn.model_selection import GridSearchCV\n",
    "from keras.wrappers.scikit_learn import KerasClassifier\n",
    "\n",
    "from IPython.display import Image"
   ]
  },
  {
   "cell_type": "markdown",
   "metadata": {},
   "source": [
    "# Importing the data"
   ]
  },
  {
   "cell_type": "code",
   "execution_count": 2,
   "metadata": {},
   "outputs": [],
   "source": [
    "# Importing the data\n",
    "\n",
    "dfs=['Non-Scaled TA Features 1H for BTC.csv']"
   ]
  },
  {
   "cell_type": "markdown",
   "metadata": {},
   "source": [
    "# Multi-Layer Perceptron"
   ]
  },
  {
   "cell_type": "markdown",
   "metadata": {},
   "source": [
    "## Mathematical Description"
   ]
  },
  {
   "cell_type": "markdown",
   "metadata": {},
   "source": [
    "### Perceptron"
   ]
  },
  {
   "cell_type": "markdown",
   "metadata": {},
   "source": [
    "The perceptron can be thought of as a computational structure with weights $\\bf{w}$, bias $b$, and activation function $g(z)$. It takes as input $\\bf{x}$ and computes $g({\\bf{w}}^T{\\bf{x}}+b)$.\n",
    "\n",
    "The activation function $g(z)$ can vary and allows for the structure to learn non-linearities. \n",
    "\n",
    "Graphically, this can be represented as:\n",
    "\n",
    "<img src=\"Graphics/Perceptron.png\" width=\"600\" height=\"600\" />\n",
    "\n",
    "They can then be stacked together into a single layer and then as several layers, creating a Deep Neural Network.\n",
    "\n",
    "<img src=\"Graphics/MLP.png\" width=\"600\" height=\"600\" />"
   ]
  },
  {
   "cell_type": "markdown",
   "metadata": {},
   "source": [
    "### Mathematics of the MLP"
   ]
  },
  {
   "cell_type": "markdown",
   "metadata": {},
   "source": [
    "Let the data be collected into a matrix $X$, where $X$ is an $(n_x, m)$ matrix, of $n_x$ data instances of $m$ features.\n",
    "\n",
    "The target values associated with each ${\\bf{x}} \\in X$ are collected into $Y$.\n",
    "\n",
    "Define $A^{[l]}$ as the output of the $l^{th}$ layer over all data instances. So, $A^{[0]}=X$. Let $W^{[l]}$ be the weights of the $l^{th}$ layer and $b^{[l]}$ the vector of biases of the same layer and $(W,b)$ be collection of all weights and biases for the MLP. Let $L$ be the total number of layers in this MLP.\n",
    "\n",
    "Define:\n",
    "\n",
    "$$f^{[l]}_{(W^{[l]},b^{[l]})}=g(W^{[l]}f^{[l-1]}_{(W^{[l-1]},b^{[l-1]})}+b^{[l]})$$\n",
    "\n",
    "Then, the whole structure can be represented as: \n",
    "\n",
    "$${\\hat{Y}}=F_{(W,b)}=f^{[L]}_{(W^{[L]},b^{[L]})} \\circ\\ ... \\circ\\ f^{[1]}_{(W^{[1]},b^{[1]})}(X)$$\n",
    "\n",
    "We then seek to minimize the Cost Function, $J(W,b)={\\dfrac{1}{m}}\\sum_{i=1}^{m}{\\mathcal{L}}_{(W,b)}(Y^{(i)},\\hat{Y} {^{(i)}})$. We do this through Gradient Descent. \n",
    "\n",
    "Given a batch size on the $k^{th}$ feed-forward iteration of $s^k$, we update our parameters (weights and biases) with:\n",
    "\n",
    "$$(W,b)^{k+1}=(W,b)^k-\\dfrac{\\alpha_k}{s^k} (\\sum_{i \\in \\{1,...,s^k\\}} \\nabla {\\mathcal{L}}_{(W,b)^k}(Y^{(i)},\\hat{Y} {^{(i)}}))$$"
   ]
  },
  {
   "cell_type": "markdown",
   "metadata": {},
   "source": [
    "## Training"
   ]
  },
  {
   "cell_type": "markdown",
   "metadata": {},
   "source": [
    "### Getting the train/test data"
   ]
  },
  {
   "cell_type": "code",
   "execution_count": 3,
   "metadata": {},
   "outputs": [],
   "source": [
    "# Defining a function to create PCA matrices\n",
    "\n",
    "def PCA_creation_train_val_test(no_components, X_train, X_val, X_test):\n",
    "    \n",
    "    # Scaling the data with our X_train matrix\n",
    "    scaler=StandardScaler()\n",
    "    X_train=scaler.fit_transform(X_train)\n",
    "    \n",
    "    # Fitting the PCA to our X_train matrix\n",
    "    pca=PCA(n_components=no_components)\n",
    "    X_train=pca.fit_transform(X_train)\n",
    "\n",
    "    # Scaling the X_val and X_test \n",
    "    X_val=scaler.transform(X_val)\n",
    "    X_test=scaler.transform(X_test)\n",
    "\n",
    "    # Transforming the X_val and X_test\n",
    "    X_val=pca.transform(X_val)\n",
    "    X_test=pca.transform(X_test)\n",
    "    \n",
    "    return X_train, X_val, X_test"
   ]
  },
  {
   "cell_type": "code",
   "execution_count": 6,
   "metadata": {},
   "outputs": [
    {
     "name": "stdout",
     "output_type": "stream",
     "text": [
      "Confirming we have all the columns we want: \n",
      " Index(['BB_upper 10', 'BB_middle 10', 'BB_lower 10', 'Aroon_down 10',\n",
      "       'Aroon_up 10', 'Aroonosc 10', 'RSI 10', 'NATR 10', 'BB_upper 12',\n",
      "       'BB_middle 12',\n",
      "       ...\n",
      "       'MACD Signal 18', 'MACD Hist18', 'Med Price', 'Chaikin A/D Line',\n",
      "       'HT Dom Phase', 'HT Dom Period', 'High', 'Low', 'Close', 'Volume'],\n",
      "      dtype='object', length=101)\n"
     ]
    }
   ],
   "source": [
    "# Train and test splitting and scaling\n",
    "\n",
    "X=pd.read_csv(dfs[0])\n",
    "\n",
    "X['Date']=pd.to_datetime(X['Date']) # Setting the index as the Date\n",
    "X=X.set_index('Date').asfreq('H')\n",
    "\n",
    "X=X.dropna()\n",
    "y=X['Label']\n",
    "X=X.drop('Label', axis=1)\n",
    "X=X.drop('Percent Change', axis=1)\n",
    "\n",
    "\n",
    "# Removing the testing data\n",
    "X_test=X[-4380:] # Getting the last 6 months as the testing data\n",
    "print('Confirming we have all the columns we want:','\\n', X_test.columns)\n",
    "y_test=y[-4380:].values\n",
    "\n",
    "X=X[:-4380] # Getting everything but the first 6 months as the training data\n",
    "y=y[:-4380]\n",
    "\n",
    "num_classes=2 # Used for one-hot encoding, but we won't be doing that with 2 classes\n",
    "\n",
    "# Split into training and validation for our neural net\n",
    "X_train, X_val, y_train, y_val=train_test_split(X, y, test_size=0.2, random_state=100, shuffle=True)\n",
    "y_train=np.array(y_train)\n",
    "y_val=np.array(y_val)\n",
    "\n",
    "X_train, X_val, X_test=PCA_creation_train_val_test(20, X_train, X_val, X_test)"
   ]
  },
  {
   "cell_type": "markdown",
   "metadata": {},
   "source": [
    "### Grid Search for Optimizer and parameters"
   ]
  },
  {
   "cell_type": "code",
   "execution_count": 7,
   "metadata": {},
   "outputs": [],
   "source": [
    "# Function to create the model for Keras wrapper to scikit learn\n",
    "\n",
    "# We will optimize the number of layers, the activation function, the neurons per layer, \n",
    "# and the optimizer\n",
    "\n",
    "def create_mlp_model(activ_function='relu', neurons=50, dropout_rate=0.1, num_layers=2, \n",
    "                     optimizer='adam', learning_rate=1e-3):\n",
    "    \n",
    "    # Create the model and run through the number of layers\n",
    "    model = keras.Sequential()\n",
    "        \n",
    "    if num_layers==2:\n",
    "        # First layer\n",
    "        model.add(keras.layers.Dense(neurons, activation=activ_function, input_shape=(X_train.shape[1],)))\n",
    "        model.add(keras.layers.Dropout(dropout_rate))\n",
    "        # Second layer\n",
    "        model.add(keras.layers.Dense(neurons, activation=activ_function))\n",
    "        model.add(keras.layers.Dropout(dropout_rate))\n",
    "        \n",
    "    if num_layers==3:\n",
    "        # First layer\n",
    "        model.add(keras.layers.Dense(neurons, activation=activ_function, input_shape=(X_train.shape[1],)))\n",
    "        model.add(keras.layers.Dropout(dropout_rate))\n",
    "        # Second layer\n",
    "        model.add(keras.layers.Dense(neurons, activation=activ_function))\n",
    "        model.add(keras.layers.Dropout(dropout_rate))\n",
    "        # Third layer\n",
    "        model.add(keras.layers.Dense(neurons, activation=activ_function))\n",
    "        model.add(keras.layers.Dropout(dropout_rate))\n",
    "        \n",
    "    if num_layers==4:\n",
    "        # First layer\n",
    "        model.add(keras.layers.Dense(neurons, activation=activ_function, input_shape=(X_train.shape[1],)))\n",
    "        model.add(keras.layers.Dropout(dropout_rate))\n",
    "        # Second layer\n",
    "        model.add(keras.layers.Dense(neurons, activation=activ_function))\n",
    "        model.add(keras.layers.Dropout(dropout_rate))\n",
    "        # Third layer\n",
    "        model.add(keras.layers.Dense(neurons, activation=activ_function))\n",
    "        model.add(keras.layers.Dropout(dropout_rate))\n",
    "        # Fourth layer\n",
    "        model.add(keras.layers.Dense(neurons, activation=activ_function))\n",
    "        model.add(keras.layers.Dropout(dropout_rate))\n",
    "        \n",
    "    if num_layers==5:\n",
    "        # First layer\n",
    "        model.add(keras.layers.Dense(neurons, activation=activ_function, input_shape=(X_train.shape[1],)))\n",
    "        model.add(keras.layers.Dropout(dropout_rate))\n",
    "        # Second layer\n",
    "        model.add(keras.layers.Dense(neurons, activation=activ_function))\n",
    "        model.add(keras.layers.Dropout(dropout_rate))\n",
    "        # Third layer\n",
    "        model.add(keras.layers.Dense(neurons, activation=activ_function))\n",
    "        model.add(keras.layers.Dropout(dropout_rate))\n",
    "        # Fourth layer\n",
    "        model.add(keras.layers.Dense(neurons, activation=activ_function))\n",
    "        model.add(keras.layers.Dropout(dropout_rate))\n",
    "        # Fifth layer\n",
    "        model.add(keras.layers.Dense(neurons, activation=activ_function))\n",
    "        model.add(keras.layers.Dropout(dropout_rate))\n",
    "        \n",
    "    if num_layers==6:\n",
    "        # First layer\n",
    "        model.add(keras.layers.Dense(neurons, activation=activ_function, input_shape=(X_train.shape[1],)))\n",
    "        model.add(keras.layers.Dropout(dropout_rate))\n",
    "        # Second layer\n",
    "        model.add(keras.layers.Dense(neurons, activation=activ_function))\n",
    "        model.add(keras.layers.Dropout(dropout_rate))\n",
    "        # Third layer\n",
    "        model.add(keras.layers.Dense(neurons, activation=activ_function))\n",
    "        model.add(keras.layers.Dropout(dropout_rate))\n",
    "        # Fourth layer\n",
    "        model.add(keras.layers.Dense(neurons, activation=activ_function))\n",
    "        model.add(keras.layers.Dropout(dropout_rate))\n",
    "        # Fifth layer\n",
    "        model.add(keras.layers.Dense(neurons, activation=activ_function))\n",
    "        model.add(keras.layers.Dropout(dropout_rate))\n",
    "        # Sixth layer\n",
    "        model.add(keras.layers.Dense(neurons, activation=activ_function))\n",
    "        model.add(keras.layers.Dropout(dropout_rate))\n",
    "        \n",
    "    # Final layer with softmax for classification\n",
    "    model.add(keras.layers.Dense(1, activation=\"sigmoid\"))\n",
    "    \n",
    "    # Running through the optimizers\n",
    "    if optimizer=='adam': \n",
    "        optimizer = keras.optimizers.Adam(learning_rate=learning_rate)\n",
    "        \n",
    "    if optimizer=='RMSprop':\n",
    "        optimizer = keras.optimizers.RMSProp(learning_rate=learning_rate)\n",
    "        \n",
    "    if optimizer=='SGD':\n",
    "        optimizer = keras.optimizers.SGD(learning_rate=learning_rate)\n",
    "        \n",
    "    # Compile model\n",
    "    model.compile( \n",
    "        optimizer=optimizer,\n",
    "        loss='binary_crossentropy',\n",
    "        metrics=['accuracy'],\n",
    "        )    \n",
    "    return model"
   ]
  },
  {
   "cell_type": "markdown",
   "metadata": {},
   "source": [
    "Note, the grid search section for this script, as well as the CNN and LSTM, take heavy influence from the following Kaggle notebook: MNIST: CNN, grid search, data augmentation\n",
    "\n",
    "This can be found at:\n",
    "\n",
    "https://www.kaggle.com/code/cedricb/mnist-cnn-grid-search-data-augmentation/notebook"
   ]
  },
  {
   "cell_type": "code",
   "execution_count": 8,
   "metadata": {},
   "outputs": [
    {
     "name": "stdout",
     "output_type": "stream",
     "text": [
      "Model: \"sequential\"\n",
      "_________________________________________________________________\n",
      " Layer (type)                Output Shape              Param #   \n",
      "=================================================================\n",
      " dense (Dense)               (None, 50)                1050      \n",
      "                                                                 \n",
      " dropout (Dropout)           (None, 50)                0         \n",
      "                                                                 \n",
      " dense_1 (Dense)             (None, 50)                2550      \n",
      "                                                                 \n",
      " dropout_1 (Dropout)         (None, 50)                0         \n",
      "                                                                 \n",
      " dense_2 (Dense)             (None, 1)                 51        \n",
      "                                                                 \n",
      "=================================================================\n",
      "Total params: 3,651\n",
      "Trainable params: 3,651\n",
      "Non-trainable params: 0\n",
      "_________________________________________________________________\n"
     ]
    }
   ],
   "source": [
    "# Creating and compiling the model with a summary\n",
    "\n",
    "mlp = create_mlp_model()\n",
    "mlp.summary()"
   ]
  },
  {
   "cell_type": "code",
   "execution_count": 9,
   "metadata": {},
   "outputs": [],
   "source": [
    "# Optimize the model with grid search\n",
    "\n",
    "start=time.time()\n",
    "# Grid search parameters\n",
    "n_epochs_cv = 20 # Number of epochs for our grid search\n",
    "n_cv = 3 # Number of cross validations\n",
    "\n",
    "# Create model to feed to our parameter grid search\n",
    "model = KerasClassifier(build_fn=create_mlp_model, verbose=0)\n",
    "\n",
    "# Define parameters and values for grid search to check in our model\n",
    "param_grid = {\n",
    "    # Model parameters\n",
    "    'activ_function':['relu', 'tanh', 'sigmoid'],\n",
    "    'neurons':[256, 512, 1024],\n",
    "    'dropout_rate':[0.5, 0.6],\n",
    "    'num_layers':[2, 4, 6],\n",
    "    'optimizer':['adam', 'RMSProp', 'SGD'],\n",
    "    'learning_rate':[1e-3, 1e-5, 1e-7],\n",
    "    # The number of epochs for each model\n",
    "    'epochs': [n_epochs_cv],\n",
    "}\n",
    "\n",
    "# Creating the grid\n",
    "grid = GridSearchCV(estimator=model, param_grid=param_grid, n_jobs=2, cv=n_cv)\n",
    "\n",
    "# Fitting the grid\n",
    "grid_result = grid.fit(X_train, y_train)\n",
    "\n",
    "end=time.time()\n",
    "print('This grid search took', end-start, 'seconds')"
   ]
  },
  {
   "cell_type": "code",
   "execution_count": null,
   "metadata": {},
   "outputs": [],
   "source": [
    "print(grid_result.best_params_)"
   ]
  },
  {
   "cell_type": "markdown",
   "metadata": {},
   "source": [
    "### MLP with Optimized Features"
   ]
  },
  {
   "cell_type": "code",
   "execution_count": null,
   "metadata": {},
   "outputs": [],
   "source": [
    "# From the grid search on a single computer\n",
    "\n",
    "mlp_model=create_mlp_model(activ_function=grid_result.best_params_['activ_function'], \n",
    "                                            neurons=grid_result.best_params_['neurons'], \n",
    "                                            dropout_rate=grid_result.best_params_['dropout_rate'],\n",
    "                                            num_layers=grid_result.best_params_['num_layers'],\n",
    "                                            optimizer=grid_result.best_params_['optimizer'],\n",
    "                          learning_rate=grid_result.best_params_['learning rate'])\n",
    "\n",
    "# Fitting the model\n",
    "history = mlp_model.fit(X_train, y_train, epochs=50, validation_data=(X_val,y_val), verbose=0)"
   ]
  },
  {
   "cell_type": "code",
   "execution_count": 17,
   "metadata": {},
   "outputs": [
    {
     "name": "stdout",
     "output_type": "stream",
     "text": [
      "Epoch 1/30\n",
      "657/657 [==============================] - 6s 8ms/step - loss: 0.7855 - accuracy: 0.5020 - val_loss: 0.6960 - val_accuracy: 0.5278\n",
      "Epoch 2/30\n",
      "657/657 [==============================] - 4s 6ms/step - loss: 0.7698 - accuracy: 0.5136 - val_loss: 0.6923 - val_accuracy: 0.5405\n",
      "Epoch 3/30\n",
      "657/657 [==============================] - 4s 7ms/step - loss: 0.7561 - accuracy: 0.5243 - val_loss: 0.6919 - val_accuracy: 0.5390\n",
      "Epoch 4/30\n",
      "657/657 [==============================] - 5s 7ms/step - loss: 0.7520 - accuracy: 0.5195 - val_loss: 0.6908 - val_accuracy: 0.5432\n",
      "Epoch 5/30\n",
      "657/657 [==============================] - 4s 7ms/step - loss: 0.7488 - accuracy: 0.5243 - val_loss: 0.6897 - val_accuracy: 0.5483\n",
      "Epoch 6/30\n",
      "657/657 [==============================] - 5s 7ms/step - loss: 0.7417 - accuracy: 0.5256 - val_loss: 0.6879 - val_accuracy: 0.5518\n",
      "Epoch 7/30\n",
      "657/657 [==============================] - 5s 8ms/step - loss: 0.7407 - accuracy: 0.5226 - val_loss: 0.6894 - val_accuracy: 0.5460\n",
      "Epoch 8/30\n",
      "657/657 [==============================] - 4s 7ms/step - loss: 0.7352 - accuracy: 0.5287 - val_loss: 0.6880 - val_accuracy: 0.5483\n",
      "Epoch 9/30\n",
      "657/657 [==============================] - 5s 7ms/step - loss: 0.7342 - accuracy: 0.5223 - val_loss: 0.6890 - val_accuracy: 0.5453\n",
      "Epoch 10/30\n",
      "657/657 [==============================] - 4s 6ms/step - loss: 0.7307 - accuracy: 0.5276 - val_loss: 0.6878 - val_accuracy: 0.5498\n",
      "Epoch 11/30\n",
      "657/657 [==============================] - 5s 8ms/step - loss: 0.7278 - accuracy: 0.5238 - val_loss: 0.6869 - val_accuracy: 0.5495\n",
      "Epoch 12/30\n",
      "657/657 [==============================] - 5s 8ms/step - loss: 0.7241 - accuracy: 0.5324 - val_loss: 0.6871 - val_accuracy: 0.5464\n",
      "Epoch 13/30\n",
      "657/657 [==============================] - 5s 8ms/step - loss: 0.7188 - accuracy: 0.5342 - val_loss: 0.6865 - val_accuracy: 0.5468\n",
      "Epoch 14/30\n",
      "657/657 [==============================] - 5s 8ms/step - loss: 0.7206 - accuracy: 0.5264 - val_loss: 0.6862 - val_accuracy: 0.5472\n",
      "Epoch 15/30\n",
      "657/657 [==============================] - 5s 8ms/step - loss: 0.7197 - accuracy: 0.5272 - val_loss: 0.6868 - val_accuracy: 0.5453\n",
      "Epoch 16/30\n",
      "657/657 [==============================] - 5s 7ms/step - loss: 0.7169 - accuracy: 0.5286 - val_loss: 0.6860 - val_accuracy: 0.5472\n",
      "Epoch 17/30\n",
      "657/657 [==============================] - 5s 8ms/step - loss: 0.7146 - accuracy: 0.5267 - val_loss: 0.6858 - val_accuracy: 0.5487\n",
      "Epoch 18/30\n",
      "657/657 [==============================] - 5s 7ms/step - loss: 0.7131 - accuracy: 0.5288 - val_loss: 0.6864 - val_accuracy: 0.5468\n",
      "Epoch 19/30\n",
      "657/657 [==============================] - 5s 8ms/step - loss: 0.7101 - accuracy: 0.5379 - val_loss: 0.6855 - val_accuracy: 0.5497\n",
      "Epoch 20/30\n",
      "657/657 [==============================] - 5s 8ms/step - loss: 0.7118 - accuracy: 0.5310 - val_loss: 0.6852 - val_accuracy: 0.5519\n",
      "Epoch 21/30\n",
      "657/657 [==============================] - 5s 7ms/step - loss: 0.7096 - accuracy: 0.5310 - val_loss: 0.6852 - val_accuracy: 0.5510\n",
      "Epoch 22/30\n",
      "657/657 [==============================] - 5s 8ms/step - loss: 0.7076 - accuracy: 0.5343 - val_loss: 0.6851 - val_accuracy: 0.5514\n",
      "Epoch 23/30\n",
      "657/657 [==============================] - 5s 7ms/step - loss: 0.7028 - accuracy: 0.5370 - val_loss: 0.6852 - val_accuracy: 0.5523\n",
      "Epoch 24/30\n",
      "657/657 [==============================] - 5s 8ms/step - loss: 0.7034 - accuracy: 0.5352 - val_loss: 0.6850 - val_accuracy: 0.5533\n",
      "Epoch 25/30\n",
      "657/657 [==============================] - 5s 8ms/step - loss: 0.7023 - accuracy: 0.5340 - val_loss: 0.6849 - val_accuracy: 0.5519\n",
      "Epoch 26/30\n",
      "657/657 [==============================] - 5s 7ms/step - loss: 0.7003 - accuracy: 0.5366 - val_loss: 0.6851 - val_accuracy: 0.5510\n",
      "Epoch 27/30\n",
      "657/657 [==============================] - 5s 8ms/step - loss: 0.7020 - accuracy: 0.5397 - val_loss: 0.6850 - val_accuracy: 0.5525\n",
      "Epoch 28/30\n",
      "657/657 [==============================] - 5s 7ms/step - loss: 0.7010 - accuracy: 0.5336 - val_loss: 0.6849 - val_accuracy: 0.5537\n",
      "Epoch 29/30\n",
      "657/657 [==============================] - 5s 8ms/step - loss: 0.7032 - accuracy: 0.5320 - val_loss: 0.6849 - val_accuracy: 0.5533\n",
      "Epoch 30/30\n",
      "657/657 [==============================] - 5s 8ms/step - loss: 0.6983 - accuracy: 0.5420 - val_loss: 0.6849 - val_accuracy: 0.5537\n"
     ]
    }
   ],
   "source": [
    "# From our grid search run on the clusters\n",
    "\n",
    "mlp_model=create_mlp_model(activ_function='relu', \n",
    "                                            neurons=512, \n",
    "                                            dropout_rate=0.6,\n",
    "                                            num_layers=2,\n",
    "                                            optimizer='adam',\n",
    "                          learning_rate=1e-5)\n",
    "\n",
    "# Fitting the model\n",
    "history = mlp_model.fit(X_train, y_train, epochs=30, validation_data=(X_val,y_val), verbose=1)"
   ]
  },
  {
   "cell_type": "markdown",
   "metadata": {},
   "source": [
    "### Performance"
   ]
  },
  {
   "cell_type": "code",
   "execution_count": 8,
   "metadata": {},
   "outputs": [
    {
     "data": {
      "image/png": "[encoded data removed]",
      "text/plain": [
       "<Figure size 1440x576 with 1 Axes>"
      ]
     },
     "metadata": {
      "needs_background": "light"
     },
     "output_type": "display_data"
    }
   ],
   "source": [
    "# Training Performance\n",
    "\n",
    "history.history.keys()\n",
    "pd.DataFrame(history.history).plot(figsize=(20, 8))\n",
    "plt.grid(True)\n",
    "plt.gca().set_ylim(0, 1) # set the vertical range to [0-1]\n",
    "plt.show()"
   ]
  },
  {
   "cell_type": "code",
   "execution_count": 18,
   "metadata": {},
   "outputs": [
    {
     "data": {
      "image/png": "[encoded data removed]",
      "text/plain": [
       "<Figure size 432x288 with 2 Axes>"
      ]
     },
     "metadata": {
      "needs_background": "light"
     },
     "output_type": "display_data"
    }
   ],
   "source": [
    "# Confusion Matrix\n",
    "\n",
    "# # Performance\n",
    "y_pred=mlp_model.predict(X_test) # Returns a list where every element is an array with the continuous\n",
    "# value prediction\n",
    "y_pred=[x[0] for x in y_pred] # Getting all the continuous value predictions from the arrays\n",
    "for i in range(len(y_pred)): # Transforming the continuous value into binary labels\n",
    "    if y_pred[i] <= 0.5:\n",
    "        y_pred[i] = 0\n",
    "    if y_pred[i] > 0.5:\n",
    "        y_pred[i] = 1\n",
    "\n",
    "# Plotting Confusion Matrix\n",
    "cm=confusion_matrix(y_test, y_pred)\n",
    "ax= plt.subplot()\n",
    "sns.heatmap(cm, annot=True, fmt='g', ax=ax);  #annot=True to annotate cells, ftm='g' to disable scientific notation\n",
    "\n",
    "# labels, title and ticks\n",
    "ax.set_xlabel('Predicted labels');ax.set_ylabel('True labels'); \n",
    "ax.set_title('Confusion Matrix'); \n",
    "ax.xaxis.set_ticklabels(['Sell', 'Buy']); ax.yaxis.set_ticklabels(['Sell', 'Buy']);"
   ]
  },
  {
   "cell_type": "markdown",
   "metadata": {},
   "source": [
    "### Saving and Reloading the Model"
   ]
  },
  {
   "cell_type": "code",
   "execution_count": 19,
   "metadata": {},
   "outputs": [],
   "source": [
    "# Saving the model\n",
    "\n",
    "mlp_model.save('Models/MLP 4 BTC.h5')"
   ]
  },
  {
   "cell_type": "code",
   "execution_count": null,
   "metadata": {},
   "outputs": [],
   "source": [
    "# # Reloading the model\n",
    "\n",
    "# mlp_model= keras.models.load_model('Models/MLP 1H BTC.h5')"
   ]
  }
 ],
 "metadata": {
  "kernelspec": {
   "display_name": "Python 3 (ipykernel)",
   "language": "python",
   "name": "python3"
  },
  "language_info": {
   "codemirror_mode": {
    "name": "ipython",
    "version": 3
   },
   "file_extension": ".py",
   "mimetype": "text/x-python",
   "name": "python",
   "nbconvert_exporter": "python",
   "pygments_lexer": "ipython3",
   "version": "3.7.11"
  },
  "toc": {
   "base_numbering": 1,
   "nav_menu": {},
   "number_sections": true,
   "sideBar": true,
   "skip_h1_title": false,
   "title_cell": "Table of Contents",
   "title_sidebar": "Contents",
   "toc_cell": false,
   "toc_position": {
    "height": "calc(100% - 180px)",
    "left": "10px",
    "top": "150px",
    "width": "267px"
   },
   "toc_section_display": true,
   "toc_window_display": true
  }
 },
 "nbformat": 4,
 "nbformat_minor": 4
}
