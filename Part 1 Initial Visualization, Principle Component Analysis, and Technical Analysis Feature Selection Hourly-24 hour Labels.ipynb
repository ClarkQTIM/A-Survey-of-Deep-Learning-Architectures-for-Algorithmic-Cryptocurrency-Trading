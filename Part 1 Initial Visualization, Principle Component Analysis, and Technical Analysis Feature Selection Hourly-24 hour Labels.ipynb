{
 "cells": [
  {
   "cell_type": "markdown",
   "metadata": {},
   "source": [
    "In this section, we will use various PCA on various Technical Indicator (TA) to create our feature matrix."
   ]
  },
  {
   "cell_type": "markdown",
   "metadata": {},
   "source": [
    "# Setting up our Notebook"
   ]
  },
  {
   "cell_type": "code",
   "execution_count": 20,
   "metadata": {},
   "outputs": [],
   "source": [
    "# Things to import\n",
    "\n",
    "# Standard data, plotting, and mathematical tools\n",
    "import numpy as np\n",
    "import pandas as pd\n",
    "import math as math\n",
    "import matplotlib as mpl\n",
    "import matplotlib.pyplot as plt\n",
    "\n",
    "# Libraries for financial data manipulation\n",
    "import talib\n",
    "import mplfinance as mpf\n",
    "\n",
    "# PCA\n",
    "from sklearn.decomposition import PCA\n",
    "from sklearn.preprocessing import StandardScaler\n",
    "from sklearn.preprocessing import MinMaxScaler\n",
    "\n",
    "# Feature Selection\n",
    "from sklearn.linear_model import LogisticRegression\n",
    "from sklearn.ensemble import ExtraTreesClassifier\n",
    "from sklearn.feature_selection import RFE"
   ]
  },
  {
   "cell_type": "markdown",
   "metadata": {},
   "source": [
    "The three data sets are daily Open, High, Low, Close, Adjusted Close, and Volume for BTC-USD, ETH-USD, and ADA-USD from August 25th, 2021 and going back five years. These coins where chosen for thier longetivity in the crypto space and their leading market cap.\n",
    "\n",
    "The data is taken from Yahoo! Finance (https://finance.yahoo.com/) on August 25th, 2021."
   ]
  },
  {
   "cell_type": "markdown",
   "metadata": {},
   "source": [
    "# Importing and Visualizing the Data"
   ]
  },
  {
   "cell_type": "code",
   "execution_count": 21,
   "metadata": {},
   "outputs": [],
   "source": [
    "# Importing the data\n",
    "\n",
    "coins=['BTC', 'ETH', 'ADA']\n",
    "\n",
    "# Getting the files\n",
    "data_files=['Data/BTC-USD-H.csv', 'Data/ETH-USD-H.csv', 'Data/ADA-USD-H.csv']\n",
    "\n",
    "# Creating data frames for them\n",
    "df_BTC=pd.read_csv(data_files[0])\n",
    "df_BTC=df_BTC.dropna()\n",
    "df_ETH=pd.read_csv(data_files[1])\n",
    "df_ETH=df_ETH.dropna()\n",
    "df_ADA=pd.read_csv(data_files[2])\n",
    "df_ADA=df_ADA.dropna()\n",
    "\n",
    "dfs=[df_BTC, df_ETH, df_ADA]"
   ]
  },
  {
   "cell_type": "code",
   "execution_count": 22,
   "metadata": {},
   "outputs": [],
   "source": [
    "# # Initial Visualization function\n",
    "\n",
    "# for i in [0]:\n",
    "#     # Columns must be in a specific order for the candlestick chart (OHLC)\n",
    "#     df = dfs[i][['Open', 'High', 'Low', 'Close','Volume']]\n",
    "    \n",
    "#     # Index must be set as the date\n",
    "#     df.index = pd.DatetimeIndex(df['Date'])\n",
    "\n",
    "#     # Graphing\n",
    "#     mpf.plot(df,type='candle',figsize=(20,12),volume=True, title=coins[i])"
   ]
  },
  {
   "cell_type": "markdown",
   "metadata": {},
   "source": [
    "8/25: Because some of these coins (DOGE in particular) don't actually gain any real value until recently, do I want to cut off the past when they begin to do something? Or, I can only choose the highest market cap ones.\n",
    "\n",
    "8/27: I chose to run only the top 3 market cap."
   ]
  },
  {
   "cell_type": "markdown",
   "metadata": {},
   "source": [
    "# Our Indicators"
   ]
  },
  {
   "cell_type": "markdown",
   "metadata": {},
   "source": [
    "Taken from http://mrjbq7.github.io/ta-lib/doc_index.html"
   ]
  },
  {
   "cell_type": "markdown",
   "metadata": {},
   "source": [
    "## Overlap Studies Functions"
   ]
  },
  {
   "cell_type": "code",
   "execution_count": 23,
   "metadata": {},
   "outputs": [],
   "source": [
    "# #BBANDS - Bollinger Bands\n",
    "# upperband, middleband, lowerband = BBANDS(close, timeperiod=5, nbdevup=2, nbdevdn=2, matype=0)\n",
    "\n",
    "# #DEMA - Double Exponential Moving Average\n",
    "# real = DEMA(close, timeperiod=30)\n",
    "\n",
    "# #EMA - Exponential Moving Average\n",
    "# real = EMA(close, timeperiod=30)\n",
    "\n",
    "# #HT_TRENDLINE - Hilbert Transform - Instantaneous Trendline\n",
    "# real = HT_TRENDLINE(close)\n",
    "\n",
    "# #KAMA - Kaufman Adaptive Moving Average\n",
    "# real = KAMA(close, timeperiod=30)\n",
    "\n",
    "# #MA - Moving average\n",
    "# real = MA(close, timeperiod=30, matype=0)\n",
    "\n",
    "# #TEMA - Triple Exponential Moving Average\n",
    "# real = TEMA(close, timeperiod=30)\n",
    "\n",
    "# #TRIMA - Triangular Moving Average\n",
    "# real = TRIMA(close, timeperiod=30)\n",
    "\n",
    "# #WMA - Weighted Moving Average\n",
    "# real = WMA(close, timeperiod=30)"
   ]
  },
  {
   "cell_type": "markdown",
   "metadata": {},
   "source": [
    "## Momentum Indicators"
   ]
  },
  {
   "cell_type": "code",
   "execution_count": 24,
   "metadata": {},
   "outputs": [],
   "source": [
    "# # AROON - Aroon\n",
    "# aroondown, aroonup = AROON(high, low, timeperiod=14)\n",
    "\n",
    "# #AROONOSC - Aroon Oscillator\n",
    "# real = AROONOSC(high, low, timeperiod=14)\n",
    "\n",
    "# #MACD - Moving Average Convergence/Divergence\n",
    "# macd, macdsignal, macdhist = MACD(close, fastperiod=12, slowperiod=26, signalperiod=9)\n",
    "\n",
    "# # MOM - Momentum\n",
    "# real = MOM(close, timeperiod=10)\n",
    "\n",
    "# #ROC - Rate of change : ((price/prevPrice)-1)*100\n",
    "# real = ROC(close, timeperiod=10)\n",
    "\n",
    "# #ROCP - Rate of change Percentage: (price-prevPrice)/prevPrice\n",
    "# real = ROCP(close, timeperiod=10)\n",
    "\n",
    "# #ROCR - Rate of change ratio: (price/prevPrice)\n",
    "# real = ROCR(close, timeperiod=10)\n",
    "\n",
    "# #RSI - Relative Strength Index\n",
    "# real = RSI(close, timeperiod=14)\n",
    "\n",
    "# #STOCH - Stochastic\n",
    "# slowk, slowd = STOCH(high, low, close, fastk_period=5, slowk_period=3, slowk_matype=0, slowd_period=3, slowd_matype=0)\n",
    "\n",
    "# #STOCHF - Stochastic Fast\n",
    "# fastk, fastd = STOCHF(high, low, close, fastk_period=5, fastd_period=3, fastd_matype=0)\n",
    "\n",
    "# #SOCHRSI - Stochastic Relative Strength Index\n",
    "# fastk, fastd = STOCHRSI(close, timeperiod=14, fastk_period=5, fastd_period=3, fastd_matype=0)\n",
    "\n",
    "# #ULTOSC - Ultimate Oscillator\n",
    "# real = ULTOSC(high, low, close, timeperiod1=7, timeperiod2=14, timeperiod3=28)\n",
    "\n",
    "# # WILLR - Williams' %R\n",
    "# real = WILLR(high, low, close, timeperiod=14)"
   ]
  },
  {
   "cell_type": "markdown",
   "metadata": {},
   "source": [
    "## Volume Indicator Functions"
   ]
  },
  {
   "cell_type": "code",
   "execution_count": 25,
   "metadata": {},
   "outputs": [],
   "source": [
    "# #AD - Chaikin A/D Line\n",
    "# real = AD(high, low, close, volume)\n",
    "\n",
    "# #ADOSC - Chaikin A/D Oscillator\n",
    "# real = ADOSC(high, low, close, volume, fastperiod=3, slowperiod=10)\n",
    "\n",
    "# #OBV - On Balance Volume\n",
    "# real = OBV(close, volume)"
   ]
  },
  {
   "cell_type": "markdown",
   "metadata": {},
   "source": [
    "## Volatility Indicator Functions"
   ]
  },
  {
   "cell_type": "code",
   "execution_count": 26,
   "metadata": {},
   "outputs": [],
   "source": [
    "# #ATR - Average True Range\n",
    "# real = ATR(high, low, close, timeperiod=14)\n",
    "\n",
    "# #NATR - Normalized Average True Range\n",
    "# real = NATR(high, low, close, timeperiod=14)\n",
    "\n",
    "# #TRANGE - True Range\n",
    "# real = TRANGE(high, low, close)"
   ]
  },
  {
   "cell_type": "markdown",
   "metadata": {},
   "source": [
    "## Price Transform Functions"
   ]
  },
  {
   "cell_type": "code",
   "execution_count": 27,
   "metadata": {},
   "outputs": [],
   "source": [
    "# # AVGPRICE - Average Price\n",
    "# real = AVGPRICE(open, high, low, close)\n",
    "\n",
    "# #MEDPRICE - Median Price\n",
    "# real = MEDPRICE(high, low)\n",
    "\n",
    "# #TYPPRICE - Typical Price\n",
    "# real = TYPPRICE(high, low, close)\n",
    "\n",
    "# #WCLPRICE - Weighted Close Price\n",
    "# real = WCLPRICE(high, low, close)"
   ]
  },
  {
   "cell_type": "markdown",
   "metadata": {},
   "source": [
    "## Cycle Indicator Functions"
   ]
  },
  {
   "cell_type": "code",
   "execution_count": 28,
   "metadata": {},
   "outputs": [],
   "source": [
    "# #HT_DCPERIOD - Hilbert Transform - Dominant Cycle Period\n",
    "# real = HT_DCPERIOD(close)\n",
    "\n",
    "# #HT_DCPHASE - Hilbert Transform - Dominant Cycle Phase\n",
    "# real = HT_DCPHASE(close)\n",
    "\n",
    "# #HT_PHASOR - Hilbert Transform - Phasor Components\n",
    "# inphase, quadrature = HT_PHASOR(close)\n",
    "\n",
    "# #HT_SINE - Hilbert Transform - SineWave\n",
    "# sine, leadsine = HT_SINE(close)\n",
    "\n",
    "# #HT_TRENDMODE - Hilbert Transform - Trend vs Cycle Mode\n",
    "# integer = HT_TRENDMODE(close)"
   ]
  },
  {
   "cell_type": "markdown",
   "metadata": {},
   "source": [
    "## Technical Indicators Used:\n",
    "\n",
    "### Overlap Studies Functions:\n",
    "\n",
    "Bollinger Bands. timeperiod=10,12,14,16,18,20\n",
    "\n",
    "Exponential Moving Average. timeperiod=20,25,30,35,40\n",
    "\n",
    "Weighted Moving Average. timeperiod=20,25,30,35,40\n",
    "\n",
    "### Momentum Indicators:\n",
    "\n",
    "Aroon. timeperiod=10,12,14,16,18,20\n",
    "\n",
    "Aroon Oscillator. timeperiod=10,12,14,16,18,20\n",
    "\n",
    "MACD - Moving Average Convergence/Divergence\n",
    "\n",
    "RSI. timeperiod=10,12,14,16,18,20\n",
    "\n",
    "Stochastic Oscillator. timeperiod=1,3,5,7,9 and 3,5,7,9,11\n",
    "\n",
    "Stochastic Fast: timeperiod=1,3,5,7,9 and 3,5,7,9,11\n",
    "\n",
    "### Volume Indicator Functions:\n",
    "\n",
    "Chaikin A/D Line. No time frame\n",
    "\n",
    "Volatility Indicator Functions:\n",
    "\n",
    "Normalized Average True Range. timeperiod=10,12,14,16,18,20\n",
    "\n",
    "### Price Transform Functions:\n",
    "\n",
    "Median Price. timeperiod=10,12,14,16,18,20\n",
    "\n",
    "### Cycle Indicator Functions:\n",
    "\n",
    "Hilbert Transform - Dominant Cycle Period. No time frame\n",
    "\n",
    "Hilbert Transform - Dominant Cycle Phase. No time frame"
   ]
  },
  {
   "cell_type": "markdown",
   "metadata": {},
   "source": [
    "# Function for Technical Indicator Features"
   ]
  },
  {
   "cell_type": "code",
   "execution_count": 29,
   "metadata": {},
   "outputs": [],
   "source": [
    "# Importing our indicators\n",
    "\n",
    "from talib import BBANDS\n",
    "from talib import AROON\n",
    "from talib import AROONOSC\n",
    "from talib import RSI\n",
    "from talib import NATR\n",
    "from talib import EMA\n",
    "from talib import WMA\n",
    "from talib import STOCH\n",
    "from talib import STOCHF\n",
    "from talib import MACD \n",
    "from talib import MEDPRICE\n",
    "from talib import AD\n",
    "from talib import HT_DCPERIOD\n",
    "from talib import HT_DCPHASE"
   ]
  },
  {
   "cell_type": "markdown",
   "metadata": {},
   "source": [
    "## Data and Features Unscaled"
   ]
  },
  {
   "cell_type": "code",
   "execution_count": 30,
   "metadata": {},
   "outputs": [],
   "source": [
    "def TA(df):\n",
    "    \n",
    "    # Empty lists to fill with features and data\n",
    "    features=[]\n",
    "    data=[]\n",
    "    \n",
    "    # Getting our High, Low, Close, and Volume data\n",
    "    high=df['High']\n",
    "    low=df['Low']\n",
    "    close=df['Close']\n",
    "    volume=df['Volume']\n",
    "    \n",
    "    for t in [10, 12, 14, 16, 18, 20]: # These indicators all use roughly the same time frame given as 14 by default\n",
    "        \n",
    "        #BBANDS - Bollinger Bands\n",
    "        upperband, middleband, lowerband = BBANDS(close, timeperiod=t, nbdevup=2, nbdevdn=2, matype=0)\n",
    "        \n",
    "        features.append('BB_upper '+str(t))\n",
    "        features.append('BB_middle '+str(t))\n",
    "        features.append('BB_lower '+str(t))\n",
    "        data.append(upperband)\n",
    "        data.append(middleband)\n",
    "        data.append(lowerband)\n",
    "        \n",
    "        # AROON - Aroon\n",
    "        aroondown, aroonup = AROON(high, low, timeperiod=t)\n",
    "        \n",
    "        features.append('Aroon_down '+str(t))\n",
    "        features.append('Aroon_up '+str(t))\n",
    "        data.append(aroondown)\n",
    "        data.append(aroondown)\n",
    "\n",
    "        #AROONOSC - Aroon Oscillator\n",
    "        aroonosc= AROONOSC(high, low, timeperiod=t)\n",
    "        \n",
    "        features.append('Aroonosc '+str(t))\n",
    "        data.append(aroonosc)      \n",
    "        \n",
    "        # RSI- Rising Strength Indicator\n",
    "        rsi = RSI(close, timeperiod=t)\n",
    "        \n",
    "        features.append('RSI '+str(t))\n",
    "        data.append(rsi)\n",
    "        \n",
    "        #NATR - Normalized Average True Range\n",
    "        natr = NATR(high, low, close, timeperiod=t)\n",
    "        \n",
    "        features.append('NATR '+str(t))\n",
    "        data.append(natr)\n",
    "              \n",
    "    for t in [20,25,30,35,40]: # These indicators use roughly the same time frame starting at 30 as the default\n",
    "        \n",
    "        #EMA - Exponential Moving Average\n",
    "        ema = EMA(close, timeperiod=t)\n",
    "        \n",
    "        features.append('EMA '+str(t))\n",
    "        data.append(ema)\n",
    "        \n",
    "        #WMA - Weighted Moving Average\n",
    "        wma = WMA(close, timeperiod=t)\n",
    "        \n",
    "        features.append('WMA '+str(t))\n",
    "        data.append(wma)\n",
    "        \n",
    "    for m in [1,3,5,7,9]: # These indicators have two components, the lower starting at 3 and the upper 5 by default\n",
    "        \n",
    "        #STOCH - Stochastic\n",
    "        slowk, slowd = STOCH(high, low, close, fastk_period=m+2, slowk_period=m, slowk_matype=0, \n",
    "                             slowd_period=m, slowd_matype=0)\n",
    "        \n",
    "        features.append('fastk '+str(m+2))\n",
    "        features.append('slowk/slowd '+str(m))\n",
    "        data.append(slowk)\n",
    "        data.append(slowd)\n",
    "        \n",
    "        #STOCHF - Stochastic Fast\n",
    "        fastk, fastd = STOCHF(high, low, close, fastk_period=m+2, fastd_period=m, fastd_matype=0)\n",
    "        \n",
    "        features.append('fastk '+str(m+2))\n",
    "        features.append('fastd '+str(m))\n",
    "        data.append(fastk)\n",
    "        data.append(fastd)\n",
    "    \n",
    "    for m in [6, 9, 12, 15, 18]:\n",
    "        \n",
    "        #MACD - Moving Average Convergence/Divergence\n",
    "        macd, macdsignal, macdhist = MACD(close, fastperiod=m, slowperiod=2*m, \n",
    "                                          signalperiod=math.floor(1.5*m))\n",
    "        \n",
    "        features.append('MACD '+str(m))\n",
    "        features.append('MACD Signal '+str(m))\n",
    "        features.append('MACD Hist'+str(m))\n",
    "        data.append(macd)\n",
    "        data.append(macdsignal)\n",
    "        data.append(macdhist)\n",
    "    \n",
    "    # Indicators without time frames\n",
    "    \n",
    "    #MEDPRICE - Median Price\n",
    "    medprice = MEDPRICE(high, low)\n",
    "    \n",
    "    features.append('Med Price')\n",
    "    data.append(medprice)\n",
    "    \n",
    "    #AD - Chaikin A/D Line\n",
    "    ad = AD(high, low, close, volume)\n",
    "    \n",
    "    features.append('Chaikin A/D Line')\n",
    "    data.append(ad)\n",
    "    \n",
    "    #HT_DCPERIOD - Hilbert Transform - Dominant Cycle Period\n",
    "    ht_dcperiod = HT_DCPERIOD(close)\n",
    "    \n",
    "    features.append('HT Dom Phase')\n",
    "    data.append(ht_dcperiod)\n",
    "\n",
    "    #HT_DCPHASE - Hilbert Transform - Dominant Cycle Phase\n",
    "    ht_dcphase = HT_DCPHASE(close)\n",
    "    \n",
    "    features.append('HT Dom Period')\n",
    "    data.append(ht_dcphase)\n",
    "\n",
    "    features.append('High')\n",
    "    features.append('Low')\n",
    "    features.append('Close')\n",
    "    features.append('Volume')\n",
    "    data.append(high)\n",
    "    data.append(low)\n",
    "    data.append(close)\n",
    "    data.append(volume)\n",
    "\n",
    "    return features, data"
   ]
  },
  {
   "cell_type": "markdown",
   "metadata": {},
   "source": [
    "# Creating our Feature Matrix"
   ]
  },
  {
   "cell_type": "markdown",
   "metadata": {},
   "source": [
    "## Non-Scaled Matrix"
   ]
  },
  {
   "cell_type": "code",
   "execution_count": 31,
   "metadata": {},
   "outputs": [],
   "source": [
    "# Labeling Function\n",
    "\n",
    "def labeling(df):\n",
    "    pct_changes=df['Close'].pct_change(periods=24)\n",
    "    pct_changes=100*pct_changes    \n",
    "    labels=[]\n",
    "    for value in pct_changes:\n",
    "        if value>1:\n",
    "            labels.append(2) # Buy\n",
    "        if -1<value<1:\n",
    "            labels.append(1) # Hold\n",
    "        if value<-1:\n",
    "            labels.append(0) # Sell\n",
    "    return labels, pct_changes"
   ]
  },
  {
   "cell_type": "code",
   "execution_count": 32,
   "metadata": {},
   "outputs": [],
   "source": [
    "# Defining a function that will create a TA feature csv\n",
    "\n",
    "def TA_df(features, data):\n",
    "    list_of_columns=data\n",
    "    full_df=pd.DataFrame(list_of_columns, features)\n",
    "    full_df=np.transpose(full_df)\n",
    "    labels=labeling(full_df)\n",
    "    full_df=full_df[24:] # The first 24 rows rows don't have a label, so we drop them\n",
    "    full_df['Label'], full_df['Percent Change']=labels \n",
    "    full_df['Label']=full_df['Label'].shift(-1)\n",
    "    full_df['Percent Change']=full_df['Percent Change'].shift(-1)\n",
    "    full_df=full_df.dropna()\n",
    "    full_df.to_csv('Non-Scaled TA Features Hourly Matrix Plus Labels 24 for '+coins[i]+'.csv')\n",
    "    \n",
    "    print('Done!')"
   ]
  },
  {
   "cell_type": "code",
   "execution_count": 33,
   "metadata": {},
   "outputs": [
    {
     "name": "stdout",
     "output_type": "stream",
     "text": [
      "Done!\n",
      "Done!\n",
      "Done!\n"
     ]
    }
   ],
   "source": [
    "# Running the function to create a TA feature csv for each coin\n",
    "\n",
    "for i in range(len(dfs)):\n",
    "    features, data=TA(dfs[i])\n",
    "    TA_df(features, data)"
   ]
  },
  {
   "cell_type": "markdown",
   "metadata": {},
   "source": [
    "# Principle Component Analysis"
   ]
  },
  {
   "cell_type": "markdown",
   "metadata": {},
   "source": [
    "8/30: We are only considering BTC for now to get it all working.\n",
    "\n",
    "8/31: It is working so we will create a function to do all three coins"
   ]
  },
  {
   "cell_type": "code",
   "execution_count": 34,
   "metadata": {},
   "outputs": [],
   "source": [
    "# Defining a function to discover the best PCA matrix for each coin\n",
    "\n",
    "def PCA_creation(file, coin):\n",
    "    \n",
    "    # Importing the data\n",
    "    df=pd.read_csv(file)\n",
    "    df=df.drop('Label', axis=1)\n",
    "    df=df.drop('Unnamed: 0', axis=1)\n",
    "    \n",
    "    # Scaling the data and getting our X matrix\n",
    "    scaler=StandardScaler()\n",
    "    df_scaled=scaler.fit_transform(df)\n",
    "    X=pd.DataFrame(df_scaled)\n",
    "    \n",
    "    # Fitting PCA to our X TA matric\n",
    "    pca = PCA()\n",
    "    pca.fit(X)\n",
    "    \n",
    "    # Plot the cumulative sum of the explained variance ratio\n",
    "    cumsum = np.cumsum(pca.explained_variance_ratio_)\n",
    "    plt.plot(cumsum, 'rx-')\n",
    "    plt.xlabel('Principal component number')\n",
    "    plt.ylabel('Cum sum')\n",
    "    plt.title('The cumulative sum of exp var ratio for '+str(coin));\n",
    "\n",
    "    # Plot the spectrum of the covariance matrix\n",
    "    plt.figure(figsize=(25,15))\n",
    "    plt.plot(pca.explained_variance_, 'bo-')\n",
    "    plt.xlabel('Principal component number')\n",
    "    plt.ylabel('Eigenvalues')\n",
    "    plt.title('The spectrum of the covariance matrix for '+str(coin));\n",
    "    \n",
    "    return X"
   ]
  },
  {
   "cell_type": "code",
   "execution_count": 35,
   "metadata": {},
   "outputs": [],
   "source": [
    "# Creating a list of file names of the feature matrices\n",
    "\n",
    "non_scaled_plus_label_files=['Non-Scaled TA Features Hourly Matrix Plus Labels 24 for BTC.csv',\n",
    "                            'Non-Scaled TA Features Hourly Matrix Plus Labels 24 for ETH.csv',\n",
    "                            'Non-Scaled TA Features Hourly Matrix Plus Labels 24 for ADA.csv']"
   ]
  },
  {
   "cell_type": "markdown",
   "metadata": {},
   "source": [
    "## BTC"
   ]
  },
  {
   "cell_type": "code",
   "execution_count": 36,
   "metadata": {},
   "outputs": [
    {
     "data": {
      "image/png": "[encoded data removed]",
      "text/plain": [
       "<Figure size 432x288 with 1 Axes>"
      ]
     },
     "metadata": {
      "needs_background": "light"
     },
     "output_type": "display_data"
    },
    {
     "data": {
      "image/png": "[encoded data removed]",
      "text/plain": [
       "<Figure size 1800x1080 with 1 Axes>"
      ]
     },
     "metadata": {
      "needs_background": "light"
     },
     "output_type": "display_data"
    }
   ],
   "source": [
    "# Running our PCA_creation for BTC\n",
    "\n",
    "X=PCA_creation(non_scaled_plus_label_files[0],coins[0])"
   ]
  },
  {
   "cell_type": "code",
   "execution_count": 38,
   "metadata": {},
   "outputs": [],
   "source": [
    "# From our graphs, we decide on the first 20 PCA components\n",
    "\n",
    "pca=PCA(n_components=20)\n",
    "pca_BTC=pca.fit_transform(X)\n",
    "pca_BTC_df=pd.DataFrame(pca_BTC)\n",
    "\n",
    "# Adding our labels for ease of access\n",
    "full_df=pd.read_csv(non_scaled_plus_label_files[0])\n",
    "labels=full_df['Label']\n",
    "pct_changes=full_df['Percent Change']\n",
    "pca_BTC_df['Label']=labels\n",
    "pca_BTC_df['Percent Change']=pct_changes\n",
    "\n",
    "pca_BTC_df.to_csv('PCA 24 Hourly BTC.csv')"
   ]
  },
  {
   "cell_type": "markdown",
   "metadata": {},
   "source": [
    "## ETH"
   ]
  },
  {
   "cell_type": "code",
   "execution_count": 39,
   "metadata": {},
   "outputs": [
    {
     "data": {
      "image/png": "[encoded data removed]",
      "text/plain": [
       "<Figure size 432x288 with 1 Axes>"
      ]
     },
     "metadata": {
      "needs_background": "light"
     },
     "output_type": "display_data"
    },
    {
     "data": {
      "image/png": "[encoded data removed]",
      "text/plain": [
       "<Figure size 1800x1080 with 1 Axes>"
      ]
     },
     "metadata": {
      "needs_background": "light"
     },
     "output_type": "display_data"
    }
   ],
   "source": [
    "# Running our PCA_creation for ETH\n",
    "\n",
    "X=PCA_creation(non_scaled_plus_label_files[1],coins[1])"
   ]
  },
  {
   "cell_type": "code",
   "execution_count": 40,
   "metadata": {},
   "outputs": [],
   "source": [
    "# From our graphs, we decide on the first 20 PCA components\n",
    "\n",
    "pca=PCA(n_components=20)\n",
    "pca_ETH=pca.fit_transform(X)\n",
    "pca_ETH_df=pd.DataFrame(pca_ETH)\n",
    "\n",
    "# Adding our labels for ease of access\n",
    "full_df=pd.read_csv(non_scaled_plus_label_files[1])\n",
    "labels=full_df['Label']\n",
    "pct_changes=full_df['Percent Change']\n",
    "pca_ETH_df['Label']=labels\n",
    "pca_ETH_df['Percent Change']=pct_changes\n",
    "\n",
    "pca_ETH_df.to_csv('PCA 24 Hourly ETH.csv')"
   ]
  },
  {
   "cell_type": "markdown",
   "metadata": {},
   "source": [
    "## ADA"
   ]
  },
  {
   "cell_type": "code",
   "execution_count": 41,
   "metadata": {},
   "outputs": [
    {
     "data": {
      "image/png": "[encoded data removed]",
      "text/plain": [
       "<Figure size 432x288 with 1 Axes>"
      ]
     },
     "metadata": {
      "needs_background": "light"
     },
     "output_type": "display_data"
    },
    {
     "data": {
      "image/png": "[encoded data removed]",
      "text/plain": [
       "<Figure size 1800x1080 with 1 Axes>"
      ]
     },
     "metadata": {
      "needs_background": "light"
     },
     "output_type": "display_data"
    }
   ],
   "source": [
    "# Running our PCA_creation for ADA\n",
    "\n",
    "X=PCA_creation(non_scaled_plus_label_files[2],coins[2])"
   ]
  },
  {
   "cell_type": "code",
   "execution_count": 42,
   "metadata": {},
   "outputs": [],
   "source": [
    "# From our graphs, we decide on the first 20 PCA components\n",
    "\n",
    "pca=PCA(n_components=20)\n",
    "pca_ADA=pca.fit_transform(X)\n",
    "pca_ADA_df=pd.DataFrame(pca_ADA)\n",
    "\n",
    "# Adding our labels for ease of access\n",
    "full_df=pd.read_csv(non_scaled_plus_label_files[2])\n",
    "labels=full_df['Label']\n",
    "pct_changes=full_df['Percent Change']\n",
    "pca_ADA_df['Label']=labels\n",
    "pca_ADA_df['Percent Change']=pct_changes\n",
    "\n",
    "pca_ADA_df.to_csv('PCA 24 Hourly ADA.csv')"
   ]
  },
  {
   "cell_type": "code",
   "execution_count": null,
   "metadata": {},
   "outputs": [],
   "source": []
  }
 ],
 "metadata": {
  "kernelspec": {
   "display_name": "Python 3",
   "language": "python",
   "name": "python3"
  },
  "language_info": {
   "codemirror_mode": {
    "name": "ipython",
    "version": 3
   },
   "file_extension": ".py",
   "mimetype": "text/x-python",
   "name": "python",
   "nbconvert_exporter": "python",
   "pygments_lexer": "ipython3",
   "version": "3.8.5"
  },
  "toc": {
   "base_numbering": 1,
   "nav_menu": {},
   "number_sections": true,
   "sideBar": true,
   "skip_h1_title": false,
   "title_cell": "Table of Contents",
   "title_sidebar": "Contents",
   "toc_cell": false,
   "toc_position": {
    "height": "589px",
    "left": "37px",
    "top": "111px",
    "width": "273.594px"
   },
   "toc_section_display": true,
   "toc_window_display": true
  }
 },
 "nbformat": 4,
 "nbformat_minor": 4
}
