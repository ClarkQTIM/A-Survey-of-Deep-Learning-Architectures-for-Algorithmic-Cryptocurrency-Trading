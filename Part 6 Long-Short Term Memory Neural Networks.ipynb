{
 "cells": [
  {
   "cell_type": "markdown",
   "metadata": {},
   "source": [
    "# Setting up our Notebook"
   ]
  },
  {
   "cell_type": "code",
   "execution_count": 14,
   "metadata": {},
   "outputs": [],
   "source": [
    "# Things to import\n",
    "\n",
    "# Standard data, plotting, and mathematical tools\n",
    "import numpy as np\n",
    "import pandas as pd\n",
    "import matplotlib.pyplot as plt\n",
    "\n",
    "# Statistical Tools\n",
    "import statsmodels.api as sm\n",
    "\n",
    "# LSTM\n",
    "from tensorflow.keras.models import Sequential\n",
    "from tensorflow.keras.layers import Dense,Dropout,Activation\n",
    "from sklearn.metrics import accuracy_score, mean_squared_error\n",
    "from sklearn.model_selection import train_test_split\n",
    "from sklearn.metrics import confusion_matrix\n",
    "from tensorflow import keras\n",
    "from keras import utils\n",
    "from keras.preprocessing.sequence import TimeseriesGenerator\n",
    "import tensorflow as tf\n",
    "\n",
    "# Grid Search\n",
    "from sklearn.model_selection import GridSearchCV\n",
    "from keras.wrappers.scikit_learn import KerasClassifier"
   ]
  },
  {
   "cell_type": "markdown",
   "metadata": {},
   "source": [
    "# Importing the data"
   ]
  },
  {
   "cell_type": "code",
   "execution_count": 4,
   "metadata": {},
   "outputs": [],
   "source": [
    "# Importing the data for BTC\n",
    "\n",
    "dfs=['PCA 24 Hourly BTC.csv', 'PCA 24 Hourly ETH.csv', 'PCA 24 Hourly ADA.csv']"
   ]
  },
  {
   "cell_type": "markdown",
   "metadata": {},
   "source": [
    "# LSTM"
   ]
  },
  {
   "cell_type": "markdown",
   "metadata": {},
   "source": [
    "## Getting the training and testing data"
   ]
  },
  {
   "cell_type": "code",
   "execution_count": 5,
   "metadata": {},
   "outputs": [],
   "source": [
    "# Train and test splitting and scaling\n",
    "X=pd.read_csv(dfs[0])\n",
    "y=X['Label']\n",
    "X=X.drop('Label', axis=1)\n",
    "X=X.drop('Unnamed: 0', axis=1)\n",
    "X=X.values\n",
    "\n",
    "num_classes=3 \n",
    "\n",
    "# # split into train and test\n",
    "# X_train, X_val, y_train, y_val = train_test_split(X, y,test_size=0.2, random_state=100, shuffle=True)\n",
    "# X_train, X_test, y_train, y_test=train_test_split(X_train, y_train,test_size=0.2, random_state=100, shuffle=True)\n",
    "\n",
    "# y_train = utils.to_categorical(y_train, num_classes)\n",
    "# y_test = utils.to_categorical(y_test, num_classes)\n",
    "# y_val = utils.to_categorical(y_val, num_classes)"
   ]
  },
  {
   "cell_type": "code",
   "execution_count": 6,
   "metadata": {},
   "outputs": [],
   "source": [
    "# Setting up the generator\n",
    "\n",
    "# define generator\n",
    "n_input = 2 # How many time periods into the past we will look\n",
    "n_features = 20 # Number of PCA features\n",
    "X = X.reshape((len(X), n_features))\n",
    "generator = TimeseriesGenerator(X, y, length=n_input, batch_size=1)\n"
   ]
  },
  {
   "cell_type": "code",
   "execution_count": 7,
   "metadata": {},
   "outputs": [
    {
     "name": "stdout",
     "output_type": "stream",
     "text": [
      "[[-3.97463026 -2.47490299  4.36937512  1.16341295  2.02626529 -1.04510705\n",
      "  -2.16191018 -0.78818485 -1.08221859 -1.58568009 -0.58034766  0.41746317\n",
      "   0.19465733 -0.07952356  0.02262383 -0.28917062  0.35130785  0.13369728\n",
      "   0.16635575  0.44182287]\n",
      " [-4.004122   -2.43223371  1.8593727   3.58810242  1.42003146 -1.99500603\n",
      "  -3.0710325  -0.55270049 -0.02329188 -0.75281388 -0.93464133  0.10561485\n",
      "   0.62154312 -0.15020801  0.25987712 -0.48926378 -0.13381247  0.35978713\n",
      "   0.02737289  0.73648029]]\n",
      "1.0\n",
      "[-4.004122   -2.43223371  1.8593727   3.58810242  1.42003146 -1.99500603\n",
      " -3.0710325  -0.55270049 -0.02329188 -0.75281388 -0.93464133  0.10561485\n",
      "  0.62154312 -0.15020801  0.25987712 -0.48926378 -0.13381247  0.35978713\n",
      "  0.02737289  0.73648029]\n",
      "1.0\n",
      "[-3.85074086 -4.62666408  4.93777156  0.91348167  1.72592524 -0.011953\n",
      " -1.44544808 -0.84295537 -1.90628512 -1.64809063 -0.63739946  0.23183053\n",
      "  0.19237427  0.05423635  0.00916496 -0.24690443 -0.0700142   0.05299091\n",
      "  0.00514239  0.10932789]\n",
      "1.0\n"
     ]
    }
   ],
   "source": [
    "print(generator[0][0][0])\n",
    "print(generator[0][1][0])\n",
    "print(X[1])\n",
    "print(y[1])\n",
    "print(X[2])\n",
    "print(y[2])"
   ]
  },
  {
   "cell_type": "code",
   "execution_count": 86,
   "metadata": {},
   "outputs": [
    {
     "name": "stdout",
     "output_type": "stream",
     "text": [
      "(38199, 2, 20)\n",
      "[[-4.004122   -2.43223371  1.8593727   3.58810242  1.42003146 -1.99500603\n",
      "  -3.0710325  -0.55270049 -0.02329188 -0.75281388 -0.93464133  0.10561485\n",
      "   0.62154312 -0.15020801  0.25987712 -0.48926378 -0.13381247  0.35978713\n",
      "   0.02737289  0.73648029]\n",
      " [-3.85074086 -4.62666408  4.93777156  0.91348167  1.72592524 -0.011953\n",
      "  -1.44544808 -0.84295537 -1.90628512 -1.64809063 -0.63739946  0.23183053\n",
      "   0.19237427  0.05423635  0.00916496 -0.24690443 -0.0700142   0.05299091\n",
      "   0.00514239  0.10932789]] 1.0\n"
     ]
    }
   ],
   "source": [
    "# Creating feature and dep variable matrices\n",
    "X=pd.read_csv(dfs[0])\n",
    "y=X['Label']\n",
    "X=X.drop('Label', axis=1)\n",
    "X=X.drop('Unnamed: 0', axis=1)\n",
    "X=X.values\n",
    "X_prep=[]\n",
    "y_prep=[]\n",
    "\n",
    "num_classes=3 \n",
    "n_input = 2 # How many time periods into the past we will look\n",
    "n_features = 20 # Number of PCA features\n",
    "\n",
    "for i in range(n_input, len(X)):\n",
    "    lag_set=X[i-n_input:i]\n",
    "    X_prep.append(lag_set) # We are taking the last n_input to the present time periods as the \n",
    "    # X values. We have to add the +1 to include the present.\n",
    "    y_prep.append(y[i-1]) # We are hoping the last n_input values will be able to predict the\n",
    "    # n_input+1th value\n",
    "X_prep=np.array(X_prep) # They need to be arrays\n",
    "y_prep=np.array(y_prep)\n",
    "\n",
    "print(X_prep.shape) # Confirming that the shape of X_prep is (n_instances, n_input, by n_features)\n",
    "print(X_prep[1], y_prep[1])"
   ]
  },
  {
   "cell_type": "code",
   "execution_count": 9,
   "metadata": {},
   "outputs": [
    {
     "name": "stdout",
     "output_type": "stream",
     "text": [
      "(24447, 2, 20)\n"
     ]
    }
   ],
   "source": [
    "# split into train and test\n",
    "X_train, X_val, y_train, y_val = train_test_split(X_prep, y_prep,test_size=0.2, random_state=100, shuffle=True)\n",
    "X_train, X_test, y_train, y_test=train_test_split(X_train, y_train,test_size=0.2, random_state=100, shuffle=True)\n",
    "\n",
    "y_train = utils.to_categorical(y_train, num_classes)\n",
    "y_test = utils.to_categorical(y_test, num_classes)\n",
    "y_val = utils.to_categorical(y_val, num_classes)\n",
    "\n",
    "print(X_train.shape) # Confirming that the shape of X_prep is (n_instances, n_input, by n_features)"
   ]
  },
  {
   "cell_type": "code",
   "execution_count": 10,
   "metadata": {},
   "outputs": [],
   "source": [
    "# Importing the Keras libraries and packages\n",
    "from keras.models import Sequential\n",
    "from keras.layers import Dense\n",
    "from keras.layers import LSTM\n",
    "from keras.layers import Dropout\n",
    " \n",
    "# Initialising the RNN\n",
    "model = Sequential()\n",
    " \n",
    "# Adding the First input hidden layer and the LSTM layer\n",
    "# return_sequences = True, means the output of every time step to be shared with hidden next layer\n",
    "model.add(LSTM(units = 100, activation = 'relu', input_shape = (n_input, n_features), \n",
    "               return_sequences=True))\n",
    "\n",
    "# Adding a dropout layer of 20%\n",
    "model.add(Dropout(0.2))\n",
    "\n",
    "# Adding the Second Second hidden layer and the LSTM layer\n",
    "model.add(LSTM(units = 50, activation = 'relu', input_shape = (n_input, n_features), \n",
    "               return_sequences=True))\n",
    " \n",
    "# Adding a dropout layer of 20%\n",
    "model.add(Dropout(0.2))    \n",
    "    \n",
    "# Adding the Second Third hidden layer and the LSTM layer\n",
    "model.add(LSTM(units = 50, activation = 'relu', return_sequences=False )) # We don't need to \n",
    "# return the sequences\n",
    " \n",
    " \n",
    "# Adding the output layer\n",
    "model.add(Dense(units = 3, activation='softmax'))\n",
    " \n",
    "# Compiling the RNN\n",
    "model.compile(optimizer = 'adam', loss='categorical_crossentropy', metrics=['accuracy'])"
   ]
  },
  {
   "cell_type": "code",
   "execution_count": 11,
   "metadata": {},
   "outputs": [
    {
     "name": "stdout",
     "output_type": "stream",
     "text": [
      "Model: \"sequential\"\n",
      "_________________________________________________________________\n",
      "Layer (type)                 Output Shape              Param #   \n",
      "=================================================================\n",
      "lstm (LSTM)                  (None, 2, 100)            48400     \n",
      "_________________________________________________________________\n",
      "dropout (Dropout)            (None, 2, 100)            0         \n",
      "_________________________________________________________________\n",
      "lstm_1 (LSTM)                (None, 2, 50)             30200     \n",
      "_________________________________________________________________\n",
      "dropout_1 (Dropout)          (None, 2, 50)             0         \n",
      "_________________________________________________________________\n",
      "lstm_2 (LSTM)                (None, 50)                20200     \n",
      "_________________________________________________________________\n",
      "dense (Dense)                (None, 3)                 153       \n",
      "=================================================================\n",
      "Total params: 98,953\n",
      "Trainable params: 98,953\n",
      "Non-trainable params: 0\n",
      "_________________________________________________________________\n"
     ]
    }
   ],
   "source": [
    "model.summary()"
   ]
  },
  {
   "cell_type": "code",
   "execution_count": 12,
   "metadata": {},
   "outputs": [
    {
     "name": "stdout",
     "output_type": "stream",
     "text": [
      "Epoch 1/10\n",
      "1528/1528 [==============================] - 10s 4ms/step - loss: 0.5298 - accuracy: 0.7760 - val_loss: 0.4427 - val_accuracy: 0.8135\n",
      "Epoch 2/10\n",
      "1528/1528 [==============================] - 6s 4ms/step - loss: 0.4535 - accuracy: 0.8058 - val_loss: 0.4338 - val_accuracy: 0.8148\n",
      "Epoch 3/10\n",
      "1528/1528 [==============================] - 6s 4ms/step - loss: 0.4382 - accuracy: 0.8119 - val_loss: 0.4215 - val_accuracy: 0.8196\n",
      "Epoch 4/10\n",
      "1528/1528 [==============================] - 6s 4ms/step - loss: 0.4297 - accuracy: 0.8170 - val_loss: 0.4200 - val_accuracy: 0.8230\n",
      "Epoch 5/10\n",
      "1528/1528 [==============================] - 6s 4ms/step - loss: 0.4226 - accuracy: 0.8197 - val_loss: 0.4194 - val_accuracy: 0.8216\n",
      "Epoch 6/10\n",
      "1528/1528 [==============================] - 6s 4ms/step - loss: 0.4139 - accuracy: 0.8240 - val_loss: 0.4180 - val_accuracy: 0.8233\n",
      "Epoch 7/10\n",
      "1528/1528 [==============================] - 6s 4ms/step - loss: 0.4102 - accuracy: 0.8255 - val_loss: 0.4156 - val_accuracy: 0.8274\n",
      "Epoch 8/10\n",
      "1528/1528 [==============================] - 6s 4ms/step - loss: 0.4030 - accuracy: 0.8280 - val_loss: 0.4170 - val_accuracy: 0.8266\n",
      "Epoch 9/10\n",
      "1528/1528 [==============================] - 6s 4ms/step - loss: 0.3958 - accuracy: 0.8309 - val_loss: 0.4212 - val_accuracy: 0.8268\n",
      "Epoch 10/10\n",
      "1528/1528 [==============================] - 6s 4ms/step - loss: 0.3911 - accuracy: 0.8338 - val_loss: 0.4152 - val_accuracy: 0.8275\n"
     ]
    }
   ],
   "source": [
    "# Fitting the RNN\n",
    "history=model.fit(X_train, y_train, validation_data=(X_val,y_val), epochs=10, batch_size=16, shuffle=False)"
   ]
  },
  {
   "cell_type": "code",
   "execution_count": 13,
   "metadata": {},
   "outputs": [
    {
     "data": {
      "image/png": "[encoded data removed]",
      "text/plain": [
       "<Figure size 1440x1152 with 1 Axes>"
      ]
     },
     "metadata": {
      "needs_background": "light"
     },
     "output_type": "display_data"
    },
    {
     "data": {
      "text/plain": [
       "array([[1540,  243,   30],\n",
       "       [ 237, 1630,  239],\n",
       "       [  35,  281, 1877]], dtype=int64)"
      ]
     },
     "execution_count": 13,
     "metadata": {},
     "output_type": "execute_result"
    }
   ],
   "source": [
    "# Performance\n",
    "\n",
    "history.history.keys()\n",
    "pd.DataFrame(history.history).plot(figsize=(20, 16))\n",
    "plt.grid(True)\n",
    "plt.gca().set_ylim(0, 1) # set the vertical range to [0-1]\n",
    "plt.show()\n",
    "\n",
    "# Performance\n",
    "y_pred=model.predict(X_test) \n",
    "y_pred=np.argmax(y_pred, axis=1)\n",
    "y_test=np.argmax(y_test, axis=1)\n",
    "confusion_matrix(y_test, y_pred)\n",
    "# print(accuracy_score(y_test, y_pred))"
   ]
  },
  {
   "cell_type": "markdown",
   "metadata": {},
   "source": [
    "# From Machine Learning in Finance Notebook with Grid Search"
   ]
  },
  {
   "cell_type": "markdown",
   "metadata": {},
   "source": [
    "## Stationarity"
   ]
  },
  {
   "cell_type": "markdown",
   "metadata": {},
   "source": [
    "## Augmented Dickey-Fuller Test"
   ]
  },
  {
   "cell_type": "markdown",
   "metadata": {},
   "source": [
    "We perform an Augmented Dickey-Fuller test to establish stationarity under the assumption that the time series has a constant bias but does not exhibit a time trend. In other words, we assume that the time series is already de-trended."
   ]
  },
  {
   "cell_type": "code",
   "execution_count": 150,
   "metadata": {},
   "outputs": [],
   "source": [
    "# We will create a matrix where each element is a full PCA column. \n",
    "\n",
    "X=pd.read_csv(dfs[0])\n",
    "y=X['Label']\n",
    "X=X.drop('Label', axis=1)\n",
    "X=X.drop('Unnamed: 0', axis=1)\n",
    "\n",
    "PCA_matrix=[]\n",
    "for i in range(len(X.iloc[0])): # Grabs the length of a row, which is the number of features\n",
    "    PCA_feat=[]\n",
    "    for j in range(len(X)):\n",
    "        PCA_feat.append(X.iloc[j][i]) # In column i, adds all the rows to a list, giving us all the elements of that\n",
    "        # column\n",
    "    PCA_matrix.append(PCA_feat)"
   ]
  },
  {
   "cell_type": "code",
   "execution_count": 152,
   "metadata": {},
   "outputs": [
    {
     "name": "stdout",
     "output_type": "stream",
     "text": [
      "ADF: -0.46644327429945454\n",
      "p-value: 0.8984001984023233,\n",
      "N: 38146, \n",
      "critical values: {'1%': -3.430521439734198, '5%': -2.8616157723227107, '10%': -2.566810331191688}\n",
      "ADF: -28.671702749175733\n",
      "p-value: 0.0,\n",
      "N: 38173, \n",
      "critical values: {'1%': -3.4305213184656536, '5%': -2.8616157187264184, '10%': -2.566810302663821}\n",
      "ADF: -21.890438453899908\n",
      "p-value: 0.0,\n",
      "N: 38151, \n",
      "critical values: {'1%': -3.430521417264109, '5%': -2.861615762391748, '10%': -2.566810325905703}\n",
      "ADF: -17.078881104371956\n",
      "p-value: 7.731928281302704e-30,\n",
      "N: 38151, \n",
      "critical values: {'1%': -3.430521417264109, '5%': -2.861615762391748, '10%': -2.566810325905703}\n",
      "ADF: -11.877990466821778\n",
      "p-value: 6.274527909233675e-22,\n",
      "N: 38147, \n",
      "critical values: {'1%': -3.430521435239709, '5%': -2.86161577033631, '10%': -2.56681033013438}\n",
      "ADF: -22.52787579739349\n",
      "p-value: 0.0,\n",
      "N: 38147, \n",
      "critical values: {'1%': -3.430521435239709, '5%': -2.86161577033631, '10%': -2.56681033013438}\n",
      "ADF: -33.31855294330438\n",
      "p-value: 0.0,\n",
      "N: 38177, \n",
      "critical values: {'1%': -3.4305213005145325, '5%': -2.861615710792675, '10%': -2.5668102984409025}\n",
      "ADF: -21.44898194257851\n",
      "p-value: 0.0,\n",
      "N: 38147, \n",
      "critical values: {'1%': -3.430521435239709, '5%': -2.86161577033631, '10%': -2.56681033013438}\n",
      "ADF: -27.81197357202666\n",
      "p-value: 0.0,\n",
      "N: 38153, \n",
      "critical values: {'1%': -3.430521408277723, '5%': -2.8616157584200916, '10%': -2.566810323791697}\n",
      "ADF: -29.692501567080935\n",
      "p-value: 0.0,\n",
      "N: 38182, \n",
      "critical values: {'1%': -3.4305212780809207, '5%': -2.861615700877833, '10%': -2.5668102931634986}\n",
      "ADF: -32.42015920639656\n",
      "p-value: 0.0,\n",
      "N: 38182, \n",
      "critical values: {'1%': -3.4305212780809207, '5%': -2.861615700877833, '10%': -2.5668102931634986}\n",
      "ADF: -19.18403506999464\n",
      "p-value: 0.0,\n",
      "N: 38146, \n",
      "critical values: {'1%': -3.430521439734198, '5%': -2.8616157723227107, '10%': -2.566810331191688}\n",
      "ADF: -19.342281053484985\n",
      "p-value: 0.0,\n",
      "N: 38146, \n",
      "critical values: {'1%': -3.430521439734198, '5%': -2.8616157723227107, '10%': -2.566810331191688}\n",
      "ADF: -51.12533765348552\n",
      "p-value: 0.0,\n",
      "N: 38188, \n",
      "critical values: {'1%': -3.4305212511683414, '5%': -2.86161568898345, '10%': -2.566810286832438}\n",
      "ADF: -23.623737273447304\n",
      "p-value: 0.0,\n",
      "N: 38150, \n",
      "critical values: {'1%': -3.4305214217576556, '5%': -2.8616157643777322, '10%': -2.566810326962789}\n",
      "ADF: -12.822692452638769\n",
      "p-value: 6.1053582399062005e-24,\n",
      "N: 38146, \n",
      "critical values: {'1%': -3.430521439734198, '5%': -2.8616157723227107, '10%': -2.566810331191688}\n",
      "ADF: -23.479557028292593\n",
      "p-value: 0.0,\n",
      "N: 38155, \n",
      "critical values: {'1%': -3.430521399292279, '5%': -2.8616157544488514, '10%': -2.5668103216779126}\n",
      "ADF: -20.771189885309877\n",
      "p-value: 0.0,\n",
      "N: 38147, \n",
      "critical values: {'1%': -3.430521435239709, '5%': -2.86161577033631, '10%': -2.56681033013438}\n",
      "ADF: -26.07017424950127\n",
      "p-value: 0.0,\n",
      "N: 38155, \n",
      "critical values: {'1%': -3.430521399292279, '5%': -2.8616157544488514, '10%': -2.5668103216779126}\n",
      "ADF: -43.9145533948695\n",
      "p-value: 0.0,\n",
      "N: 38187, \n",
      "critical values: {'1%': -3.430521255653184, '5%': -2.8616156909655874, '10%': -2.5668102878874763}\n"
     ]
    }
   ],
   "source": [
    "# Augmented Dickey-Fuller Test for each PCA column\n",
    "\n",
    "for PCA in PCA_matrix:\n",
    "    sample = PCA\n",
    "    adf, p, usedlag, nobs, cvs, aic = sm.tsa.stattools.adfuller(sample)\n",
    "    adf_results_string = 'ADF: {}\\np-value: {},\\nN: {}, \\ncritical values: {}'\n",
    "    print(adf_results_string.format(adf, p, nobs, cvs))"
   ]
  },
  {
   "cell_type": "markdown",
   "metadata": {},
   "source": [
    "We can clearly see that each of them exibits autocorrelation."
   ]
  },
  {
   "cell_type": "markdown",
   "metadata": {},
   "source": [
    "## Autoregressive Model Identification: The partial auto-correlation"
   ]
  },
  {
   "cell_type": "markdown",
   "metadata": {},
   "source": [
    "The estimated partial auto-correlation function (PACF) can be used to identify the order of an autoregressive time series model. Values of $|\\tau_h|$ greater or equal to $\\frac{\\Phi^{-1}(\\alpha)}{\\sqrt{T}}$, where $T$ is the number of observations and $\\Phi(z)$ is the standard normal CDF, are significant lag $h$ partial autocorelations at the $\\alpha$ confidence level.\n",
    "\n",
    "We use the stattools package to estimate the PACF. The nlags parameter is the maximum number of lags used for PACF estimation."
   ]
  },
  {
   "cell_type": "code",
   "execution_count": 153,
   "metadata": {},
   "outputs": [
    {
     "name": "stdout",
     "output_type": "stream",
     "text": [
      "5.0\n"
     ]
    }
   ],
   "source": [
    "# Finding the best number of steps for our dataset\n",
    "\n",
    "n_steps_overall=[]\n",
    "for i in range(len(PCA_matrix)):\n",
    "    pacf = sm.tsa.stattools.pacf(PCA_matrix[i], nlags=10)\n",
    "    T = len(PCA_matrix[i])\n",
    "    sig_test = lambda tau_h: np.abs(tau_h) > 2.58/np.sqrt(T)\n",
    "    for k in range(len(pacf)):\n",
    "        if sig_test(pacf[k]) == False:\n",
    "            n_steps = k - 1\n",
    "            n_steps_overall.append(n_steps)\n",
    "avg_steps=np.floor(np.average(n_steps_overall))\n",
    "print(avg_steps)"
   ]
  },
  {
   "cell_type": "markdown",
   "metadata": {},
   "source": [
    "## Using Grid Search"
   ]
  },
  {
   "cell_type": "code",
   "execution_count": 165,
   "metadata": {},
   "outputs": [
    {
     "name": "stdout",
     "output_type": "stream",
     "text": [
      "(38196, 5, 20)\n",
      "[[-4.00412200e+00 -2.43223371e+00  1.85937270e+00  3.58810242e+00\n",
      "   1.42003146e+00 -1.99500603e+00 -3.07103250e+00 -5.52700488e-01\n",
      "  -2.32918774e-02 -7.52813881e-01 -9.34641328e-01  1.05614846e-01\n",
      "   6.21543117e-01 -1.50208007e-01  2.59877122e-01 -4.89263780e-01\n",
      "  -1.33812469e-01  3.59787133e-01  2.73728934e-02  7.36480286e-01]\n",
      " [-3.85074086e+00 -4.62666408e+00  4.93777156e+00  9.13481667e-01\n",
      "   1.72592524e+00 -1.19530010e-02 -1.44544808e+00 -8.42955372e-01\n",
      "  -1.90628512e+00 -1.64809063e+00 -6.37399463e-01  2.31830532e-01\n",
      "   1.92374266e-01  5.42363497e-02  9.16496026e-03 -2.46904430e-01\n",
      "  -7.00142047e-02  5.29909104e-02  5.14238823e-03  1.09327890e-01]\n",
      " [-3.83249900e+00 -5.10813508e+00  4.40285250e+00  1.08324970e+00\n",
      "   1.47526508e+00  1.85180115e-01 -9.87261390e-01 -2.09447819e-01\n",
      "  -1.50620228e+00 -2.30130361e+00 -5.15593228e-01 -4.41989331e-01\n",
      "   5.85341858e-01  2.81894604e-01 -5.04073620e-03 -3.15113570e-01\n",
      "   4.14809627e-01 -2.42589119e-01 -5.60470704e-01  1.54394506e-01]\n",
      " [-3.91851173e+00 -3.97820052e+00  1.50481799e+00  3.74232582e+00\n",
      "   1.09329108e+00 -1.02351062e+00 -1.92261133e+00 -1.81844544e-01\n",
      "  -5.68779154e-01 -2.03053227e+00 -5.71145478e-01 -5.14770509e-01\n",
      "   6.10226498e-01  9.07847453e-02 -1.36740620e-01 -3.21392942e-01\n",
      "   4.98337794e-01  2.86623243e-01 -3.08810498e-01 -2.32093942e-01]\n",
      " [-3.96340348e+00 -3.61042632e+00  2.98765557e-01  4.16878874e+00\n",
      "   8.93451836e-01 -5.28804952e-01 -1.15527813e+00  9.30669231e-02\n",
      "  -7.05120265e-01 -1.74357245e+00 -5.44312029e-01 -3.28515820e-01\n",
      "  -6.13368645e-02  5.15884539e-01  1.28569164e-01 -4.28301397e-01\n",
      "  -9.20637049e-02  5.95251838e-01  7.28072447e-01 -1.99818083e-01]] 1.0\n"
     ]
    }
   ],
   "source": [
    "## Getting our training and testing sets\n",
    "\n",
    "X_prep=[]\n",
    "y_prep=[]\n",
    "\n",
    "num_classes=3 \n",
    "n_steps = int(avg_steps) # How many time periods into the past we will look. Our avg_steps was a float, so we convert\n",
    "# it to an integer\n",
    "n_features = 20 # Number of PCA features\n",
    "\n",
    "for i in range(n_steps, len(X)):\n",
    "    lag_set=X.iloc[i-n_steps:i].values\n",
    "    X_prep.append(lag_set) # We are taking the last n_input to the present time periods as the \n",
    "    # X values.\n",
    "    y_prep.append(y[i-1]) # We are hoping the last n_input values will be able to predict the\n",
    "    # n_input+1th value\n",
    "X_prep=np.array(X_prep) # They need to be arrays\n",
    "y_prep=np.array(y_prep)\n",
    "\n",
    "print(X_prep.shape)\n",
    "print(X_prep[1], y_prep[1]) # Confirming that the shape of X_prep is (n_instances, n_steps, by n_features)"
   ]
  },
  {
   "cell_type": "code",
   "execution_count": 166,
   "metadata": {},
   "outputs": [
    {
     "name": "stdout",
     "output_type": "stream",
     "text": [
      "(24444, 5, 20)\n"
     ]
    }
   ],
   "source": [
    "# split into train and test\n",
    "X_train, X_val, y_train, y_val = train_test_split(X_prep, y_prep,test_size=0.2, random_state=100, shuffle=True)\n",
    "X_train, X_test, y_train, y_test=train_test_split(X_train, y_train,test_size=0.2, random_state=100, shuffle=True)\n",
    "\n",
    "y_train = utils.to_categorical(y_train, num_classes)\n",
    "y_test = utils.to_categorical(y_test, num_classes)\n",
    "y_val = utils.to_categorical(y_val, num_classes)\n",
    "\n",
    "print(X_train.shape) # Confirming that the shape of X_prep is (n_instances, n_steps, by n_features)"
   ]
  },
  {
   "cell_type": "code",
   "execution_count": 180,
   "metadata": {},
   "outputs": [],
   "source": [
    "def create_lstm_model(activ_function='relu', neurons=50, dropout_rate=0.1, num_layers=1, \n",
    "                     optimizer='adam'):\n",
    "    # create model\n",
    "    model = keras.Sequential()\n",
    "    \n",
    "    if num_layers==1:\n",
    "        #Adding the First input hidden layer and the LSTM layer\n",
    "        # return_sequences = True, means the output of every time step to be shared with hidden next layer\n",
    "        model.add(keras.layers.LSTM(units = neurons, activation = activ_function, input_shape = (n_steps, n_features), \n",
    "               return_sequences=False)) # For the final later, we don't need to return the sequences\n",
    "        model.add(keras.layers.Dropout(dropout_rate))\n",
    "\n",
    "        \n",
    "    if num_layers==2:\n",
    "        #Adding the First input hidden layer and the LSTM layer\n",
    "        # return_sequences = True, means the output of every time step to be shared with hidden next layer\n",
    "        model.add(keras.layers.LSTM(units = neurons, activation = activ_function, input_shape = (n_steps, n_features), \n",
    "               return_sequences=True))\n",
    "        model.add(keras.layers.Dropout(dropout_rate))\n",
    "        # Second layer\n",
    "        model.add(keras.layers.LSTM(units = neurons, activation = activ_function, input_shape = (n_steps, n_features), \n",
    "               return_sequences=False)) # For the final later, we don't need to return the sequences\n",
    "        model.add(keras.layers.Dropout(dropout_rate))\n",
    "\n",
    "        \n",
    "    if num_layers==3:\n",
    "        #Adding the First input hidden layer and the LSTM layer\n",
    "        # return_sequences = True, means the output of every time step to be shared with hidden next layer\n",
    "        model.add(keras.layers.LSTM(units = neurons, activation = activ_function, input_shape = (n_steps, n_features), \n",
    "               return_sequences=True))\n",
    "        model.add(keras.layers.Dropout(dropout_rate))\n",
    "        # Second layer\n",
    "        model.add(keras.layers.LSTM(units = neurons, activation = activ_function, input_shape = (n_steps, n_features), \n",
    "               return_sequences=True))\n",
    "        model.add(keras.layers.Dropout(dropout_rate))\n",
    "        # Third layer\n",
    "        model.add(keras.layers.LSTM(units = neurons, activation = activ_function, input_shape = (n_steps, n_features), \n",
    "               return_sequences=False)) # For the final later, we don't need to return the sequences\n",
    "        model.add(keras.layers.Dropout(dropout_rate))\n",
    "        \n",
    "    if num_layers==4:\n",
    "        #Adding the First input hidden layer and the LSTM layer\n",
    "        # return_sequences = True, means the output of every time step to be shared with hidden next layer\n",
    "        model.add(keras.layers.LSTM(units = neurons, activation = activ_function, input_shape = (n_steps, n_features), \n",
    "               return_sequences=True))\n",
    "        model.add(keras.layers.Dropout(dropout_rate))\n",
    "        # Second layer\n",
    "        model.add(keras.layers.LSTM(units = neurons, activation = activ_function, input_shape = (n_steps, n_features), \n",
    "               return_sequences=True))\n",
    "        model.add(keras.layers.Dropout(dropout_rate))\n",
    "        # Third layer\n",
    "        model.add(keras.layers.LSTM(units = neurons, activation = activ_function, input_shape = (n_steps, n_features), \n",
    "               return_sequences=True))\n",
    "        model.add(keras.layers.Dropout(dropout_rate))\n",
    "        # Fourth layer\n",
    "        model.add(keras.layers.LSTM(units = neurons, activation = activ_function, input_shape = (n_steps, n_features), \n",
    "               return_sequences=False)) # For the final later, we don't need to return the sequences\n",
    "        model.add(keras.layers.Dropout(dropout_rate))\n",
    "        \n",
    "    # Final layer with softmax for classification\n",
    "    model.add(keras.layers.Dense(3, activation=\"softmax\"))\n",
    "        \n",
    "    # Running through the optimizers\n",
    "    if optimizer=='adam':\n",
    "        # Learning Rate Schedule\n",
    "        lr_schedule = keras.optimizers.schedules.ExponentialDecay(\n",
    "        initial_learning_rate=init_lr,\n",
    "        decay_steps=decay_steps,\n",
    "        decay_rate=decay_rates)\n",
    "    \n",
    "        optimizer = keras.optimizers.Adam(learning_rate=lr_schedule)\n",
    "        \n",
    "    if optimizer=='RMSprop':\n",
    "        # Learning Rate Schedule\n",
    "        lr_schedule = keras.optimizers.schedules.ExponentialDecay(\n",
    "        initial_learning_rate=init_lr,\n",
    "        decay_steps=decay_steps,\n",
    "        decay_rate=decay_rates)\n",
    "    \n",
    "        optimizer = keras.optimizers.RMSProp(learning_rate=lr_schedule)\n",
    "        \n",
    "    if optimizer=='SGD':\n",
    "        # Learning Rate Schedule\n",
    "        lr_schedule = keras.optimizers.schedules.ExponentialDecay(\n",
    "        initial_learning_rate=init_lr,\n",
    "        decay_steps=decay_steps,\n",
    "        decay_rate=decay_rates)\n",
    "    \n",
    "        optimizer = keras.optimizers.SGD(learning_rate=lr_schedule)\n",
    "        \n",
    "    # Compile model\n",
    "    model.compile( \n",
    "        optimizer=optimizer,\n",
    "        loss='categorical_crossentropy',\n",
    "        metrics=['accuracy'],\n",
    "        )    \n",
    "    return model"
   ]
  },
  {
   "cell_type": "code",
   "execution_count": 181,
   "metadata": {},
   "outputs": [
    {
     "name": "stdout",
     "output_type": "stream",
     "text": [
      "Model: \"sequential_6\"\n",
      "_________________________________________________________________\n",
      "Layer (type)                 Output Shape              Param #   \n",
      "=================================================================\n",
      "lstm_13 (LSTM)               (None, 50)                14200     \n",
      "_________________________________________________________________\n",
      "dropout_9 (Dropout)          (None, 50)                0         \n",
      "_________________________________________________________________\n",
      "dense_5 (Dense)              (None, 3)                 153       \n",
      "=================================================================\n",
      "Total params: 14,353\n",
      "Trainable params: 14,353\n",
      "Non-trainable params: 0\n",
      "_________________________________________________________________\n"
     ]
    }
   ],
   "source": [
    "# Creating and compiling the model with a summary\n",
    "\n",
    "lstm = create_lstm_model()\n",
    "lstm.summary()"
   ]
  },
  {
   "cell_type": "code",
   "execution_count": null,
   "metadata": {},
   "outputs": [],
   "source": [
    "# Optimize the model with grid search\n",
    "\n",
    "# Grid search parameters\n",
    "n_epochs_cv = 20 # Number of epochs for our grid search\n",
    "n_cv = 3 # Number of cross validations\n",
    "\n",
    "# Create model to feed to our parameter grid search\n",
    "model = KerasClassifier(build_fn=create_lstm_model, verbose=1)\n",
    "\n",
    "# Define parameters and values for grid search to check in our model\n",
    "param_grid = {\n",
    "    # Model parameters\n",
    "    'activ_function':['relu', 'tanh', 'sigmoid'],\n",
    "    'neurons':[50,100,150,200,250,300],\n",
    "    'dropout_rate':[0.1, 0.2, 0.3, 0.4, 0.5],\n",
    "    'num_layers':[1, 2, 3],\n",
    "    'optimizer':['adam', 'RMSProp', 'SGD'],\n",
    "     # Optimizer parameters\n",
    "    'init_lr':[1e-1,1e-2,1e-3,1e-4,1e-5],\n",
    "    'decay_steps':range(1000,10000,1000),\n",
    "    'decay_rates':[.5,.6,.7,.8,.9],\n",
    "    # The number of epochs for each model\n",
    "    'epochs': [n_epochs_cv],\n",
    "}\n",
    "\n",
    "# Creating the grid\n",
    "grid = GridSearchCV(estimator=model, param_grid=param_grid, n_jobs=-1, cv=n_cv)\n",
    "\n",
    "# Fitting the grid\n",
    "grid_result = grid.fit(X_train, y_train)"
   ]
  },
  {
   "cell_type": "code",
   "execution_count": null,
   "metadata": {},
   "outputs": [],
   "source": [
    "lstm_model=create_lstm_model(activ_function=grid_result.best_params_['activ_function'], \n",
    "                                            neurons=grid_result.best_params_['neurons'], \n",
    "                                            dropout_rate=grid_result.best_params_['dropout_rate'],\n",
    "                                            num_layers=grid_result.best_params_['num_layers'],\n",
    "                                            optimizer=grid_result.best_params_['optimizer'],\n",
    "                          init_lr=grid_result.best_params_['init_lr'],\n",
    "                          decay_steps=grid_result.best_params_['decay_steps'],\n",
    "                          decay_rates=grid_result.best_params_['decay_rates'])\n",
    "\n",
    "# Fitting the model\n",
    "history = lstm_model.fit(X_train, y_train, epochs=50, validation_data=(X_val,y_val), verbose=0)"
   ]
  },
  {
   "cell_type": "code",
   "execution_count": 175,
   "metadata": {},
   "outputs": [
    {
     "data": {
      "image/png": "[encoded data removed]",
      "text/plain": [
       "<Figure size 1440x1152 with 1 Axes>"
      ]
     },
     "metadata": {
      "needs_background": "light"
     },
     "output_type": "display_data"
    },
    {
     "ename": "AxisError",
     "evalue": "axis 1 is out of bounds for array of dimension 1",
     "output_type": "error",
     "traceback": [
      "\u001b[1;31m---------------------------------------------------------------------------\u001b[0m",
      "\u001b[1;31mAxisError\u001b[0m                                 Traceback (most recent call last)",
      "\u001b[1;32m<ipython-input-175-28f50bb94db7>\u001b[0m in \u001b[0;36m<module>\u001b[1;34m\u001b[0m\n\u001b[0;32m     10\u001b[0m \u001b[0my_pred\u001b[0m\u001b[1;33m=\u001b[0m\u001b[0mmodel\u001b[0m\u001b[1;33m.\u001b[0m\u001b[0mpredict\u001b[0m\u001b[1;33m(\u001b[0m\u001b[0mX_test\u001b[0m\u001b[1;33m)\u001b[0m\u001b[1;33m\u001b[0m\u001b[1;33m\u001b[0m\u001b[0m\n\u001b[0;32m     11\u001b[0m \u001b[0my_pred\u001b[0m\u001b[1;33m=\u001b[0m\u001b[0mnp\u001b[0m\u001b[1;33m.\u001b[0m\u001b[0margmax\u001b[0m\u001b[1;33m(\u001b[0m\u001b[0my_pred\u001b[0m\u001b[1;33m,\u001b[0m \u001b[0maxis\u001b[0m\u001b[1;33m=\u001b[0m\u001b[1;36m1\u001b[0m\u001b[1;33m)\u001b[0m\u001b[1;33m\u001b[0m\u001b[1;33m\u001b[0m\u001b[0m\n\u001b[1;32m---> 12\u001b[1;33m \u001b[0my_test\u001b[0m\u001b[1;33m=\u001b[0m\u001b[0mnp\u001b[0m\u001b[1;33m.\u001b[0m\u001b[0margmax\u001b[0m\u001b[1;33m(\u001b[0m\u001b[0my_test\u001b[0m\u001b[1;33m,\u001b[0m \u001b[0maxis\u001b[0m\u001b[1;33m=\u001b[0m\u001b[1;36m1\u001b[0m\u001b[1;33m)\u001b[0m\u001b[1;33m\u001b[0m\u001b[1;33m\u001b[0m\u001b[0m\n\u001b[0m\u001b[0;32m     13\u001b[0m \u001b[0mconfusion_matrix\u001b[0m\u001b[1;33m(\u001b[0m\u001b[0my_test\u001b[0m\u001b[1;33m,\u001b[0m \u001b[0my_pred\u001b[0m\u001b[1;33m)\u001b[0m\u001b[1;33m\u001b[0m\u001b[1;33m\u001b[0m\u001b[0m\n\u001b[0;32m     14\u001b[0m \u001b[1;31m# print(accuracy_score(y_test, y_pred))\u001b[0m\u001b[1;33m\u001b[0m\u001b[1;33m\u001b[0m\u001b[1;33m\u001b[0m\u001b[0m\n",
      "\u001b[1;32m<__array_function__ internals>\u001b[0m in \u001b[0;36margmax\u001b[1;34m(*args, **kwargs)\u001b[0m\n",
      "\u001b[1;32m~\\anaconda3\\lib\\site-packages\\numpy\\core\\fromnumeric.py\u001b[0m in \u001b[0;36margmax\u001b[1;34m(a, axis, out)\u001b[0m\n\u001b[0;32m   1184\u001b[0m \u001b[1;33m\u001b[0m\u001b[0m\n\u001b[0;32m   1185\u001b[0m     \"\"\"\n\u001b[1;32m-> 1186\u001b[1;33m     \u001b[1;32mreturn\u001b[0m \u001b[0m_wrapfunc\u001b[0m\u001b[1;33m(\u001b[0m\u001b[0ma\u001b[0m\u001b[1;33m,\u001b[0m \u001b[1;34m'argmax'\u001b[0m\u001b[1;33m,\u001b[0m \u001b[0maxis\u001b[0m\u001b[1;33m=\u001b[0m\u001b[0maxis\u001b[0m\u001b[1;33m,\u001b[0m \u001b[0mout\u001b[0m\u001b[1;33m=\u001b[0m\u001b[0mout\u001b[0m\u001b[1;33m)\u001b[0m\u001b[1;33m\u001b[0m\u001b[1;33m\u001b[0m\u001b[0m\n\u001b[0m\u001b[0;32m   1187\u001b[0m \u001b[1;33m\u001b[0m\u001b[0m\n\u001b[0;32m   1188\u001b[0m \u001b[1;33m\u001b[0m\u001b[0m\n",
      "\u001b[1;32m~\\anaconda3\\lib\\site-packages\\numpy\\core\\fromnumeric.py\u001b[0m in \u001b[0;36m_wrapfunc\u001b[1;34m(obj, method, *args, **kwds)\u001b[0m\n\u001b[0;32m     59\u001b[0m \u001b[1;33m\u001b[0m\u001b[0m\n\u001b[0;32m     60\u001b[0m     \u001b[1;32mtry\u001b[0m\u001b[1;33m:\u001b[0m\u001b[1;33m\u001b[0m\u001b[1;33m\u001b[0m\u001b[0m\n\u001b[1;32m---> 61\u001b[1;33m         \u001b[1;32mreturn\u001b[0m \u001b[0mbound\u001b[0m\u001b[1;33m(\u001b[0m\u001b[1;33m*\u001b[0m\u001b[0margs\u001b[0m\u001b[1;33m,\u001b[0m \u001b[1;33m**\u001b[0m\u001b[0mkwds\u001b[0m\u001b[1;33m)\u001b[0m\u001b[1;33m\u001b[0m\u001b[1;33m\u001b[0m\u001b[0m\n\u001b[0m\u001b[0;32m     62\u001b[0m     \u001b[1;32mexcept\u001b[0m \u001b[0mTypeError\u001b[0m\u001b[1;33m:\u001b[0m\u001b[1;33m\u001b[0m\u001b[1;33m\u001b[0m\u001b[0m\n\u001b[0;32m     63\u001b[0m         \u001b[1;31m# A TypeError occurs if the object does have such a method in its\u001b[0m\u001b[1;33m\u001b[0m\u001b[1;33m\u001b[0m\u001b[1;33m\u001b[0m\u001b[0m\n",
      "\u001b[1;31mAxisError\u001b[0m: axis 1 is out of bounds for array of dimension 1"
     ]
    }
   ],
   "source": [
    "# Performance\n",
    "\n",
    "history.history.keys()\n",
    "pd.DataFrame(history.history).plot(figsize=(20, 16))\n",
    "plt.grid(True)\n",
    "plt.gca().set_ylim(0, 1) # set the vertical range to [0-1]\n",
    "plt.show()\n",
    "\n",
    "# Performance\n",
    "y_pred=model.predict(X_test) \n",
    "y_pred=np.argmax(y_pred, axis=1)\n",
    "y_test=np.argmax(y_test, axis=1)\n",
    "confusion_matrix(y_test, y_pred)\n",
    "# print(accuracy_score(y_test, y_pred))"
   ]
  },
  {
   "cell_type": "code",
   "execution_count": null,
   "metadata": {},
   "outputs": [],
   "source": []
  },
  {
   "cell_type": "code",
   "execution_count": null,
   "metadata": {},
   "outputs": [],
   "source": []
  },
  {
   "cell_type": "code",
   "execution_count": null,
   "metadata": {},
   "outputs": [],
   "source": []
  },
  {
   "cell_type": "code",
   "execution_count": null,
   "metadata": {},
   "outputs": [],
   "source": []
  },
  {
   "cell_type": "code",
   "execution_count": null,
   "metadata": {},
   "outputs": [],
   "source": []
  },
  {
   "cell_type": "code",
   "execution_count": null,
   "metadata": {},
   "outputs": [],
   "source": []
  },
  {
   "cell_type": "code",
   "execution_count": null,
   "metadata": {},
   "outputs": [],
   "source": []
  },
  {
   "cell_type": "code",
   "execution_count": null,
   "metadata": {},
   "outputs": [],
   "source": []
  }
 ],
 "metadata": {
  "kernelspec": {
   "display_name": "Python 3",
   "language": "python",
   "name": "python3"
  },
  "language_info": {
   "codemirror_mode": {
    "name": "ipython",
    "version": 3
   },
   "file_extension": ".py",
   "mimetype": "text/x-python",
   "name": "python",
   "nbconvert_exporter": "python",
   "pygments_lexer": "ipython3",
   "version": "3.8.5"
  },
  "toc": {
   "base_numbering": 1,
   "nav_menu": {},
   "number_sections": true,
   "sideBar": true,
   "skip_h1_title": false,
   "title_cell": "Table of Contents",
   "title_sidebar": "Contents",
   "toc_cell": false,
   "toc_position": {},
   "toc_section_display": true,
   "toc_window_display": true
  }
 },
 "nbformat": 4,
 "nbformat_minor": 4
}
