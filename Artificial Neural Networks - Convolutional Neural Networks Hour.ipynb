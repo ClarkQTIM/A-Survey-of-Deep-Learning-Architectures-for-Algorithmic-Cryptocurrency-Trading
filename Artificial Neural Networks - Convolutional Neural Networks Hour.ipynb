{
 "cells": [
  {
   "cell_type": "markdown",
   "metadata": {},
   "source": [
    "# Setting up our Notebook"
   ]
  },
  {
   "cell_type": "code",
   "execution_count": 1,
   "metadata": {},
   "outputs": [],
   "source": [
    "# Things to import\n",
    "\n",
    "# Standard data, plotting, and mathematical tools\n",
    "import numpy as np\n",
    "import pandas as pd\n",
    "import matplotlib.pyplot as plt\n",
    "import time\n",
    "import seaborn as sns\n",
    "\n",
    "# PCA\n",
    "from sklearn.decomposition import PCA\n",
    "from sklearn.preprocessing import StandardScaler\n",
    "\n",
    "# CNN\n",
    "from sklearn.model_selection import train_test_split\n",
    "from sklearn.metrics import confusion_matrix\n",
    "from tensorflow import keras\n",
    "from sklearn.model_selection import GridSearchCV\n",
    "from scikeras.wrappers import KerasClassifier"
   ]
  },
  {
   "cell_type": "markdown",
   "metadata": {},
   "source": [
    "# Importing the data"
   ]
  },
  {
   "cell_type": "code",
   "execution_count": 5,
   "metadata": {},
   "outputs": [],
   "source": [
    "# Importing the data\n",
    "\n",
    "dfs=['Non-Scaled TA Features 1H for BTC.csv']"
   ]
  },
  {
   "cell_type": "markdown",
   "metadata": {},
   "source": [
    "# Convolutional Neural Network"
   ]
  },
  {
   "cell_type": "markdown",
   "metadata": {},
   "source": [
    "## Description"
   ]
  },
  {
   "cell_type": "markdown",
   "metadata": {},
   "source": [
    "### Convolution"
   ]
  },
  {
   "cell_type": "markdown",
   "metadata": {},
   "source": [
    "A convolution is an operation which passes filters over the image and transforms it into a Feature Map. They can be thout of as detecting increasingly complex patterns in the pixel data.\n",
    "\n",
    "Graphically, this can be represented as:\n",
    "\n",
    "<img src=\"Graphics/Convolution.png\" width=\"600\" height=\"600\" />"
   ]
  },
  {
   "cell_type": "markdown",
   "metadata": {},
   "source": [
    "### Convolution, Pooling, and Fully-Connected Layers"
   ]
  },
  {
   "cell_type": "markdown",
   "metadata": {},
   "source": [
    "After a round of convolutions, given that one might have many filters, the feature map will be quite large. A Pooling Layer follows which takes sections of the feature map and finds either the Average or the Max among the values and creates a second, pooled feature map. After several iterations of this, the final feature map is flattened and fed to a fully-connected layer, or just a regular DNN/MLP.\n",
    "\n",
    "Graphically, this can be represented as:\n",
    "\n",
    "<img src=\"Graphics/CNN.png\" width=\"600\" height=\"600\" />"
   ]
  },
  {
   "cell_type": "markdown",
   "metadata": {},
   "source": [
    "## Training"
   ]
  },
  {
   "cell_type": "markdown",
   "metadata": {},
   "source": [
    "### Getting the train/test data"
   ]
  },
  {
   "cell_type": "code",
   "execution_count": 6,
   "metadata": {},
   "outputs": [],
   "source": [
    "# Defining a function to create two PCA matrices\n",
    "\n",
    "def PCA_creation_train_test(no_components, X_train, X_test):\n",
    "    \n",
    "    # Scaling the data with our X_train matrix\n",
    "    scaler=StandardScaler()\n",
    "    X_train=scaler.fit_transform(X_train)\n",
    "    \n",
    "    # Fitting the PCA to our X_train matrix\n",
    "    pca=PCA(n_components=no_components)\n",
    "    X_train=pca.fit_transform(X_train)\n",
    "\n",
    "    # Scaling X_test \n",
    "    X_test=scaler.transform(X_test)\n",
    "\n",
    "    # Transforming X_test\n",
    "    X_test=pca.transform(X_test)\n",
    "    \n",
    "    return X_train, X_test"
   ]
  },
  {
   "cell_type": "code",
   "execution_count": 7,
   "metadata": {},
   "outputs": [
    {
     "name": "stdout",
     "output_type": "stream",
     "text": [
      "Confirming we have all the columns we want: \n",
      " Index(['BB_upper 10', 'BB_middle 10', 'BB_lower 10', 'Aroon_down 10',\n",
      "       'Aroon_up 10', 'Aroonosc 10', 'RSI 10', 'NATR 10', 'BB_upper 12',\n",
      "       'BB_middle 12',\n",
      "       ...\n",
      "       'MACD Signal 18', 'MACD Hist18', 'Med Price', 'Chaikin A/D Line',\n",
      "       'HT Dom Phase', 'HT Dom Period', 'High', 'Low', 'Close', 'Volume'],\n",
      "      dtype='object', length=101)\n"
     ]
    }
   ],
   "source": [
    "# Train and test splitting and scaling\n",
    "X=pd.read_csv(dfs[0])\n",
    "\n",
    "X['Date']=pd.to_datetime(X['Date']) # Setting the index as the Date\n",
    "X=X.set_index('Date').asfreq('H')\n",
    "\n",
    "X=X.dropna()\n",
    "y=X['Label']\n",
    "X=X.drop('Label', axis=1)\n",
    "X=X.drop('Percent Change', axis=1)\n",
    "\n",
    "\n",
    "# Removing the testing data\n",
    "X_test=X[-4380:] # Getting the last 6 months as the testing data\n",
    "print('Confirming we have all the columns we want:','\\n', X_test.columns)\n",
    "y_test=y[-4380:].values\n",
    "\n",
    "X=X[:-4380] # Getting everything but the first 6 months as the training data\n",
    "y=y[:-4380]"
   ]
  },
  {
   "cell_type": "markdown",
   "metadata": {},
   "source": [
    "### Creating \"images\" of our sets"
   ]
  },
  {
   "cell_type": "code",
   "execution_count": 8,
   "metadata": {},
   "outputs": [],
   "source": [
    "# Image creation function\n",
    "\n",
    "def image_creation(n_steps, X, y):\n",
    "    X_images=[]\n",
    "    y_values=[]\n",
    "    \n",
    "    for i in range(n_steps, len(X)):\n",
    "        img=X[i-n_steps,:]\n",
    "        img=np.vstack((img, X[i-n_steps+1,:]))\n",
    "        img=np.vstack((img, X[i-n_steps+2,:]))\n",
    "        img=np.vstack((img, X[i-n_steps+3,:]))\n",
    "        img=np.vstack((img, X[i-n_steps+4,:]))\n",
    "        img=np.vstack((img, X[i-n_steps+5,:]))\n",
    "        img=np.vstack((img, X[i-n_steps+6,:]))\n",
    "        img=np.vstack((img, X[i-n_steps+7,:]))\n",
    "        img=np.vstack((img, X[i-n_steps+8,:]))\n",
    "        img=np.vstack((img, X[i-n_steps+9,:]))\n",
    "        img=np.vstack((img, X[i-n_steps+10,:]))\n",
    "        img=np.vstack((img, X[i-n_steps+11,:]))\n",
    "        X_images.append(img)\n",
    "        y_values.append(int(y[i-n_steps+11]))\n",
    "        \n",
    "    return X_images, np.array(y_values) # Note, this will not include the very last one."
   ]
  },
  {
   "cell_type": "code",
   "execution_count": 9,
   "metadata": {},
   "outputs": [
    {
     "name": "stdout",
     "output_type": "stream",
     "text": [
      "Second to last X and y test after PCA: \n",
      " [12.00381295 10.53103332 -1.88724162 -1.1895646  -2.92464478  3.88806865\n",
      " -0.08486031 -1.60395372 -2.61335648 -0.14934652 -0.73597246  1.54475008\n",
      "  2.1361784  -1.16336855 -0.96483312 -0.52009332 -0.53966392  0.15052979\n",
      " -0.07019397  0.08884808] 0.0\n",
      "Final X and y test after PCA: \n",
      " [ 1.19564840e+01  1.00366560e+01 -6.45265865e-01 -1.32061430e+00\n",
      " -3.30942941e+00  3.79137389e+00  4.11759151e-01 -7.04865916e-01\n",
      " -1.77866589e+00 -4.68654783e-01 -8.73414523e-01  1.15515299e+00\n",
      "  1.72232772e+00 -9.64270883e-01 -1.74905022e+00 -3.91583857e-01\n",
      " -4.62367228e-01 -5.02975770e-03 -4.92897987e-02 -2.06024229e-01] 0.0\n",
      "X_train shape: (21011, 12, 20, 1)\n",
      "21011 train samples\n",
      "5253 val samples\n",
      "4368 test samples\n",
      "Final X and y test after PCA: \n",
      " [[12.00381295]\n",
      " [10.53103332]\n",
      " [-1.88724162]\n",
      " [-1.1895646 ]\n",
      " [-2.92464478]\n",
      " [ 3.88806865]\n",
      " [-0.08486031]\n",
      " [-1.60395372]\n",
      " [-2.61335648]\n",
      " [-0.14934652]\n",
      " [-0.73597246]\n",
      " [ 1.54475008]\n",
      " [ 2.1361784 ]\n",
      " [-1.16336855]\n",
      " [-0.96483312]\n",
      " [-0.52009332]\n",
      " [-0.53966392]\n",
      " [ 0.15052979]\n",
      " [-0.07019397]\n",
      " [ 0.08884808]] 0\n"
     ]
    }
   ],
   "source": [
    "n_steps=12\n",
    "\n",
    "# First, we create our PCA matrices from the X and X_test\n",
    "X, X_test=PCA_creation_train_test(20, X, X_test)\n",
    "print('Second to last X and y test after PCA:', '\\n',X_test[-2], y_test[-2])\n",
    "print('Final X and y test after PCA:', '\\n',X_test[-1], y_test[-1])\n",
    "    \n",
    "# Getting the X and X_test matrices' images\n",
    "X_set, y_set=image_creation(n_steps, X ,y)\n",
    "X_test, y_test=image_creation(n_steps, X_test, y_test)\n",
    "\n",
    "\n",
    "# Split X into training and validation for our neural net\n",
    "X_train, X_val, y_train, y_val=train_test_split(X_set, y_set, test_size=0.2, random_state=100, shuffle=True)\n",
    "# Note, we have already made our images from sequential time slices, so we can shuffle our sets of images\n",
    "\n",
    "y_train=np.array(y_train)\n",
    "y_val=np.array(y_val)\n",
    "y_test=np.array(y_test)\n",
    "\n",
    "# Finalizing the shapes\n",
    "num_classes = 2\n",
    "input_shape = (n_steps, len(X[0]), 1)\n",
    "\n",
    "# Add a dimension at the end to make sure images have shape (n_steps, n_features, 1)\n",
    "X_train = np.expand_dims(X_train, -1)\n",
    "X_val = np.expand_dims(X_val, -1)\n",
    "X_test = np.expand_dims(X_test, -1)\n",
    "\n",
    "print(\"X_train shape:\", X_train.shape)\n",
    "print(X_train.shape[0], \"train samples\")\n",
    "print(X_val.shape[0], \"val samples\")\n",
    "print(X_test.shape[0], \"test samples\")\n",
    "\n",
    "print('Final X and y test after PCA:', '\\n',X_test[-1][-1], y_test[-1])"
   ]
  },
  {
   "cell_type": "markdown",
   "metadata": {},
   "source": [
    "This confirms that our \"image\" creation function does not include the final datum."
   ]
  },
  {
   "cell_type": "markdown",
   "metadata": {},
   "source": [
    "### Grid Search"
   ]
  },
  {
   "cell_type": "code",
   "execution_count": 10,
   "metadata": {},
   "outputs": [],
   "source": [
    "# Function to create the model for Keras wrapper to scikit learn\n",
    "\n",
    "# Now, we will run grid search on the optimizer.\n",
    "\n",
    "def create_cnn_model(pool_type='max', conv_activation='sigmoid', activ_function='relu',\n",
    "                     dropout_rate=0.1, filters=16, kern_size=2, neurons=256,\n",
    "                     mid_layers=1, optimizer='adam', learning_rate=1e-3):\n",
    "    # Create model\n",
    "    model = keras.Sequential()\n",
    "    \n",
    "    # First layer: convolution\n",
    "    model.add(keras.layers.Conv2D(filters, kernel_size=(kern_size, kern_size), activation=conv_activation,\n",
    "                                  input_shape=(n_steps,20,1))) \n",
    "        \n",
    "    # First layer\n",
    "    if mid_layers==1:\n",
    "        if pool_type == 'max':\n",
    "            model.add(keras.layers.MaxPooling2D(pool_size=(2, 2)))\n",
    "        if pool_type == 'average':\n",
    "            model.add(keras.layers.AveragePooling2D(pool_size=(2, 2)))\n",
    "    \n",
    "    # Second layer  \n",
    "    if mid_layers==2:  \n",
    "        if pool_type == 'max':\n",
    "            model.add(keras.layers.MaxPooling2D(pool_size=(2, 2)))\n",
    "        if pool_type == 'average':\n",
    "            model.add(keras.layers.AveragePooling2D(pool_size=(2, 2))) \n",
    "        model.add(keras.layers.Conv2D(2*filters, kernel_size=(kern_size, kern_size), activation=conv_activation, padding='same'))\n",
    "        if pool_type == 'max':\n",
    "            model.add(keras.layers.MaxPooling2D(pool_size=(2, 2)))\n",
    "        if pool_type == 'average':\n",
    "            model.add(keras.layers.AveragePooling2D(pool_size=(2, 2))) \n",
    "        \n",
    "    # Third layer\n",
    "    if mid_layers==3:   \n",
    "        if pool_type == 'max':\n",
    "            model.add(keras.layers.MaxPooling2D(pool_size=(2, 2)))\n",
    "        if pool_type == 'average':\n",
    "            model.add(keras.layers.AveragePooling2D(pool_size=(2, 2)))\n",
    "        model.add(keras.layers.Conv2D(2*filters, kernel_size=(kern_size, kern_size), activation=conv_activation, padding='same'))\n",
    "        if pool_type == 'max':\n",
    "            model.add(keras.layers.MaxPooling2D(pool_size=(2, 2)))\n",
    "        if pool_type == 'average':\n",
    "            model.add(keras.layers.AveragePooling2D(pool_size=(2, 2)))\n",
    "        model.add(keras.layers.Conv2D(4*filters, kernel_size=(kern_size, kern_size), activation=conv_activation, padding='same'))\n",
    "        if pool_type == 'max':\n",
    "            model.add(keras.layers.MaxPooling2D(pool_size=(2, 2)))\n",
    "        if pool_type == 'average':\n",
    "            model.add(keras.layers.AveragePooling2D(pool_size=(2, 2)))\n",
    "        \n",
    "    # Fourth layer   \n",
    "    if mid_layers==4:   \n",
    "        if pool_type == 'max':\n",
    "            model.add(keras.layers.MaxPooling2D(pool_size=(2, 2)))\n",
    "        if pool_type == 'average':\n",
    "            model.add(keras.layers.AveragePooling2D(pool_size=(2, 2)))\n",
    "        model.add(keras.layers.Conv2D(2*filters, kernel_size=(kern_size, kern_size), activation=conv_activation, padding='same'))\n",
    "        if pool_type == 'max':\n",
    "            model.add(keras.layers.MaxPooling2D(pool_size=(2, 2)))\n",
    "        if pool_type == 'average':\n",
    "            model.add(keras.layers.AveragePooling2D(pool_size=(2, 2)))\n",
    "        model.add(keras.layers.Conv2D(4*filters, kernel_size=(kern_size, kern_size), activation=conv_activation, padding='same'))\n",
    "        if pool_type == 'max':\n",
    "            model.add(keras.layers.MaxPooling2D(pool_size=(2, 2)))\n",
    "        if pool_type == 'average':\n",
    "            model.add(keras.layers.AveragePooling2D(pool_size=(2, 2)))\n",
    "        model.add(keras.layers.Conv2D(2*filters, kernel_size=(kern_size, kern_size), activation=conv_activation, padding='same'))\n",
    "        if pool_type == 'max':\n",
    "            model.add(keras.layers.MaxPooling2D(pool_size=(2, 2)))\n",
    "        if pool_type == 'average':\n",
    "            model.add(keras.layers.AveragePooling2D(pool_size=(2, 2)))\n",
    "        \n",
    "    # Penultimate layer with Flatten, Dense, and Dropout from the MLP grid search\n",
    "    model.add(keras.layers.Flatten())         \n",
    "    # First Fully Connected Layer\n",
    "    model.add(keras.layers.Dense(neurons, activation=activ_function))\n",
    "    model.add(keras.layers.Dropout(dropout_rate))\n",
    "    # Second Fully Connected layer\n",
    "    model.add(keras.layers.Dense(neurons, activation=activ_function))\n",
    "    model.add(keras.layers.Dropout(dropout_rate))\n",
    "    \n",
    "    # Final layer with the sigmoid for classification\n",
    "    model.add(keras.layers.Dense(1, activation='sigmoid'))\n",
    "    \n",
    "    # Running through the optimizers\n",
    "    if optimizer=='adam':\n",
    "        optimizer = keras.optimizers.Adam(learning_rate=learning_rate)\n",
    "        \n",
    "    if optimizer=='RMSprop':\n",
    "        optimizer = keras.optimizers.RMSProp(learning_rate=learning_rate)\n",
    "        \n",
    "    if optimizer=='SGD':\n",
    "        optimizer = keras.optimizers.SGD(learning_rate=learning_rate)\n",
    "        \n",
    "    # Compile model\n",
    "    model.compile( \n",
    "        optimizer=optimizer,\n",
    "        loss='binary_crossentropy',\n",
    "        metrics=['accuracy'],\n",
    "        )    \n",
    "    return model"
   ]
  },
  {
   "cell_type": "markdown",
   "metadata": {},
   "source": [
    "Note, the grid search section for this script, as well as the MLP and LSTM, take heavy influence from the following Kaggle notebook: MNIST: CNN, grid search, data augmentation\n",
    "\n",
    "This can be found at:\n",
    "\n",
    "https://www.kaggle.com/code/cedricb/mnist-cnn-grid-search-data-augmentation/notebook"
   ]
  },
  {
   "cell_type": "code",
   "execution_count": 11,
   "metadata": {},
   "outputs": [
    {
     "name": "stdout",
     "output_type": "stream",
     "text": [
      "Model: \"sequential_1\"\n",
      "_________________________________________________________________\n",
      " Layer (type)                Output Shape              Param #   \n",
      "=================================================================\n",
      " conv2d (Conv2D)             (None, 11, 19, 16)        80        \n",
      "                                                                 \n",
      " max_pooling2d (MaxPooling2D  (None, 5, 9, 16)         0         \n",
      " )                                                               \n",
      "                                                                 \n",
      " flatten (Flatten)           (None, 720)               0         \n",
      "                                                                 \n",
      " dense (Dense)               (None, 256)               184576    \n",
      "                                                                 \n",
      " dropout (Dropout)           (None, 256)               0         \n",
      "                                                                 \n",
      " dense_1 (Dense)             (None, 256)               65792     \n",
      "                                                                 \n",
      " dropout_1 (Dropout)         (None, 256)               0         \n",
      "                                                                 \n",
      " dense_2 (Dense)             (None, 1)                 257       \n",
      "                                                                 \n",
      "=================================================================\n",
      "Total params: 250,705\n",
      "Trainable params: 250,705\n",
      "Non-trainable params: 0\n",
      "_________________________________________________________________\n"
     ]
    }
   ],
   "source": [
    "# Creating and compiling the model with a summary\n",
    "\n",
    "cnn = create_cnn_model()\n",
    "cnn.summary()"
   ]
  },
  {
   "cell_type": "code",
   "execution_count": 21,
   "metadata": {},
   "outputs": [],
   "source": [
    "# Optimize the model with grid search\n",
    "\n",
    "\n",
    "# Grid search parameters\n",
    "n_epochs_cv = 30 # Number of epochs for our grid search\n",
    "n_cv = 3 # Number of cross validations\n",
    "\n",
    "# Create model to feed to our parameter grid search\n",
    "model = KerasClassifier(model=create_cnn_model, verbose=1)\n",
    "\n",
    "# Define parameters and values for grid search to check in our model\n",
    "param_grid = {\n",
    "    # The features to range over in our model\n",
    "    'model__pool_type': ['max', 'average'],\n",
    "    'model__conv_activation': ['relu', 'sigmoid', 'tanh'],\n",
    "    'model__activ_function':['tanh'],\n",
    "    'model__filters': [16, 32, 64, 128],\n",
    "    'model__neurons':[512],\n",
    "    'model__dropout_rate':[0.6],\n",
    "    'model__optimizer':['adam'],\n",
    "    'model__kern_size':[2, 3],\n",
    "    'model__mid_layers':[1, 2],\n",
    "     # The features to range over for our optimizer\n",
    "    'model__learning_rate':[1e-5],\n",
    "    # The number of epochs for each model\n",
    "    'epochs': [n_epochs_cv],\n",
    "}\n",
    "\n",
    "# Creating the grid\n",
    "grid = GridSearchCV(estimator=model, param_grid=param_grid, n_jobs=1, cv=n_cv)\n",
    "\n",
    "# Fitting the grid\n",
    "grid_result = grid.fit(X_train, y_train)"
   ]
  },
  {
   "cell_type": "code",
   "execution_count": 16,
   "metadata": {},
   "outputs": [
    {
     "name": "stdout",
     "output_type": "stream",
     "text": [
      "{'epochs': 1, 'model__activ_function': 'tanh', 'model__conv_activation': 'relu', 'model__dropout_rate': 0.6, 'model__filters': 128, 'model__kern_size': 3, 'model__learning_rate': 1e-05, 'model__mid_layers': 1, 'model__neurons': 512, 'model__optimizer': 'adam', 'model__pool_type': 'max'}\n"
     ]
    }
   ],
   "source": [
    "print(grid_result.best_params_)"
   ]
  },
  {
   "cell_type": "markdown",
   "metadata": {},
   "source": [
    "### CNN with Optimized Parameters"
   ]
  },
  {
   "cell_type": "code",
   "execution_count": null,
   "metadata": {},
   "outputs": [],
   "source": [
    "# Creating and compiling a model with the best parameters from the grid search\n",
    "\n",
    "cnn_model = create_cnn_model(pool_type = grid_result.best_params_['pool_type'],\n",
    "                             conv_activation = grid_result.best_params_['conv_activation'],\n",
    "                             activ_function=grid_result.best_params_['activ_function'],\n",
    "                            neurons=grid_result.best_params_['neurons'],\n",
    "                             filters=grid_result.best_params_['filters'],\n",
    "                             mid_layers=grid_result.best_params_['mid_layers'],\n",
    "                            dropout_rate=grid_result.best_params_['dropout_rate'],\n",
    "                            optimizer=grid_result.best_params_['optimizer'],\n",
    "                            kern_size=grid_result.best_params_['kern_size'],\n",
    "                             learning_rate=grid_result.best_params_['learning_rate'])\n",
    "# Fitting the model\n",
    "history = cnn_model.fit(X_train, y_train, epochs=100, validation_data=(X_val,y_val), verbose=1)"
   ]
  },
  {
   "cell_type": "code",
   "execution_count": 65,
   "metadata": {},
   "outputs": [
    {
     "name": "stdout",
     "output_type": "stream",
     "text": [
      "Epoch 1/35\n",
      "657/657 [==============================] - 25s 37ms/step - loss: 0.7354 - accuracy: 0.5048 - val_loss: 0.6918 - val_accuracy: 0.5207\n",
      "Epoch 2/35\n",
      "657/657 [==============================] - 24s 36ms/step - loss: 0.7310 - accuracy: 0.5099 - val_loss: 0.6912 - val_accuracy: 0.5357\n",
      "Epoch 3/35\n",
      "657/657 [==============================] - 24s 36ms/step - loss: 0.7238 - accuracy: 0.5086 - val_loss: 0.6922 - val_accuracy: 0.5195\n",
      "Epoch 4/35\n",
      "657/657 [==============================] - 24s 37ms/step - loss: 0.7203 - accuracy: 0.5122 - val_loss: 0.6928 - val_accuracy: 0.5197\n",
      "Epoch 5/35\n",
      "657/657 [==============================] - 28s 42ms/step - loss: 0.7173 - accuracy: 0.5121 - val_loss: 0.6902 - val_accuracy: 0.5300\n",
      "Epoch 6/35\n",
      "657/657 [==============================] - 21s 32ms/step - loss: 0.7130 - accuracy: 0.5226 - val_loss: 0.6901 - val_accuracy: 0.5369\n",
      "Epoch 7/35\n",
      "657/657 [==============================] - 20s 30ms/step - loss: 0.7072 - accuracy: 0.5249 - val_loss: 0.6905 - val_accuracy: 0.5313\n",
      "Epoch 8/35\n",
      "657/657 [==============================] - 20s 31ms/step - loss: 0.7075 - accuracy: 0.5244 - val_loss: 0.6895 - val_accuracy: 0.5378\n",
      "Epoch 9/35\n",
      "657/657 [==============================] - 19s 29ms/step - loss: 0.7073 - accuracy: 0.5256 - val_loss: 0.6895 - val_accuracy: 0.5346\n",
      "Epoch 10/35\n",
      "657/657 [==============================] - 21s 31ms/step - loss: 0.7053 - accuracy: 0.5247 - val_loss: 0.6895 - val_accuracy: 0.5369\n",
      "Epoch 11/35\n",
      "657/657 [==============================] - 20s 30ms/step - loss: 0.7027 - accuracy: 0.5267 - val_loss: 0.6899 - val_accuracy: 0.5327\n",
      "Epoch 12/35\n",
      "657/657 [==============================] - 19s 29ms/step - loss: 0.7016 - accuracy: 0.5301 - val_loss: 0.6897 - val_accuracy: 0.5369\n",
      "Epoch 13/35\n",
      "657/657 [==============================] - 19s 29ms/step - loss: 0.6993 - accuracy: 0.5343 - val_loss: 0.6899 - val_accuracy: 0.5382\n",
      "Epoch 14/35\n",
      "657/657 [==============================] - 19s 29ms/step - loss: 0.7007 - accuracy: 0.5285 - val_loss: 0.6895 - val_accuracy: 0.5319\n",
      "Epoch 15/35\n",
      "657/657 [==============================] - 19s 29ms/step - loss: 0.6976 - accuracy: 0.5405 - val_loss: 0.6889 - val_accuracy: 0.5348\n",
      "Epoch 16/35\n",
      "657/657 [==============================] - 19s 29ms/step - loss: 0.6998 - accuracy: 0.5308 - val_loss: 0.6896 - val_accuracy: 0.5348\n",
      "Epoch 17/35\n",
      "657/657 [==============================] - 19s 29ms/step - loss: 0.6996 - accuracy: 0.5285 - val_loss: 0.6892 - val_accuracy: 0.5340\n",
      "Epoch 18/35\n",
      "657/657 [==============================] - 20s 30ms/step - loss: 0.6964 - accuracy: 0.5351 - val_loss: 0.6887 - val_accuracy: 0.5414\n",
      "Epoch 19/35\n",
      "657/657 [==============================] - 19s 29ms/step - loss: 0.6979 - accuracy: 0.5298 - val_loss: 0.6892 - val_accuracy: 0.5370\n",
      "Epoch 20/35\n",
      "657/657 [==============================] - 19s 29ms/step - loss: 0.6937 - accuracy: 0.5447 - val_loss: 0.6888 - val_accuracy: 0.5397\n",
      "Epoch 21/35\n",
      "657/657 [==============================] - 19s 29ms/step - loss: 0.6942 - accuracy: 0.5412 - val_loss: 0.6893 - val_accuracy: 0.5391\n",
      "Epoch 22/35\n",
      "657/657 [==============================] - 19s 29ms/step - loss: 0.6936 - accuracy: 0.5397 - val_loss: 0.6895 - val_accuracy: 0.5351\n",
      "Epoch 23/35\n",
      "657/657 [==============================] - 19s 29ms/step - loss: 0.6937 - accuracy: 0.5438 - val_loss: 0.6896 - val_accuracy: 0.5363\n",
      "Epoch 24/35\n",
      "657/657 [==============================] - 19s 29ms/step - loss: 0.6965 - accuracy: 0.5394 - val_loss: 0.6894 - val_accuracy: 0.5363\n",
      "Epoch 25/35\n",
      "657/657 [==============================] - 19s 29ms/step - loss: 0.6919 - accuracy: 0.5403 - val_loss: 0.6896 - val_accuracy: 0.5351\n",
      "Epoch 26/35\n",
      "657/657 [==============================] - 19s 29ms/step - loss: 0.6938 - accuracy: 0.5404 - val_loss: 0.6893 - val_accuracy: 0.5426\n",
      "Epoch 27/35\n",
      "657/657 [==============================] - 19s 29ms/step - loss: 0.6910 - accuracy: 0.5472 - val_loss: 0.6893 - val_accuracy: 0.5376\n",
      "Epoch 28/35\n",
      "657/657 [==============================] - 19s 29ms/step - loss: 0.6911 - accuracy: 0.5432 - val_loss: 0.6900 - val_accuracy: 0.5441\n",
      "Epoch 29/35\n",
      "657/657 [==============================] - 19s 29ms/step - loss: 0.6920 - accuracy: 0.5428 - val_loss: 0.6896 - val_accuracy: 0.5363\n",
      "Epoch 30/35\n",
      "657/657 [==============================] - 19s 30ms/step - loss: 0.6924 - accuracy: 0.5465 - val_loss: 0.6896 - val_accuracy: 0.5340\n",
      "Epoch 31/35\n",
      "657/657 [==============================] - 19s 28ms/step - loss: 0.6910 - accuracy: 0.5472 - val_loss: 0.6900 - val_accuracy: 0.5372\n",
      "Epoch 32/35\n",
      "657/657 [==============================] - 19s 28ms/step - loss: 0.6896 - accuracy: 0.5500 - val_loss: 0.6898 - val_accuracy: 0.5376\n",
      "Epoch 33/35\n",
      "657/657 [==============================] - 19s 28ms/step - loss: 0.6910 - accuracy: 0.5472 - val_loss: 0.6891 - val_accuracy: 0.5422\n",
      "Epoch 34/35\n",
      "657/657 [==============================] - 18s 28ms/step - loss: 0.6911 - accuracy: 0.5431 - val_loss: 0.6892 - val_accuracy: 0.5435\n",
      "Epoch 35/35\n",
      "657/657 [==============================] - 18s 28ms/step - loss: 0.6906 - accuracy: 0.5426 - val_loss: 0.6893 - val_accuracy: 0.5422\n"
     ]
    }
   ],
   "source": [
    "# Creating and compiling a model with the best parameters from the cluster\n",
    "\n",
    "cnn_model = create_cnn_model(pool_type = 'average', conv_activation = 'tanh', activ_function='tanh',\n",
    "                            neurons=512, filters=64, mid_layers=1, dropout_rate=0.6, optimizer='adam',\n",
    "                            kern_size=3, learning_rate=1e-5)\n",
    "# Fitting the model\n",
    "history = cnn_model.fit(X_train, y_train, epochs=35, validation_data=(X_val,y_val), verbose=1)"
   ]
  },
  {
   "cell_type": "markdown",
   "metadata": {},
   "source": [
    "### Performance"
   ]
  },
  {
   "cell_type": "code",
   "execution_count": 56,
   "metadata": {},
   "outputs": [
    {
     "data": {
      "image/png": "[encoded data removed]",
      "text/plain": [
       "<Figure size 1440x576 with 1 Axes>"
      ]
     },
     "metadata": {
      "needs_background": "light"
     },
     "output_type": "display_data"
    }
   ],
   "source": [
    "# Training Performance\n",
    "\n",
    "history.history.keys()\n",
    "pd.DataFrame(history.history).plot(figsize=(20, 8))\n",
    "plt.grid(True)\n",
    "plt.gca().set_ylim(0, 1) # set the vertical range to [0-1]\n",
    "plt.show()"
   ]
  },
  {
   "cell_type": "code",
   "execution_count": 66,
   "metadata": {},
   "outputs": [
    {
     "data": {
      "image/png": "[encoded data removed]",
      "text/plain": [
       "<Figure size 432x288 with 2 Axes>"
      ]
     },
     "metadata": {
      "needs_background": "light"
     },
     "output_type": "display_data"
    }
   ],
   "source": [
    "# Confusion Matrix\n",
    "\n",
    "# # Performance\n",
    "y_pred=cnn_model.predict(X_test) # Returns a list where every element is an array with the continuous\n",
    "# value prediction\n",
    "y_pred=[x[0] for x in y_pred] # Getting all the continuous value predictions from the arrays\n",
    "for i in range(len(y_pred)): # Transforming the continuous value into binary labels\n",
    "    if y_pred[i] <= 0.5:\n",
    "        y_pred[i] = 0\n",
    "    if y_pred[i] > 0.5:\n",
    "        y_pred[i] = 1\n",
    "\n",
    "# Plotting Confusion Matrix\n",
    "cm=confusion_matrix(y_test, y_pred)\n",
    "ax= plt.subplot()\n",
    "sns.heatmap(cm, annot=True, fmt='g', ax=ax);  #annot=True to annotate cells, ftm='g' to disable scientific notation\n",
    "\n",
    "# labels, title and ticks\n",
    "ax.set_xlabel('Predicted labels');ax.set_ylabel('True labels'); \n",
    "ax.set_title('Confusion Matrix'); \n",
    "ax.xaxis.set_ticklabels(['Sell', 'Buy']); ax.yaxis.set_ticklabels(['Sell', 'Buy']);"
   ]
  },
  {
   "cell_type": "markdown",
   "metadata": {},
   "source": [
    "### Saving and Reloading the Model"
   ]
  },
  {
   "cell_type": "code",
   "execution_count": 67,
   "metadata": {},
   "outputs": [],
   "source": [
    "# Saving the model\n",
    "\n",
    "cnn_model.save('Models/CNN 24_4 BTC.h5')"
   ]
  },
  {
   "cell_type": "code",
   "execution_count": null,
   "metadata": {},
   "outputs": [],
   "source": [
    "# Reloading the model\n",
    "\n",
    "cnn_model_BTC=model = keras.models.load_model('Models/CNN 1H BTC.h5')"
   ]
  }
 ],
 "metadata": {
  "kernelspec": {
   "display_name": "Python 3 (ipykernel)",
   "language": "python",
   "name": "python3"
  },
  "language_info": {
   "codemirror_mode": {
    "name": "ipython",
    "version": 3
   },
   "file_extension": ".py",
   "mimetype": "text/x-python",
   "name": "python",
   "nbconvert_exporter": "python",
   "pygments_lexer": "ipython3",
   "version": "3.7.11"
  },
  "toc": {
   "base_numbering": 1,
   "nav_menu": {},
   "number_sections": true,
   "sideBar": true,
   "skip_h1_title": false,
   "title_cell": "Table of Contents",
   "title_sidebar": "Contents",
   "toc_cell": false,
   "toc_position": {
    "height": "calc(100% - 180px)",
    "left": "10px",
    "top": "150px",
    "width": "179.594px"
   },
   "toc_section_display": true,
   "toc_window_display": true
  }
 },
 "nbformat": 4,
 "nbformat_minor": 4
}
