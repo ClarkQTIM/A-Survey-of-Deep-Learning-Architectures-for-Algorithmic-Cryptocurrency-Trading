{
 "cells": [
  {
   "cell_type": "markdown",
   "metadata": {},
   "source": [
    "# Setting up our Notebook"
   ]
  },
  {
   "cell_type": "code",
   "execution_count": 1,
   "metadata": {},
   "outputs": [],
   "source": [
    "# Things to import\n",
    "\n",
    "# Standard data, plotting, time, and mathematical tools\n",
    "import numpy as np\n",
    "import scipy.signal\n",
    "import matplotlib.pyplot as plt\n",
    "\n",
    "# Pytorch and Gym\n",
    "import torch\n",
    "import torch.nn as nn\n",
    "import torch.nn.functional as F\n",
    "from torch.optim import Adam\n",
    "from copy import deepcopy\n",
    "import gym\n",
    "from gym import Env\n",
    "from gym.spaces import Discrete, Box\n",
    "from collections import deque\n",
    "\n",
    "import numpy as np\n",
    "import pandas as pd\n",
    "import gym\n",
    "\n",
    "# PCA and Training\n",
    "from sklearn.decomposition import PCA\n",
    "from sklearn.preprocessing import StandardScaler\n",
    "from sklearn.model_selection import train_test_split\n",
    "\n",
    "# Misc\n",
    "import os\n",
    "import io\n",
    "import base64\n",
    "import time\n",
    "import glob\n",
    "import random\n",
    "import itertools\n",
    "\n",
    "from IPython.display import HTML\n",
    "%matplotlib inline"
   ]
  },
  {
   "cell_type": "markdown",
   "metadata": {},
   "source": [
    "Note, this script heavily follows Listing 8.2: T3D Pytorch from the accompanying code for Deep Reinforcement Learning with Python: With PyTorch, TensorFlow and OpenAI Gym."
   ]
  },
  {
   "cell_type": "markdown",
   "metadata": {},
   "source": [
    "# Importing the data"
   ]
  },
  {
   "cell_type": "code",
   "execution_count": 2,
   "metadata": {},
   "outputs": [],
   "source": [
    "# Importing the data\n",
    "\n",
    "dfs=['Non-Scaled TA Features 1H for BTC.csv',\n",
    "    'Non-Scaled TA Features 1H for ETH.csv',\n",
    "    'Non-Scaled TA Features 1H for LTC.csv']"
   ]
  },
  {
   "cell_type": "markdown",
   "metadata": {},
   "source": [
    "#  Convolutional Neural Netowrk-Based Twin Delayed Deep Deterministic Polcy Gradient"
   ]
  },
  {
   "cell_type": "markdown",
   "metadata": {},
   "source": [
    "## Mathematics of Deep Determinisc Policy Gradient"
   ]
  },
  {
   "cell_type": "markdown",
   "metadata": {},
   "source": [
    "As with Deep Q-Networks, which seek to approximate the $Q$-function, we will also do so for the policy giving us an action for a given state, $a=\\pi (s)$. We represent this with:\n",
    "\n",
    "$${\\hat{\\pi}}(a, {\\bf{\\theta}})=\\mu (s, {\\bf{\\theta}})$$\n",
    "\n",
    "It has an associated Reward Function:\n",
    "\n",
    "$$R({\\bf{\\theta}})=\\sum_{t} \\gamma ^t r_{t+1}$$\n",
    "\n",
    "In the above, $r$ are the rewards the agent earns while following the policy as it moves along a trajectory from a state, taking an action, receiving a reward, moving to the next state, acting again, etc.\n",
    "\n",
    "With this in mind, we have two neural networks now, one for the policy and one for the $Q$-function. \n",
    "\n",
    "Focusing on the loss function for the $Q$-Learning portion, we start with the same general one:\n",
    "\n",
    "$$ {\\mathcal{L}}({\\bf{\\Theta}})=\\dfrac{1}{N}\\sum_{i=1}^{N}(Q^{\\pi}(s,a) - {\\hat{Q}}(s,a, {\\bf{\\Theta}}))^2$$\n",
    "\n",
    "However, as in DQN, our target $Q^{\\pi}(s,a)$ will first change to $Y^{target}_{DQN}=r_i+(1-done_i)\\gamma \\max_{{a_i}^{'}} {\\tilde{Q}}({s_i}^{'},{a_i}^{'},{\\bf{\\Theta}}^{target}_t)$\n",
    "\n",
    "However, given that our action $a$ is now a function being approximated by $\\mu (s, {\\bf{\\theta}})$, our target becomes:\n",
    "\n",
    "$$ Y^{target}_{DDPG}=r_i+(1-done_i)\\gamma {\\tilde{Q}}({s_i}^{'},\\mu ({s_i}^{'},{\\bf{\\theta}}^{target}_t), {\\bf{\\Theta}}^{target}_t)$$\n",
    "\n",
    "Our $Q$-loss function then becomes, in Monte Carlo Form:\n",
    "\n",
    "$${\\mathcal{L}}({\\bf{\\Theta}}_t, {\\mathcal{D}})=\\dfrac{1}{\\lvert \\mathcal{B} \\rvert} \\sum_{(s,a,r, s^{'}, done) \\in {\\mathcal{B}}} \\left[ \\left( r_i+(1-done_i)\\gamma {\\tilde{Q}}({s_i}^{'},\\mu ({s_i}^{'},{\\bf{\\theta}}^{target}_t), {\\bf{\\Theta}}^{target}_t) \\right)-{\\hat{Q}}(s_i,a_i, {\\bf{\\Theta}}_t) \\right]^2 $$\n",
    "\n",
    "In the above, $\\mathcal{D}$ is some distribution giving us the tuples generated from following a trajectory.\n",
    "\n",
    "We then update it with the standard Gradient Descent:\n",
    "\n",
    "$${\\bf{\\Theta}}_{t+1}={\\bf{\\Theta}}_t-\\alpha \\nabla _{{\\bf{\\Theta}}_t} {\\mathcal{L}}({\\bf{\\Theta}}_t, {\\mathcal{D}})$$\n",
    "\n",
    "Now, focusing on the policy, we note that we don't want to minimize the loss function associated with the policy, but maximize the reward function. Given that maximizing the $Q$-function will result in maximizing the reward function, we seek to maximize, in Monte Carlo form:\n",
    "\n",
    "$$ R({\\bf{\\theta}}_t, {\\mathcal{D}})=\\dfrac{1}{\\lvert \\mathcal{B} \\rvert} \\sum_{s \\in \\mathcal{B}} {\\hat{Q}}(s, \\mu (s, {\\bf{\\theta}}_t, {\\bf{\\Theta}}_t)$$\n",
    "\n",
    "Our $\\bf{\\theta}$ equation is then:\n",
    "\n",
    "$${\\bf{\\theta}}_{t+1}={\\bf{\\theta}}_t+\\beta \\nabla _{{\\bf{\\theta}}_t} R({\\bf{\\theta}}_t, {\\mathcal{D}})$$\n",
    "\n",
    "Finally, instead up updating our target parameters every so often, we update them at the same time as our online parameters, but using Polyak Averaging:\n",
    "\n",
    "$${\\bf{\\Theta}}^{target}_{t+1}=\\rho {\\bf{\\Theta}}^{target}_t +(1-\\rho){\\bf{\\Theta}}_t$$\n",
    "\n",
    "$${\\bf{\\theta}}^{target}_{t+1}=\\rho {\\bf{\\theta}}^{target}_t +(1-\\rho){\\bf{\\theta}}_t$$"
   ]
  },
  {
   "cell_type": "markdown",
   "metadata": {},
   "source": [
    "## Mathematics of the Twin Delayed Deep Deterministic Gradient Policy"
   ]
  },
  {
   "cell_type": "markdown",
   "metadata": {},
   "source": [
    "For the Twin Delayed version, we will make two changes.\n",
    "\n",
    "The first is to the action:\n",
    "\n",
    "$$a_i^{'} = \\text{clip}\\left(\\mu (s_i^{'}, {\\bf{\\theta}}_t^{target}) + \\text{clip}(\\epsilon,-c,c), a_{low}, a_{high}\\right), \\;\\;\\;\\;\\; \\epsilon \\sim \\mathcal{N}(0, \\sigma)$$\n",
    "\n",
    "We then double the number of $Q$-networks and calculate the $Q$-loss as follows:\n",
    "\n",
    "$$Y^{target}_{T3D}=r_i+(1-done_i)\\gamma \\max_{j=1,2} {\\tilde{Q}}({s_i}^{'},{a_i}^{'},{\\bf{\\Theta}}^{target}_{j,t})$$\n",
    "\n",
    "$$Q_{Loss, i} = \\frac{1}{|B|} \\sum_{(s,a,r, s^{'}, done) \\in {\\mathcal{B}}} (Y^{target}_{T3D}-{\\hat{Q}}(s_i,a_i, {\\bf{\\Theta}}_t))^2, \\;\\;\\;\\;\\;$$\n",
    "\n",
    "$$Q_{Loss} = \\sum_{i=1,2} Q_{Loss, i}$$\n",
    "    \n",
    "    \n",
    "    "
   ]
  },
  {
   "cell_type": "markdown",
   "metadata": {},
   "source": [
    "## Getting the train/test data"
   ]
  },
  {
   "cell_type": "code",
   "execution_count": 3,
   "metadata": {},
   "outputs": [],
   "source": [
    "# Defining a function to create PCA matrices\n",
    "\n",
    "def PCA_creation_train_test(no_components, X_train, X_test):\n",
    "    \n",
    "    # Scaling the data with our X_train matrix\n",
    "    scaler=StandardScaler()\n",
    "    X_train=scaler.fit_transform(X_train)\n",
    "    \n",
    "    # Fitting the PCA to our X_train matrix\n",
    "    pca=PCA(n_components=no_components)\n",
    "    X_train=pca.fit_transform(X_train)\n",
    "\n",
    "    # Scaling the X_test \n",
    "    X_test=scaler.transform(X_test)\n",
    "\n",
    "    # Transforming the X_test\n",
    "    X_test=pca.transform(X_test)\n",
    "    \n",
    "    return X_train, X_test"
   ]
  },
  {
   "cell_type": "code",
   "execution_count": 4,
   "metadata": {},
   "outputs": [
    {
     "name": "stdout",
     "output_type": "stream",
     "text": [
      "Confirming we have all the columns we want: \n",
      " Index(['BB_upper 10', 'BB_middle 10', 'BB_lower 10', 'Aroon_down 10',\n",
      "       'Aroon_up 10', 'Aroonosc 10', 'RSI 10', 'NATR 10', 'BB_upper 12',\n",
      "       'BB_middle 12',\n",
      "       ...\n",
      "       'MACD Signal 18', 'MACD Hist18', 'Med Price', 'Chaikin A/D Line',\n",
      "       'HT Dom Phase', 'HT Dom Period', 'High', 'Low', 'Close', 'Volume'],\n",
      "      dtype='object', length=101)\n"
     ]
    }
   ],
   "source": [
    "# Train and test splitting and scaling\n",
    "\n",
    "# Choose the coin we are interested in. 0=BTC, 1=ETH, 2=LTC\n",
    "\n",
    "X=pd.read_csv(dfs[0])\n",
    "\n",
    "X['Date']=pd.to_datetime(X['Date']) # Setting the index as the Date\n",
    "X=X.set_index('Date').asfreq('H')\n",
    "\n",
    "X=X.dropna()\n",
    "y=X['Percent Change']\n",
    "X=X.drop('Label', axis=1)\n",
    "X=X.drop('Percent Change', axis=1)\n",
    "\n",
    "\n",
    "# Removing the testing data\n",
    "X_test=X[-4380:] # Getting the last 6 months as the testing data\n",
    "print('Confirming we have all the columns we want:','\\n', X_test.columns)\n",
    "y_test=y[-4380:].values\n",
    "\n",
    "X=X[:-4380] # Getting everything but the first 6 months as the training data\n",
    "y=y[:-4380]"
   ]
  },
  {
   "cell_type": "code",
   "execution_count": 5,
   "metadata": {},
   "outputs": [],
   "source": [
    "# Image creation function\n",
    "\n",
    "def image_creation(n_steps, X, y):\n",
    "    X_images=[]\n",
    "    y_values=[]\n",
    "    \n",
    "    for i in range(n_steps, len(X)):\n",
    "        img=X[i-n_steps,:]\n",
    "        img=np.vstack((img, X[i-n_steps+1,:]))\n",
    "        img=np.vstack((img, X[i-n_steps+2,:]))\n",
    "        img=np.vstack((img, X[i-n_steps+3,:]))\n",
    "        img=np.vstack((img, X[i-n_steps+4,:]))\n",
    "        img=np.vstack((img, X[i-n_steps+5,:]))\n",
    "        img=np.vstack((img, X[i-n_steps+6,:]))\n",
    "        img=np.vstack((img, X[i-n_steps+7,:]))\n",
    "        img=np.vstack((img, X[i-n_steps+8,:]))\n",
    "        img=np.vstack((img, X[i-n_steps+9,:]))\n",
    "        img=np.vstack((img, X[i-n_steps+10,:]))\n",
    "        img=np.vstack((img, X[i-n_steps+11,:]))\n",
    "        X_images.append(img)\n",
    "        y_values.append(y[i-n_steps+11])\n",
    "        \n",
    "    return X_images, np.array(y_values) # Note, this will not include the very last one."
   ]
  },
  {
   "cell_type": "code",
   "execution_count": 6,
   "metadata": {},
   "outputs": [
    {
     "name": "stdout",
     "output_type": "stream",
     "text": [
      "X_train shape: (26264, 1, 12, 20)\n",
      "26264 train samples\n",
      "4368 test samples\n"
     ]
    }
   ],
   "source": [
    "n_steps=12\n",
    "\n",
    "# First, we create our PCA matrices from the X and X_test\n",
    "X, X_test=PCA_creation_train_test(20, X, X_test)\n",
    "    \n",
    "# Getting the X and X_test matrices' images\n",
    "X_train, y_train=image_creation(n_steps, X ,y)\n",
    "X_test, y_test=image_creation(n_steps, X_test, y_test)\n",
    "\n",
    "y_train=np.array(y_train)\n",
    "y_test=np.array(y_test)\n",
    "\n",
    "# Finalizing the shapes\n",
    "num_classes = 2\n",
    "input_shape = (n_steps, len(X[0]), 1)\n",
    "\n",
    "# Add a dimension at the beginning end to make sure images have shape (1, n_steps, n_features)\n",
    "# Note this is the OPPOSITE of tensorflow\n",
    "X_train = np.expand_dims(X_train, 1)\n",
    "X_test = np.expand_dims(X_test, 1)\n",
    "print(\"X_train shape:\", X_train.shape)\n",
    "print(X_train.shape[0], \"train samples\")\n",
    "print(X_test.shape[0], \"test samples\")"
   ]
  },
  {
   "cell_type": "markdown",
   "metadata": {},
   "source": [
    "## Financial Environment"
   ]
  },
  {
   "cell_type": "code",
   "execution_count": 7,
   "metadata": {},
   "outputs": [],
   "source": [
    "class FinEnv(Env):\n",
    "    \n",
    "    # A custom Bitcoin trading environment\n",
    "    def __init__(self, df, y, initial_balance=1000):\n",
    "        # Define action space and state size and other custom parameters\n",
    "        self.df = df\n",
    "        self.y = y\n",
    "        self.df_total_steps = len(self.df) # How many steps we can possibly take\n",
    "        self.initial_balance = initial_balance\n",
    "        self.current_balance = self.initial_balance # How much we currently have \n",
    "        self.current_investment = 0 # In the beginning, we have nothing invested\n",
    "        self.net_worth = self.initial_balance # How much we have between our investment and our balance\n",
    "        self.actions_taken=[] # Keeping a log of our actions\n",
    "        \n",
    "        # Orders history contains the balance, net_worth, crypto_bought, crypto_sold, crypto_held values for the last lookback_window_size steps\n",
    "        self.orders_history = deque(maxlen=self.df_total_steps)\n",
    "        \n",
    "        # Market history\n",
    "        self.market_history = deque(maxlen=1)\n",
    "\n",
    "        # Action space is 1D. Between 0 and 1 is Buy and between -1 and 0 is Sell\n",
    "        self.action_space = Box(low=-1, high=1, shape=(1,), dtype=np.float32)\n",
    "\n",
    "        # State size contains the 12 time slices of \n",
    "        # 20 PCA data points per time slice plus the current balance and investment added on\n",
    "        self.observation_space = np.zeros((1,13,20))\n",
    "\n",
    "    # Reset the state of the environment to an initial state\n",
    "    def reset(self, env_steps_size=0):\n",
    "        self.net_worth = self.initial_balance\n",
    "        self.prev_net_worth = self.initial_balance\n",
    "        self.current_balance = self.initial_balance # How much we currently have \n",
    "        self.current_investment = 0 # In the beginning, we have nothing invested\n",
    "        self.actions_taken=[] # Keeping a log of our actions\n",
    "        if env_steps_size > 0: # used for training dataset\n",
    "            self.start_step = random.randint(0, self.df_total_steps - env_steps_size) # Picks a random step to start from\n",
    "            self.end_step = self.start_step + env_steps_size # Runs from the randomly chosen step to that step+env_steps we want\n",
    "        else: # used for testing dataset\n",
    "            self.start_step = 0\n",
    "            self.end_step = self.df_total_steps-1\n",
    "            \n",
    "        self.current_step = self.start_step\n",
    "\n",
    "        # Getting the state information\n",
    "        self.state = self.df[self.current_step]\n",
    "        self.cb = self.current_balance/1000\n",
    "        self.ci = self.current_investment/1000 # State is the state of the \n",
    "        # market and how much we have as balance and invested. We divide by 1000 to have it on the same scale\n",
    "        # as the other state information\n",
    "        self.portfolio = [self.cb, self.ci, self.cb, self.ci, self.cb, self.ci, self.cb, self.ci,\n",
    "                         self.cb, self.ci, self.cb, self.ci, self.cb, self.ci, self.cb, self.ci,\n",
    "                         self.cb, self.ci, self.cb, self.ci]\n",
    "        self.state1 = np.vstack((self.state[0], self.portfolio))\n",
    "        self.state2 = np.expand_dims(self.state1, axis=0)\n",
    "        self.state = np.float64(self.state2) # Required to transform the state into a torch tensor\n",
    "        return self.state\n",
    "\n",
    "    # Get the data points for the given current_step\n",
    "    def _next_observation(self):\n",
    "        \n",
    "        obs = self.df[self.current_step]\n",
    "        cb = np.float64(self.current_balance/1000)\n",
    "        ci = np.float64(self.current_investment/1000) # State is the state of the \n",
    "        # market and how much we have as balance and invested. We divide by 1000 to have it on the same scale\n",
    "        # as the other state information\n",
    "        portfolio = [cb, ci, cb, ci, cb, ci, cb, ci,\n",
    "                         cb, ci, cb, ci, cb, ci, cb, ci,\n",
    "                         cb, ci, cb, ci]\n",
    "        obs1 = np.vstack((obs[0], portfolio))\n",
    "        obs2 = np.expand_dims(obs1, axis=0)\n",
    "        obs = np.float64(obs2) # Required to transform the obs into a torch tensor\n",
    "        return obs\n",
    "    \n",
    "    # Execute one time step within the environment\n",
    "    def step(self, action):\n",
    "        \n",
    "#         print('Action Pre-Clip',action)\n",
    "        action = np.clip(action, -1.0, 1.0)\n",
    "#         print('Action Post-Clip', action)\n",
    "        \n",
    "        # Percent Change\n",
    "        self.percent_change = self.y[self.current_step]\n",
    "#         print('Percent Change ', self.percent_change)\n",
    "        \n",
    "        # Investment and balance\n",
    "        if action >= 0: # If our action is to buy, we will invest the percent dictated by the action \n",
    "            # and add it to our current investment\n",
    "            \n",
    "#             print('Investment before agent acts', self.current_investment)\n",
    "#             print('Balance before agent acts', self.current_balance)\n",
    "#             print('Net Worth before agent acts', self.net_worth)\n",
    "            \n",
    "            # Decreasing our balance and increasing our investment\n",
    "            self.current_investment = self.current_investment + (action)*self.current_balance # Adding to our investment\n",
    "            self.actions_taken.append('Bought '+str(action*self.current_balance)) # Logging our buy before\n",
    "            # we change our balance to reflect that we bought\n",
    "            self.current_balance = self.current_balance - (action)*self.current_balance # Removing that same amount from our balance\n",
    "    \n",
    "#             print('Investment after agent acts', self.current_investment)\n",
    "#             print('Balance after agent acts', self.current_balance)\n",
    "#             print('Net Worth after agent acts', self.net_worth)\n",
    "            \n",
    "            # Now, the market will act and we will update our investment and overall net worth\n",
    "            self.current_investment = (1 + self.percent_change/100)*self.current_investment\n",
    "            self.net_worth = self.current_investment + self.current_balance # Our net worth\n",
    "            # will be our current balance plus our investment, which will change during this time slice by\n",
    "            # the percent change\n",
    "            \n",
    "#             print('Investment after market acts', self.current_investment)\n",
    "#             print('Balance after market acts', self.current_balance)\n",
    "#             print('Net Worth after market acts', self.net_worth)\n",
    "        \n",
    "        elif action < 0: # If our action is to sell, we will sell the percent dictated by the action of our investment\n",
    "            # and add it to our current balance\n",
    "            \n",
    "#             print('Investment before agent acts', self.current_investment)\n",
    "#             print('Balance before agent acts', self.current_balance)\n",
    "#             print('Net Worth before agent acts', self.net_worth)\n",
    "            \n",
    "            # Decreasing our investment and increasing our balance\n",
    "            self.current_balance = self.current_balance + np.abs(action)*self.current_investment # Adding to our balance\n",
    "            self.actions_taken.append('Sold '+str(action*self.current_investment)) # Logging our sell before\n",
    "            # we change the investment\n",
    "            self.current_investment = self.current_investment - np.abs(action)*self.current_investment # Removing that same amount from our investment\n",
    "            \n",
    "#             print('Investment after agent acts', self.current_investment)\n",
    "#             print('Balance after agent acts', self.current_balance)\n",
    "#             print('Net Worth after agent acts', self.net_worth)\n",
    "            \n",
    "            \n",
    "            # Now, the market will act and we will update our investment and overall net worth\n",
    "            self.current_investment = (1 + self.percent_change/100)*self.current_investment\n",
    "            self.net_worth = self.current_investment + self.current_balance # Our net worth\n",
    "            # will be our current balance plus our investment, which will change during this time slice by\n",
    "            # the percent change\n",
    "            \n",
    "#             print('Investment after market acts', self.current_investment)\n",
    "#             print('Balance after market acts', self.current_balance)\n",
    "#             print('Net Worth after market acts', self.net_worth)\n",
    "#         print('\\n')\n",
    "\n",
    "        # Reward        \n",
    "        reward = self.net_worth-self.prev_net_worth # Our reward is the change in our net worth\n",
    "        \n",
    "        # Updating our prev_net_worth\n",
    "        self.prev_net_worth = self.net_worth # Updating our prev_net_worth for the next time step\n",
    "\n",
    "        self.orders_history.append([self.net_worth]) # Adding our net worth to our orders_history\n",
    "        \n",
    "        # # Leave the market if we have lost half our money\n",
    "        # if self.net_worth <= self.initial_balance/2:\n",
    "        #     done = True\n",
    "        # else:\n",
    "        #     done = False\n",
    "            \n",
    "        # Stepping into the next state\n",
    "        if self.current_step == self.end_step:\n",
    "            # print('We are done stepping', self.current_step)\n",
    "            obs=[]\n",
    "            done = True\n",
    "        else:    \n",
    "            self.current_step += 1    \n",
    "            obs = self._next_observation() # Moves us to the next observation\n",
    "            done = False\n",
    "            \n",
    "        # Set net worths as info so we can retrieve it at the end\n",
    "        info = self.orders_history\n",
    "\n",
    "        return obs, reward, done, info\n",
    "\n",
    "    # render environment\n",
    "    def render(self, mode='human'): # 'mode=human' is required for the Keras-RL package\n",
    "        print(f'Step: {self.current_step}, Net Worth: {self.net_worth}')"
   ]
  },
  {
   "cell_type": "markdown",
   "metadata": {},
   "source": [
    "# Building the Agent"
   ]
  },
  {
   "cell_type": "markdown",
   "metadata": {},
   "source": [
    "## Random Games"
   ]
  },
  {
   "cell_type": "code",
   "execution_count": 8,
   "metadata": {},
   "outputs": [],
   "source": [
    "def Random_games(env, episodes = 50, batch_size=1000):\n",
    "    for episode in range(episodes): # Runs through however many number of training episodes\n",
    "        state = env.reset(env_steps_size = batch_size) # Sets the env_step_size to the batch size\n",
    "\n",
    "        while True:\n",
    "            # env.render()\n",
    "\n",
    "            action = np.random.uniform(-1, 1)\n",
    "            # print('Action ',action)\n",
    "\n",
    "            state, reward, done, info= env.step(action)\n",
    "            # print('Reward', reward)\n",
    "            if done == True:\n",
    "                break\n",
    "    return reward"
   ]
  },
  {
   "cell_type": "code",
   "execution_count": 9,
   "metadata": {},
   "outputs": [
    {
     "data": {
      "text/plain": [
       "0.24528082596998502"
      ]
     },
     "execution_count": 9,
     "metadata": {},
     "output_type": "execute_result"
    }
   ],
   "source": [
    "df=X_train\n",
    "y=y_train\n",
    "train_env = FinEnv(df, y)\n",
    "\n",
    "Random_games(train_env, episodes = 1, batch_size=0)"
   ]
  },
  {
   "cell_type": "markdown",
   "metadata": {},
   "source": [
    "## Build Policy Network (Actor)"
   ]
  },
  {
   "cell_type": "code",
   "execution_count": 10,
   "metadata": {},
   "outputs": [],
   "source": [
    "class Actor(nn.Module):\n",
    "    def __init__(self, state_dim, act_dim, act_limit):\n",
    "        super().__init__()\n",
    "        self.act_limit = act_limit\n",
    "        \n",
    "        \n",
    "        # Conv and Pooling Layer\n",
    "        self.conv_network = nn.Sequential()\n",
    "        self.conv_network.add_module('conv', nn.Conv2d(1, 64, kernel_size=3, stride=1, padding=0)) # 'Valid' padding\n",
    "        self.conv_network.add_module('tanh', nn.Tanh())\n",
    "        self.conv_network.add_module('avg_pool', nn.AvgPool2d(kernel_size=2, stride=2, padding=0))\n",
    "        self.conv_network.add_module('flatten', nn.Flatten())\n",
    "\n",
    "        self.fc_network = nn.Sequential()\n",
    "        self.fc_network.add_module('linear1', nn.Linear(2880, 512))\n",
    "        self.fc_network.add_module('tanh1', nn.Tanh())\n",
    "        self.fc_network.add_module('Dropout1', nn.Dropout(0.6))\n",
    "        self.fc_network.add_module('linear2', nn.Linear(512, 512))\n",
    "        self.fc_network.add_module('tanh2', nn.Tanh())\n",
    "        self.fc_network.add_module('Dropout2', nn.Dropout(0.6))\n",
    "        \n",
    "        self.actor = nn.Linear(512, act_dim)\n",
    "    \n",
    "    def forward(self, s):\n",
    "        # Because it keeps adding a dimension, we need to be careful that we always know how many\n",
    "        # dimensions we are feeding to our CNN\n",
    "        if len(s.shape) == 3:\n",
    "            state = torch.unsqueeze(s, 1)\n",
    "        if len(s.shape) == 4:\n",
    "            state = s\n",
    "        # Conv and Pool Layer\n",
    "        x = self.conv_network(state)\n",
    "        # MLP Layer\n",
    "        x = self.fc_network(x)\n",
    "        # Getting our Action\n",
    "        x = self.actor(x)\n",
    "        # Getting our Action in the form we want\n",
    "        x = torch.tanh(x)  # to output in range(-1,1)\n",
    "        x = self.act_limit * x\n",
    "        return x\n"
   ]
  },
  {
   "cell_type": "markdown",
   "metadata": {},
   "source": [
    "## Build Q-network Network (Critic)"
   ]
  },
  {
   "cell_type": "code",
   "execution_count": 11,
   "metadata": {},
   "outputs": [],
   "source": [
    "class QFunction(nn.Module):\n",
    "    def __init__(self, state_dim, act_dim):\n",
    "        super().__init__()\n",
    "        \n",
    "        # Conv and Pooling Layer\n",
    "        self.conv_network = nn.Sequential()\n",
    "        self.conv_network.add_module('conv', nn.Conv2d(1, 64, kernel_size=3, stride=1, padding=0)) # 'Valid' padding\n",
    "        self.conv_network.add_module('tanh', nn.Tanh())\n",
    "        self.conv_network.add_module('avg_pool', nn.AvgPool2d(kernel_size=2, stride=2, padding=0))\n",
    "        self.conv_network.add_module('flatten', nn.Flatten())\n",
    "\n",
    "        self.fc_network = nn.Sequential()\n",
    "        self.fc_network.add_module('linear1', nn.Linear(2880, 512))\n",
    "        self.fc_network.add_module('tanh1', nn.Tanh())\n",
    "        self.fc_network.add_module('Dropout1', nn.Dropout(0.6))\n",
    "        self.fc_network.add_module('linear2', nn.Linear(512, 512))\n",
    "        self.fc_network.add_module('tanh2', nn.Tanh())\n",
    "        self.fc_network.add_module('Dropout2', nn.Dropout(0.6))\n",
    "        \n",
    "        self.critic = nn.Linear(513, 1) # We added the Action at the end\n",
    "    \n",
    "    def forward(self, s, a):\n",
    "\n",
    "        # Conv and Pool Layer\n",
    "        y = self.conv_network(s)\n",
    "        # MLP Layer\n",
    "        y = self.fc_network(y)\n",
    "        # Adding our Action\n",
    "        y = torch.cat([y,a], dim=-1)\n",
    "        # Getting our critique\n",
    "        q = self.critic(y)\n",
    "        return torch.squeeze(q, -1)\n",
    "        "
   ]
  },
  {
   "cell_type": "markdown",
   "metadata": {},
   "source": [
    "## Combine Actor and Critic into a single model for T3D"
   ]
  },
  {
   "cell_type": "code",
   "execution_count": 12,
   "metadata": {},
   "outputs": [],
   "source": [
    "class ActorCritic(nn.Module):\n",
    "    def __init__(self, observation_space, action_space):\n",
    "        super().__init__()\n",
    "        self.state_dim = len(observation_space)\n",
    "        self.act_dim = action_space.shape[0]\n",
    "        self.act_limit = action_space.high[0]\n",
    "        \n",
    "        #build Q and policy functions\n",
    "        self.q1 = QFunction(self.state_dim, self.act_dim)\n",
    "        self.q2 = QFunction(self.state_dim, self.act_dim)\n",
    "        self.policy = Actor(self.state_dim, self.act_dim, self.act_limit)\n",
    "        \n",
    "    def act(self, state):\n",
    "        with torch.no_grad():\n",
    "            return self.policy(state).numpy()\n",
    "\n",
    "    def get_action(self, s, noise_scale):\n",
    "        a = self.act(torch.as_tensor(s, dtype=torch.float32))\n",
    "        a += noise_scale * np.random.randn(self.act_dim)\n",
    "        return np.clip(a, -self.act_limit, self.act_limit)\n",
    "        "
   ]
  },
  {
   "cell_type": "markdown",
   "metadata": {},
   "source": [
    "## Experience replay\n",
    "\n",
    "The interface to ReplayBuffer is:\n",
    "* `exp_replay.add(state, action, reward, next_state, done)` - saves (s,a,r,s',done) tuple into the buffer\n",
    "* `exp_replay.sample(batch_size)` - returns states, actions, rewards, next_states and done_flags for `batch_size` random samples.\n",
    "* `len(exp_replay)` - returns number of elements stored in replay buffer."
   ]
  },
  {
   "cell_type": "code",
   "execution_count": 13,
   "metadata": {},
   "outputs": [],
   "source": [
    "class ReplayBuffer:\n",
    "    def __init__(self, size=1e6):\n",
    "        self.size = size #max number of items in buffer\n",
    "        self.buffer =[] #array to hold buffer\n",
    "        self.next_id = 0\n",
    "    \n",
    "    def __len__(self):\n",
    "        return len(self.buffer)\n",
    "    \n",
    "    def add(self, state, action, reward, next_state, done):\n",
    "        item = (state, action, reward, next_state, done)\n",
    "        if len(self.buffer) < self.size:\n",
    "            self.buffer.append(item)\n",
    "        else:\n",
    "            self.buffer[self.next_id] = item\n",
    "        self.next_id = (self.next_id + 1) % self.size\n",
    "        \n",
    "    def sample(self, batch_size=32):\n",
    "        idxs = np.random.choice(len(self.buffer), batch_size)\n",
    "        samples = [self.buffer[i] for i in idxs]\n",
    "        states, actions, rewards, next_states, done_flags = list(zip(*samples))\n",
    "        rewards = [float(x) for x in rewards] # It is having a hard time converting from to a tensor\n",
    "        # unless we do this in the \"compute_td_loss\" cell.\n",
    "        states = np.array(states)\n",
    "        actions = [[float(x)] for x in actions] # Same idea as with the rewards\n",
    "        actions = np.array(actions)\n",
    "        rewards = np.array(rewards)\n",
    "        next_states = np.array(next_states)\n",
    "        done_flags = np.array(done_flags)\n",
    "        \n",
    "        \n",
    "        return states, actions, rewards, next_states, done_flags"
   ]
  },
  {
   "cell_type": "markdown",
   "metadata": {},
   "source": [
    "## Compute Q-loss"
   ]
  },
  {
   "cell_type": "code",
   "execution_count": 14,
   "metadata": {},
   "outputs": [],
   "source": [
    "\n",
    "def compute_q_loss(agent, target_network, states, actions, rewards, next_states, done_flags,\n",
    "                    gamma, target_noise, noise_clip, act_limit):\n",
    "    \n",
    "    # convert numpy array to torch tensors\n",
    "    states = torch.tensor(states, dtype=torch.float)\n",
    "    actions = torch.tensor(actions, dtype=torch.float)\n",
    "    rewards = torch.tensor(rewards, dtype=torch.float)\n",
    "    next_states = torch.tensor(next_states, dtype=torch.float)\n",
    "    done_flags = torch.tensor(done_flags.astype('float32'),dtype=torch.float)\n",
    "    \n",
    "    # get q-values for all actions in current states\n",
    "    # use agent network\n",
    "    q1 = agent.q1(states, actions)\n",
    "    q2 = agent.q2(states, actions)\n",
    "    \n",
    "    # Bellman backup for Q function\n",
    "    with torch.no_grad():\n",
    "        \n",
    "        action_target = target_network.policy(next_states)\n",
    "        \n",
    "        # Target policy smoothing\n",
    "        epsilon = torch.randn_like(action_target) * target_noise\n",
    "        epsilon = torch.clamp(epsilon, -noise_clip, noise_clip)\n",
    "        action_target = action_target + epsilon\n",
    "        action_target = torch.clamp(action_target, -act_limit, act_limit)\n",
    "            \n",
    "            \n",
    "        q1_target = target_network.q1(next_states, action_target)\n",
    "        q2_target = target_network.q2(next_states, action_target)\n",
    "        q_target = torch.min(q1_target, q2_target) \n",
    "        target = rewards + gamma * (1 - done_flags) * q_target\n",
    "\n",
    "    # MSE loss against Bellman backup\n",
    "    loss_q1 = ((q1 - target)**2).mean()\n",
    "    loss_q2 = ((q2 - target)**2).mean()\n",
    "    loss_q = loss_q1 + loss_q2\n",
    "    \n",
    "    return loss_q"
   ]
  },
  {
   "cell_type": "markdown",
   "metadata": {},
   "source": [
    "## Compute Policy-loss"
   ]
  },
  {
   "cell_type": "code",
   "execution_count": 15,
   "metadata": {},
   "outputs": [],
   "source": [
    "def compute_policy_loss(agent, states):\n",
    "    \n",
    "    # convert numpy array to torch tensors\n",
    "    states = torch.tensor(states, dtype=torch.float)\n",
    "    \n",
    "    q1_values = agent.q1(states, agent.policy(states))\n",
    "    \n",
    "    loss_policy = - q1_values.mean()\n",
    "    \n",
    "    return loss_policy"
   ]
  },
  {
   "cell_type": "markdown",
   "metadata": {},
   "source": [
    "## One step gradient Descent on both Policy (Actor) and Q-value (Critic)"
   ]
  },
  {
   "cell_type": "code",
   "execution_count": 16,
   "metadata": {},
   "outputs": [],
   "source": [
    "def one_step_update(agent, target_network, q_params, q_optimizer, policy_optimizer, \n",
    "                    states, actions, rewards, next_states, done_flags,\n",
    "                    gamma, polyak, target_noise, noise_clip, act_limit, \n",
    "                    policy_delay, timer):\n",
    "    \n",
    "    #one step gradient for q-values\n",
    "    q_optimizer.zero_grad()\n",
    "    loss_q = compute_q_loss(agent, target_network, states, actions, rewards, next_states, done_flags,\n",
    "                    gamma, target_noise, noise_clip, act_limit)\n",
    "    loss_q.backward()\n",
    "    q_optimizer.step()\n",
    "    \n",
    "    # Update policy and target networks after policy_delay updates of Q-networks\n",
    "    if timer % policy_delay == 0:\n",
    "        #Freeze Q-network\n",
    "        for params in q_params:\n",
    "            params.requires_grad = False\n",
    "\n",
    "        #one setep gradient for policy network\n",
    "        policy_optimizer.zero_grad()\n",
    "        loss_policy = compute_policy_loss(agent, states)\n",
    "        loss_policy.backward()\n",
    "        policy_optimizer.step()\n",
    "\n",
    "        #UnFreeze Q-network\n",
    "        for params in q_params:\n",
    "            params.requires_grad = True\n",
    "\n",
    "\n",
    "        # update target networks with polyak averaging\n",
    "        with torch.no_grad():\n",
    "            for params, params_target in zip(agent.parameters(), target_network.parameters()):\n",
    "                params_target.data.mul_(polyak)\n",
    "                params_target.data.add_((1-polyak)*params.data)\n",
    "    else:\n",
    "        loss_policy = []\n",
    "    return [loss_q, loss_policy]"
   ]
  },
  {
   "cell_type": "markdown",
   "metadata": {},
   "source": [
    "## Test performance of agent without any noise"
   ]
  },
  {
   "cell_type": "code",
   "execution_count": 17,
   "metadata": {},
   "outputs": [],
   "source": [
    "def test_agent(env, agent, num_test_episodes, max_ep_len):\n",
    "    ep_rets, ep_lens = [], []\n",
    "    for j in range(num_test_episodes):\n",
    "        state, done, ep_ret, ep_len = env.reset(), False, 0, 0\n",
    "        while not(done or (ep_len == max_ep_len)):\n",
    "            # Take deterministic actions at test time (noise_scale=0)\n",
    "            state, reward, done, _ = env.step(agent.get_action(state, 0))\n",
    "            ep_ret += reward\n",
    "            ep_len += 1\n",
    "        ep_rets.append(ep_ret)\n",
    "        ep_lens.append(ep_len)\n",
    "    return np.mean(ep_rets), np.mean(ep_lens)\n"
   ]
  },
  {
   "cell_type": "markdown",
   "metadata": {},
   "source": [
    "## T3D Algorithm\n",
    "\n",
    "We pull all the pieces together to train the agent"
   ]
  },
  {
   "cell_type": "code",
   "execution_count": 18,
   "metadata": {},
   "outputs": [],
   "source": [
    "# Note, we can set a seed, but we won't\n",
    "def td3(env_fn, \n",
    "         steps_per_epoch=1000, epochs=5, replay_size=int(1e6), gamma=1, \n",
    "         polyak=0.995, policy_lr=1e-5, q_lr=1e-5, batch_size=16, start_steps=10000, \n",
    "         update_after=100, update_every=50, act_noise=0.2, target_noise=0.1,\n",
    "         noise_clip=0.6, policy_delay=2, num_test_episodes=10, max_ep_len=100):\n",
    "    \n",
    "#     torch.manual_seed(seed)\n",
    "#     np.random.seed(seed)\n",
    "    q_losses = []\n",
    "    policy_losses = []\n",
    "    \n",
    "    env, test_env = env_fn(), env_fn()\n",
    "    \n",
    "    ep_rets, ep_lens = [], []\n",
    "\n",
    "    state_dim = env.observation_space.shape\n",
    "    act_dim = env.action_space.shape[0]\n",
    "    \n",
    "    act_limit = env.action_space.high[0]\n",
    "    \n",
    "    agent = ActorCritic(env.observation_space, env.action_space)\n",
    "    target_network = deepcopy(agent)\n",
    "    \n",
    "    \n",
    "    # Freeze target networks with respect to optimizers (only update via polyak averaging)\n",
    "    for params in target_network.parameters():\n",
    "        params.requires_grad = False\n",
    "    \n",
    "    \n",
    "    # Experience buffer\n",
    "    replay_buffer = ReplayBuffer(replay_size)\n",
    "    \n",
    "    # List of parameters for both Q-networks \n",
    "    q_params = itertools.chain(agent.q1.parameters(), agent.q2.parameters())\n",
    "\n",
    "    #optimizers\n",
    "    q_optimizer = Adam(q_params, lr=q_lr)\n",
    "    policy_optimizer = Adam(agent.policy.parameters(), lr=policy_lr)\n",
    "    \n",
    "    total_steps = steps_per_epoch*epochs\n",
    "    state, ep_ret, ep_len = env.reset(), 0, 0\n",
    "    \n",
    "    for t in range(total_steps):\n",
    "        if t > start_steps:\n",
    "            action = agent.get_action(state, act_noise)\n",
    "        else:\n",
    "            action = env.action_space.sample()\n",
    "            \n",
    "        next_state, reward, done, _ = env.step(action)\n",
    "        ep_ret += np.float(reward)\n",
    "        ep_len += 1\n",
    "        \n",
    "        # Ignore the \"done\" signal if it comes from hitting the time\n",
    "        # horizon (that is, when it's an artificial terminal signal\n",
    "        # that isn't based on the agent's state)\n",
    "        done = False if ep_len == max_ep_len else done\n",
    "        \n",
    "        # Store experience to replay buffer\n",
    "        replay_buffer.add(state, action, reward, next_state, done)\n",
    "        \n",
    "        state = next_state\n",
    "        \n",
    "        # End of trajectory handling\n",
    "        if done or (ep_len == max_ep_len):\n",
    "            ep_rets.append(ep_ret)\n",
    "            ep_lens.append(ep_len)\n",
    "            state, ep_ret, ep_len = env.reset(), 0, 0\n",
    "        \n",
    "        # Update handling\n",
    "        if t >= update_after and t % update_every == 0:\n",
    "            for j in range(update_every):\n",
    "                states, actions, rewards, next_states, done_flags = replay_buffer.sample(batch_size)\n",
    "                \n",
    "                loss = one_step_update(\n",
    "                        agent, target_network, q_params, q_optimizer, policy_optimizer, \n",
    "                        states, actions, rewards, next_states, done_flags,\n",
    "                        gamma, polyak, target_noise, noise_clip, act_limit, policy_delay, j\n",
    "                )\n",
    "                q_losses.append(loss[0])\n",
    "                policy_losses.append(loss[1])\n",
    "        \n",
    "        # End of epoch handling\n",
    "        if (t+1) % steps_per_epoch == 0:\n",
    "            epoch = (t+1) // steps_per_epoch\n",
    "            \n",
    "            avg_ret, avg_len = test_agent(test_env, agent, num_test_episodes, max_ep_len)\n",
    "            print(\"End of epoch: {:.0f}, Training Average Reward: {:.0f}, Training Average Length: {:.0f}\".format(epoch, np.mean(ep_rets), np.mean(ep_lens)))\n",
    "            print(\"End of epoch: {:.0f}, Test Average Reward: {:.0f}, Test Average Length: {:.0f}\".format(epoch, avg_ret, avg_len))\n",
    "            ep_rets, ep_lens = [], []\n",
    "    \n",
    "    return agent, q_losses, policy_losses"
   ]
  },
  {
   "cell_type": "markdown",
   "metadata": {},
   "source": [
    "### Train the agent"
   ]
  },
  {
   "cell_type": "code",
   "execution_count": 19,
   "metadata": {
    "scrolled": false
   },
   "outputs": [
    {
     "name": "stdout",
     "output_type": "stream",
     "text": [
      "Starting\n"
     ]
    },
    {
     "name": "stderr",
     "output_type": "stream",
     "text": [
      "C:\\Users\\chris\\anaconda3\\envs\\pytorch\\lib\\site-packages\\ipykernel_launcher.py:51: DeprecationWarning: `np.float` is a deprecated alias for the builtin `float`. To silence this warning, use `float` by itself. Doing this will not modify any behavior and is safe. If you specifically wanted the numpy scalar type, use `np.float64` here.\n",
      "Deprecated in NumPy 1.20; for more details and guidance: https://numpy.org/devdocs/release/1.20.0-notes.html#deprecations\n"
     ]
    },
    {
     "name": "stdout",
     "output_type": "stream",
     "text": [
      "End of epoch: 1, Training Average Reward: 18, Training Average Length: 100\n",
      "End of epoch: 1, Test Average Reward: 42, Test Average Length: 100\n",
      "End of epoch: 2, Training Average Reward: 19, Training Average Length: 100\n",
      "End of epoch: 2, Test Average Reward: 42, Test Average Length: 100\n",
      "End of epoch: 3, Training Average Reward: 11, Training Average Length: 100\n",
      "End of epoch: 3, Test Average Reward: 42, Test Average Length: 100\n",
      "End of epoch: 4, Training Average Reward: 11, Training Average Length: 100\n",
      "End of epoch: 4, Test Average Reward: 42, Test Average Length: 100\n",
      "End of epoch: 5, Training Average Reward: 20, Training Average Length: 100\n",
      "End of epoch: 5, Test Average Reward: 42, Test Average Length: 100\n",
      "This training took 326.9164559841156\n"
     ]
    }
   ],
   "source": [
    "np.warnings.filterwarnings('error', category=np.VisibleDeprecationWarning)\n",
    "start=time.time()\n",
    "print('Starting')\n",
    "agent, q_losses, policy_losses = td3(lambda : train_env)\n",
    "end=time.time()\n",
    "print('This training took', end-start)"
   ]
  },
  {
   "cell_type": "code",
   "execution_count": 20,
   "metadata": {},
   "outputs": [],
   "source": [
    "# Getting our two losses\n",
    "\n",
    "q_detached=[]\n",
    "for l in q_losses:\n",
    "    q_detached.append(l.detach())\n",
    "\n",
    "\n",
    "policy_detached=[]\n",
    "for l in policy_losses:\n",
    "    if l == []:\n",
    "        continue\n",
    "    else:\n",
    "        policy_detached.append(l.detach())"
   ]
  },
  {
   "cell_type": "code",
   "execution_count": 21,
   "metadata": {},
   "outputs": [
    {
     "data": {
      "text/plain": [
       "Text(0.5, 1.0, 'Q-Loss')"
      ]
     },
     "execution_count": 21,
     "metadata": {},
     "output_type": "execute_result"
    },
    {
     "data": {
      "image/png": "[encoded data removed]",
      "text/plain": [
       "<Figure size 1200x360 with 1 Axes>"
      ]
     },
     "metadata": {
      "needs_background": "light"
     },
     "output_type": "display_data"
    }
   ],
   "source": [
    "# Visualization of Q-loss\n",
    "\n",
    "plt.rcParams.update({'figure.figsize':(10,3), 'figure.dpi':120})\n",
    "plt.plot(q_detached, color='black')\n",
    "plt.title('Q-Loss')"
   ]
  },
  {
   "cell_type": "code",
   "execution_count": 22,
   "metadata": {},
   "outputs": [
    {
     "data": {
      "text/plain": [
       "Text(0.5, 1.0, 'Policy-Loss')"
      ]
     },
     "execution_count": 22,
     "metadata": {},
     "output_type": "execute_result"
    },
    {
     "data": {
      "image/png": "[encoded data removed]",
      "text/plain": [
       "<Figure size 1200x360 with 1 Axes>"
      ]
     },
     "metadata": {
      "needs_background": "light"
     },
     "output_type": "display_data"
    }
   ],
   "source": [
    "# Visualization of Policy-Loss\n",
    "\n",
    "plt.rcParams.update({'figure.figsize':(10,3), 'figure.dpi':120})\n",
    "plt.plot(policy_detached, color='black')\n",
    "plt.title('Policy-Loss')"
   ]
  },
  {
   "cell_type": "markdown",
   "metadata": {},
   "source": [
    "##### Performance Evaluation"
   ]
  },
  {
   "cell_type": "code",
   "execution_count": 23,
   "metadata": {},
   "outputs": [],
   "source": [
    "def test_agent_net_worths(env, agent, num_test_episodes, max_ep_len):\n",
    "    ep_rets, ep_lens = [], []\n",
    "    for j in range(num_test_episodes):\n",
    "        state, done, ep_ret, ep_len = env.reset(), False, 0, 0\n",
    "        while not(done or (ep_len == max_ep_len)):\n",
    "            # Take deterministic actions at test time (noise_scale=0)\n",
    "            state, reward, done, info = env.step(agent.get_action(state, 0))\n",
    "            ep_ret += reward\n",
    "            ep_len += 1\n",
    "        ep_rets.append(ep_ret)\n",
    "        ep_lens.append(ep_len)\n",
    "    return np.mean(ep_rets), np.mean(ep_lens), info\n"
   ]
  },
  {
   "cell_type": "markdown",
   "metadata": {},
   "source": [
    "### Training Environment"
   ]
  },
  {
   "cell_type": "code",
   "execution_count": 24,
   "metadata": {},
   "outputs": [
    {
     "name": "stdout",
     "output_type": "stream",
     "text": [
      "After 1 episodes/s of 26264 steps in the training environment, the agent produced an average reward of: 4003.4238\n"
     ]
    }
   ],
   "source": [
    "max_steps=len(X_train)\n",
    "num_episodes=1 # Given the deterministic nature of this algorithm and the environment, this doesn't matter, so we set\n",
    "# it to 1 for faster computation\n",
    "reward, ep_len, info = test_agent_net_worths(train_env, agent, num_episodes, max_steps)\n",
    "net_worths = [x[0][0] for x in info]\n",
    "print('After', num_episodes, 'episodes/s of', max_steps, 'steps in the training environment, the agent produced an average reward of:', reward)"
   ]
  },
  {
   "cell_type": "markdown",
   "metadata": {},
   "source": [
    "### Testing Environment"
   ]
  },
  {
   "cell_type": "code",
   "execution_count": 25,
   "metadata": {},
   "outputs": [],
   "source": [
    "df=X_test\n",
    "y=y_test\n",
    "max_steps=len(df)\n",
    "num_episodes=1\n",
    "test_env = FinEnv(df, y)\n",
    "\n",
    "reward, ep_len, info = test_agent_net_worths(test_env, agent, num_episodes, max_steps)\n",
    "net_worths = [x[0][0] for x in info]"
   ]
  },
  {
   "cell_type": "code",
   "execution_count": 26,
   "metadata": {},
   "outputs": [
    {
     "name": "stdout",
     "output_type": "stream",
     "text": [
      "Final portfolio value after 4368 steps is: 361.95886\n"
     ]
    },
    {
     "data": {
      "text/plain": [
       "Text(0.5, 1.0, 'Value of 1000 Dollar Investment')"
      ]
     },
     "execution_count": 26,
     "metadata": {},
     "output_type": "execute_result"
    },
    {
     "data": {
      "image/png": "[encoded data removed]",
      "text/plain": [
       "<Figure size 1200x360 with 1 Axes>"
      ]
     },
     "metadata": {
      "needs_background": "light"
     },
     "output_type": "display_data"
    }
   ],
   "source": [
    "print('Final portfolio value after', max_steps, 'steps is:', reward)\n",
    "plt.rcParams.update({'figure.figsize':(10,3), 'figure.dpi':120})\n",
    "plt.plot(net_worths, color='black')\n",
    "plt.title('Value of 1000 Dollar Investment')"
   ]
  },
  {
   "cell_type": "markdown",
   "metadata": {},
   "source": [
    "### Saving and Reloading the Agent"
   ]
  },
  {
   "cell_type": "code",
   "execution_count": 27,
   "metadata": {},
   "outputs": [],
   "source": [
    "torch.save(agent, 'Models/CNN T3D gamma_1 4 BTC.h5')"
   ]
  },
  {
   "cell_type": "code",
   "execution_count": 28,
   "metadata": {},
   "outputs": [
    {
     "data": {
      "text/plain": [
       "ActorCritic(\n",
       "  (q1): QFunction(\n",
       "    (conv_network): Sequential(\n",
       "      (conv): Conv2d(1, 64, kernel_size=(3, 3), stride=(1, 1))\n",
       "      (tanh): Tanh()\n",
       "      (avg_pool): AvgPool2d(kernel_size=2, stride=2, padding=0)\n",
       "      (flatten): Flatten(start_dim=1, end_dim=-1)\n",
       "    )\n",
       "    (fc_network): Sequential(\n",
       "      (linear1): Linear(in_features=2880, out_features=512, bias=True)\n",
       "      (tanh1): Tanh()\n",
       "      (Dropout1): Dropout(p=0.6, inplace=False)\n",
       "      (linear2): Linear(in_features=512, out_features=512, bias=True)\n",
       "      (tanh2): Tanh()\n",
       "      (Dropout2): Dropout(p=0.6, inplace=False)\n",
       "    )\n",
       "    (critic): Linear(in_features=513, out_features=1, bias=True)\n",
       "  )\n",
       "  (q2): QFunction(\n",
       "    (conv_network): Sequential(\n",
       "      (conv): Conv2d(1, 64, kernel_size=(3, 3), stride=(1, 1))\n",
       "      (tanh): Tanh()\n",
       "      (avg_pool): AvgPool2d(kernel_size=2, stride=2, padding=0)\n",
       "      (flatten): Flatten(start_dim=1, end_dim=-1)\n",
       "    )\n",
       "    (fc_network): Sequential(\n",
       "      (linear1): Linear(in_features=2880, out_features=512, bias=True)\n",
       "      (tanh1): Tanh()\n",
       "      (Dropout1): Dropout(p=0.6, inplace=False)\n",
       "      (linear2): Linear(in_features=512, out_features=512, bias=True)\n",
       "      (tanh2): Tanh()\n",
       "      (Dropout2): Dropout(p=0.6, inplace=False)\n",
       "    )\n",
       "    (critic): Linear(in_features=513, out_features=1, bias=True)\n",
       "  )\n",
       "  (policy): Actor(\n",
       "    (conv_network): Sequential(\n",
       "      (conv): Conv2d(1, 64, kernel_size=(3, 3), stride=(1, 1))\n",
       "      (tanh): Tanh()\n",
       "      (avg_pool): AvgPool2d(kernel_size=2, stride=2, padding=0)\n",
       "      (flatten): Flatten(start_dim=1, end_dim=-1)\n",
       "    )\n",
       "    (fc_network): Sequential(\n",
       "      (linear1): Linear(in_features=2880, out_features=512, bias=True)\n",
       "      (tanh1): Tanh()\n",
       "      (Dropout1): Dropout(p=0.6, inplace=False)\n",
       "      (linear2): Linear(in_features=512, out_features=512, bias=True)\n",
       "      (tanh2): Tanh()\n",
       "      (Dropout2): Dropout(p=0.6, inplace=False)\n",
       "    )\n",
       "    (actor): Linear(in_features=512, out_features=1, bias=True)\n",
       "  )\n",
       ")"
      ]
     },
     "execution_count": 28,
     "metadata": {},
     "output_type": "execute_result"
    }
   ],
   "source": [
    "agent = torch.load('Models/CNN T3D gamma_1 4 BTC.h5')\n",
    "agent.eval() "
   ]
  },
  {
   "cell_type": "markdown",
   "metadata": {},
   "source": [
    "### Model Evaluation"
   ]
  },
  {
   "cell_type": "code",
   "execution_count": 26,
   "metadata": {},
   "outputs": [],
   "source": [
    "# Models to evaluate\n",
    "\n",
    "models=['Models/CNN T3D gamma_0 BTC.h5', 'Models/CNN T3D gamma_0.15 BTC.h5', 'Models/CNN T3D gamma_0.25 BTC.h5',\n",
    "       'Models/CNN T3D gamma_0.35 BTC.h5', 'Models/CNN T3D gamma_0.5 BTC.h5', 'Models/CNN T3D gamma_0.75 BTC.h5',\n",
    "       'Models/CNN T3D gamma_0.8 BTC.h5', 'Models/CNN T3D gamma_0.9 BTC.h5', 'Models/CNN T3D gamma_0.95 BTC.h5',\n",
    "       'Models/CNN T3D gamma_1 BTC.h5']"
   ]
  },
  {
   "cell_type": "code",
   "execution_count": 28,
   "metadata": {},
   "outputs": [
    {
     "name": "stdout",
     "output_type": "stream",
     "text": [
      "Models/CNN T3D gamma_0 BTC.h5\n",
      "Average Rewards after 4368 steps in 1 game(s) is: 360.5282\n",
      "\n",
      "\n",
      "Models/CNN T3D gamma_0.15 BTC.h5\n",
      "Average Rewards after 4368 steps in 1 game(s) is: 341.59302\n",
      "\n",
      "\n",
      "Models/CNN T3D gamma_0.25 BTC.h5\n",
      "Average Rewards after 4368 steps in 1 game(s) is: 420.90283\n",
      "\n",
      "\n",
      "Models/CNN T3D gamma_0.35 BTC.h5\n",
      "Average Rewards after 4368 steps in 1 game(s) is: 356.8905\n",
      "\n",
      "\n",
      "Models/CNN T3D gamma_0.5 BTC.h5\n",
      "Average Rewards after 4368 steps in 1 game(s) is: 389.36694\n",
      "\n",
      "\n",
      "Models/CNN T3D gamma_0.75 BTC.h5\n",
      "Average Rewards after 4368 steps in 1 game(s) is: 350.11304\n",
      "\n",
      "\n",
      "Models/CNN T3D gamma_0.8 BTC.h5\n",
      "Average Rewards after 4368 steps in 1 game(s) is: 374.0857\n",
      "\n",
      "\n",
      "Models/CNN T3D gamma_0.9 BTC.h5\n",
      "Average Rewards after 4368 steps in 1 game(s) is: 346.01294\n",
      "\n",
      "\n",
      "Models/CNN T3D gamma_0.95 BTC.h5\n",
      "Average Rewards after 4368 steps in 1 game(s) is: 357.67896\n",
      "\n",
      "\n",
      "Models/CNN T3D gamma_1 BTC.h5\n",
      "Average Rewards after 4368 steps in 1 game(s) is: 420.7168\n",
      "\n",
      "\n"
     ]
    }
   ],
   "source": [
    "# Evaluating our models\n",
    "\n",
    "for model in models:\n",
    "    print(model)\n",
    "    agent = torch.load(model)\n",
    "    agent.eval()\n",
    "    df=X_test\n",
    "    y=y_test\n",
    "    max_length=len(df)\n",
    "    test_env = FinEnv(df, y)\n",
    "\n",
    "    n_games=1 # Given the deterministic nature of this algorithm and the environment, this doesn't matter, so we set\n",
    "# it to 1 for faster computation\n",
    "    t_max=max_length\n",
    "\n",
    "    reward, ep_len, info = test_agent_net_worths(test_env, agent, n_games, t_max)\n",
    "    \n",
    "    print('Average Rewards after',t_max, 'steps in', n_games, 'game(s) is:', reward)\n",
    "    print('\\n')\n"
   ]
  },
  {
   "cell_type": "markdown",
   "metadata": {},
   "source": [
    "We see the best $\\gamma=0.25$. However, $\\gamma=1$ and $\\gamma=0.5$ are close. We will try them, too."
   ]
  },
  {
   "cell_type": "code",
   "execution_count": 31,
   "metadata": {},
   "outputs": [],
   "source": [
    "# Models to evaluate\n",
    "\n",
    "models=['Models/CNN T3D gamma_0.25 BTC.h5', 'Models/CNN T3D gamma_0.25 2 BTC.h5',\n",
    "       'Models/CNN T3D gamma_0.25 3 BTC.h5', 'Models/CNN T3D gamma_0.25 4 BTC.h5']"
   ]
  },
  {
   "cell_type": "code",
   "execution_count": 32,
   "metadata": {},
   "outputs": [
    {
     "name": "stdout",
     "output_type": "stream",
     "text": [
      "Models/CNN T3D gamma_0.25 BTC.h5\n",
      "Average Rewards after 4368 steps in 1 game(s) is: 352.86316\n",
      "\n",
      "\n",
      "Models/CNN T3D gamma_0.25 2 BTC.h5\n",
      "Average Rewards after 4368 steps in 1 game(s) is: 374.08643\n",
      "\n",
      "\n",
      "Models/CNN T3D gamma_0.25 3 BTC.h5\n",
      "Average Rewards after 4368 steps in 1 game(s) is: 360.02393\n",
      "\n",
      "\n",
      "Models/CNN T3D gamma_0.25 4 BTC.h5\n",
      "Average Rewards after 4368 steps in 1 game(s) is: 330.4834\n",
      "\n",
      "\n"
     ]
    }
   ],
   "source": [
    "# Evaluating our models\n",
    "\n",
    "for model in models:\n",
    "    print(model)\n",
    "    agent = torch.load(model)\n",
    "    agent.eval()\n",
    "    df=X_test\n",
    "    y=y_test\n",
    "    max_length=len(df)\n",
    "    test_env = FinEnv(df, y)\n",
    "\n",
    "    n_games=1 # Given the deterministic nature of this algorithm and the environment, this doesn't matter, so we set\n",
    "# it to 1 for faster computation\n",
    "    t_max=max_length\n",
    "\n",
    "    reward, ep_len, info = test_agent_net_worths(test_env, agent, n_games, t_max)\n",
    "    \n",
    "    print('Average Rewards after',t_max, 'steps in', n_games, 'game(s) is:', reward)\n",
    "    print('\\n')\n"
   ]
  },
  {
   "cell_type": "code",
   "execution_count": 30,
   "metadata": {},
   "outputs": [],
   "source": [
    "# Models to evaluate\n",
    "\n",
    "models=['Models/CNN T3D gamma_0.5 BTC.h5', 'Models/CNN T3D gamma_0.5 2 BTC.h5',\n",
    "       'Models/CNN T3D gamma_0.5 3 BTC.h5', 'Models/CNN T3D gamma_0.5 4 BTC.h5']"
   ]
  },
  {
   "cell_type": "code",
   "execution_count": 31,
   "metadata": {},
   "outputs": [
    {
     "name": "stdout",
     "output_type": "stream",
     "text": [
      "Models/CNN T3D gamma_0.5 BTC.h5\n",
      "Average Rewards after 4368 steps in 1 game(s) is: 361.9519\n",
      "\n",
      "\n",
      "Models/CNN T3D gamma_0.5 2 BTC.h5\n",
      "Average Rewards after 4368 steps in 1 game(s) is: 430.60583\n",
      "\n",
      "\n",
      "Models/CNN T3D gamma_0.5 3 BTC.h5\n",
      "Average Rewards after 4368 steps in 1 game(s) is: 372.43628\n",
      "\n",
      "\n",
      "Models/CNN T3D gamma_0.5 4 BTC.h5\n",
      "Average Rewards after 4368 steps in 1 game(s) is: 386.47852\n",
      "\n",
      "\n"
     ]
    }
   ],
   "source": [
    "# Evaluating our models\n",
    "\n",
    "for model in models:\n",
    "    print(model)\n",
    "    agent = torch.load(model)\n",
    "    agent.eval()\n",
    "    df=X_test\n",
    "    y=y_test\n",
    "    max_length=len(df)\n",
    "    test_env = FinEnv(df, y)\n",
    "\n",
    "    n_games=1 # Given the deterministic nature of this algorithm and the environment, this doesn't matter, so we set\n",
    "# it to 1 for faster computation\n",
    "    t_max=max_length\n",
    "\n",
    "    reward, ep_len, info = test_agent_net_worths(test_env, agent, n_games, t_max)\n",
    "    \n",
    "    print('Average Rewards after',t_max, 'steps in', n_games, 'game(s) is:', reward)\n",
    "    print('\\n')\n"
   ]
  },
  {
   "cell_type": "code",
   "execution_count": 31,
   "metadata": {},
   "outputs": [],
   "source": [
    "# Models to evaluate\n",
    "\n",
    "models=['Models/CNN T3D gamma_1 BTC.h5', 'Models/CNN T3D gamma_1 2 BTC.h5',\n",
    "       'Models/CNN T3D gamma_1 3 BTC.h5', 'Models/CNN T3D gamma_1 4 BTC.h5']"
   ]
  },
  {
   "cell_type": "code",
   "execution_count": 32,
   "metadata": {},
   "outputs": [
    {
     "name": "stdout",
     "output_type": "stream",
     "text": [
      "Models/CNN T3D gamma_1 BTC.h5\n",
      "Average Rewards after 4368 steps in 1 game(s) is: 411.87732\n",
      "\n",
      "\n",
      "Models/CNN T3D gamma_1 2 BTC.h5\n",
      "Average Rewards after 4368 steps in 1 game(s) is: 352.92517\n",
      "\n",
      "\n",
      "Models/CNN T3D gamma_1 3 BTC.h5\n",
      "Average Rewards after 4368 steps in 1 game(s) is: 374.08997\n",
      "\n",
      "\n",
      "Models/CNN T3D gamma_1 4 BTC.h5\n",
      "Average Rewards after 4368 steps in 1 game(s) is: 364.53613\n",
      "\n",
      "\n"
     ]
    }
   ],
   "source": [
    "# Evaluating our models\n",
    "\n",
    "for model in models:\n",
    "    print(model)\n",
    "    agent = torch.load(model)\n",
    "    agent.eval()\n",
    "    df=X_test\n",
    "    y=y_test\n",
    "    max_length=len(df)\n",
    "    test_env = FinEnv(df, y)\n",
    "\n",
    "    n_games=1 # Given the deterministic nature of this algorithm and the environment, this doesn't matter, so we set\n",
    "# it to 1 for faster computation\n",
    "    t_max=max_length\n",
    "\n",
    "    reward, ep_len, info = test_agent_net_worths(test_env, agent, n_games, t_max)\n",
    "    \n",
    "    print('Average Rewards after',t_max, 'steps in', n_games, 'game(s) is:', reward)\n",
    "    print('\\n')\n"
   ]
  },
  {
   "cell_type": "code",
   "execution_count": null,
   "metadata": {},
   "outputs": [],
   "source": []
  }
 ],
 "metadata": {
  "kernelspec": {
   "display_name": "Python 3 (ipykernel)",
   "language": "python",
   "name": "python3"
  },
  "language_info": {
   "codemirror_mode": {
    "name": "ipython",
    "version": 3
   },
   "file_extension": ".py",
   "mimetype": "text/x-python",
   "name": "python",
   "nbconvert_exporter": "python",
   "pygments_lexer": "ipython3",
   "version": "3.7.11"
  },
  "toc": {
   "base_numbering": 1,
   "nav_menu": {},
   "number_sections": true,
   "sideBar": true,
   "skip_h1_title": false,
   "title_cell": "Table of Contents",
   "title_sidebar": "Contents",
   "toc_cell": false,
   "toc_position": {},
   "toc_section_display": true,
   "toc_window_display": true
  }
 },
 "nbformat": 4,
 "nbformat_minor": 4
}
